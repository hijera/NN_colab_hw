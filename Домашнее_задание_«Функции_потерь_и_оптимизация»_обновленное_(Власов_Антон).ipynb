{
  "nbformat": 4,
  "nbformat_minor": 0,
  "metadata": {
    "colab": {
      "provenance": [],
      "toc_visible": true,
      "authorship_tag": "ABX9TyP3G8DFqHAk5nu8vMPlcoWp",
      "include_colab_link": true
    },
    "kernelspec": {
      "name": "python3",
      "display_name": "Python 3"
    },
    "language_info": {
      "name": "python"
    }
  },
  "cells": [
    {
      "cell_type": "markdown",
      "metadata": {
        "id": "view-in-github",
        "colab_type": "text"
      },
      "source": [
        "<a href=\"https://colab.research.google.com/github/hijera/NN_colab_hw/blob/main/%D0%94%D0%BE%D0%BC%D0%B0%D1%88%D0%BD%D0%B5%D0%B5_%D0%B7%D0%B0%D0%B4%D0%B0%D0%BD%D0%B8%D0%B5_%C2%AB%D0%A4%D1%83%D0%BD%D0%BA%D1%86%D0%B8%D0%B8_%D0%BF%D0%BE%D1%82%D0%B5%D1%80%D1%8C_%D0%B8_%D0%BE%D0%BF%D1%82%D0%B8%D0%BC%D0%B8%D0%B7%D0%B0%D1%86%D0%B8%D1%8F%C2%BB_%D0%BE%D0%B1%D0%BD%D0%BE%D0%B2%D0%BB%D0%B5%D0%BD%D0%BD%D0%BE%D0%B5_(%D0%92%D0%BB%D0%B0%D1%81%D0%BE%D0%B2_%D0%90%D0%BD%D1%82%D0%BE%D0%BD).ipynb\" target=\"_parent\"><img src=\"https://colab.research.google.com/assets/colab-badge.svg\" alt=\"Open In Colab\"/></a>"
      ]
    },
    {
      "cell_type": "markdown",
      "source": [
        "# Подготовка данных"
      ],
      "metadata": {
        "id": "fFYxH5go5RHc"
      }
    },
    {
      "cell_type": "code",
      "execution_count": null,
      "metadata": {
        "id": "ccHNgnCI3_Bj"
      },
      "outputs": [],
      "source": [
        "import numpy as np\n",
        "import pandas as pd # Для работы с данными\n",
        "import scipy.stats\n",
        "import matplotlib.pyplot as plt\n",
        "import seaborn as sns\n",
        "import mpl_toolkits.mplot3d  # noqa: F401\n",
        "from pandas import DataFrame\n",
        "from sklearn import datasets\n",
        "iris =datasets.load_iris()\n",
        "from sklearn.model_selection import train_test_split\n",
        "import time"
      ]
    },
    {
      "cell_type": "code",
      "source": [
        "classes=iris.target_names\n",
        "classes # значения таргетных перменных"
      ],
      "metadata": {
        "colab": {
          "base_uri": "https://localhost:8080/"
        },
        "id": "bbBkGPI86MgK",
        "outputId": "5079e021-752b-4918-d1ac-1e33a4b025c0"
      },
      "execution_count": null,
      "outputs": [
        {
          "output_type": "execute_result",
          "data": {
            "text/plain": [
              "array(['setosa', 'versicolor', 'virginica'], dtype='<U10')"
            ]
          },
          "metadata": {},
          "execution_count": 2
        }
      ]
    },
    {
      "cell_type": "code",
      "source": [
        "iris.feature_names"
      ],
      "metadata": {
        "colab": {
          "base_uri": "https://localhost:8080/"
        },
        "id": "JDf-VYlE6RiR",
        "outputId": "d9751e7b-d4fe-455d-d655-152c28f58a38"
      },
      "execution_count": null,
      "outputs": [
        {
          "output_type": "execute_result",
          "data": {
            "text/plain": [
              "['sepal length (cm)',\n",
              " 'sepal width (cm)',\n",
              " 'petal length (cm)',\n",
              " 'petal width (cm)']"
            ]
          },
          "metadata": {},
          "execution_count": 3
        }
      ]
    },
    {
      "cell_type": "markdown",
      "source": [
        "Подгружаем в Pandas, фильтруем данные ,оставляя только 2 класса"
      ],
      "metadata": {
        "id": "-S947P4oLBsO"
      }
    },
    {
      "cell_type": "code",
      "source": [
        "data1 = pd.DataFrame(data= np.c_[iris['data'], iris['target']],\n",
        "                     columns= iris['feature_names'] + ['target'])\n",
        "iris_b=data1.loc[iris['target']!=0.0]\n",
        "iris_b.head(100)"
      ],
      "metadata": {
        "colab": {
          "base_uri": "https://localhost:8080/",
          "height": 424
        },
        "id": "DcOdHfrdLI-r",
        "outputId": "f25ae9ad-01ce-431c-e96f-db2cf0205d0b"
      },
      "execution_count": null,
      "outputs": [
        {
          "output_type": "execute_result",
          "data": {
            "text/plain": [
              "     sepal length (cm)  sepal width (cm)  petal length (cm)  petal width (cm)  \\\n",
              "50                 7.0               3.2                4.7               1.4   \n",
              "51                 6.4               3.2                4.5               1.5   \n",
              "52                 6.9               3.1                4.9               1.5   \n",
              "53                 5.5               2.3                4.0               1.3   \n",
              "54                 6.5               2.8                4.6               1.5   \n",
              "..                 ...               ...                ...               ...   \n",
              "145                6.7               3.0                5.2               2.3   \n",
              "146                6.3               2.5                5.0               1.9   \n",
              "147                6.5               3.0                5.2               2.0   \n",
              "148                6.2               3.4                5.4               2.3   \n",
              "149                5.9               3.0                5.1               1.8   \n",
              "\n",
              "     target  \n",
              "50      1.0  \n",
              "51      1.0  \n",
              "52      1.0  \n",
              "53      1.0  \n",
              "54      1.0  \n",
              "..      ...  \n",
              "145     2.0  \n",
              "146     2.0  \n",
              "147     2.0  \n",
              "148     2.0  \n",
              "149     2.0  \n",
              "\n",
              "[100 rows x 5 columns]"
            ],
            "text/html": [
              "\n",
              "\n",
              "  <div id=\"df-1ea51313-66bf-4375-aed0-b199895499d0\">\n",
              "    <div class=\"colab-df-container\">\n",
              "      <div>\n",
              "<style scoped>\n",
              "    .dataframe tbody tr th:only-of-type {\n",
              "        vertical-align: middle;\n",
              "    }\n",
              "\n",
              "    .dataframe tbody tr th {\n",
              "        vertical-align: top;\n",
              "    }\n",
              "\n",
              "    .dataframe thead th {\n",
              "        text-align: right;\n",
              "    }\n",
              "</style>\n",
              "<table border=\"1\" class=\"dataframe\">\n",
              "  <thead>\n",
              "    <tr style=\"text-align: right;\">\n",
              "      <th></th>\n",
              "      <th>sepal length (cm)</th>\n",
              "      <th>sepal width (cm)</th>\n",
              "      <th>petal length (cm)</th>\n",
              "      <th>petal width (cm)</th>\n",
              "      <th>target</th>\n",
              "    </tr>\n",
              "  </thead>\n",
              "  <tbody>\n",
              "    <tr>\n",
              "      <th>50</th>\n",
              "      <td>7.0</td>\n",
              "      <td>3.2</td>\n",
              "      <td>4.7</td>\n",
              "      <td>1.4</td>\n",
              "      <td>1.0</td>\n",
              "    </tr>\n",
              "    <tr>\n",
              "      <th>51</th>\n",
              "      <td>6.4</td>\n",
              "      <td>3.2</td>\n",
              "      <td>4.5</td>\n",
              "      <td>1.5</td>\n",
              "      <td>1.0</td>\n",
              "    </tr>\n",
              "    <tr>\n",
              "      <th>52</th>\n",
              "      <td>6.9</td>\n",
              "      <td>3.1</td>\n",
              "      <td>4.9</td>\n",
              "      <td>1.5</td>\n",
              "      <td>1.0</td>\n",
              "    </tr>\n",
              "    <tr>\n",
              "      <th>53</th>\n",
              "      <td>5.5</td>\n",
              "      <td>2.3</td>\n",
              "      <td>4.0</td>\n",
              "      <td>1.3</td>\n",
              "      <td>1.0</td>\n",
              "    </tr>\n",
              "    <tr>\n",
              "      <th>54</th>\n",
              "      <td>6.5</td>\n",
              "      <td>2.8</td>\n",
              "      <td>4.6</td>\n",
              "      <td>1.5</td>\n",
              "      <td>1.0</td>\n",
              "    </tr>\n",
              "    <tr>\n",
              "      <th>...</th>\n",
              "      <td>...</td>\n",
              "      <td>...</td>\n",
              "      <td>...</td>\n",
              "      <td>...</td>\n",
              "      <td>...</td>\n",
              "    </tr>\n",
              "    <tr>\n",
              "      <th>145</th>\n",
              "      <td>6.7</td>\n",
              "      <td>3.0</td>\n",
              "      <td>5.2</td>\n",
              "      <td>2.3</td>\n",
              "      <td>2.0</td>\n",
              "    </tr>\n",
              "    <tr>\n",
              "      <th>146</th>\n",
              "      <td>6.3</td>\n",
              "      <td>2.5</td>\n",
              "      <td>5.0</td>\n",
              "      <td>1.9</td>\n",
              "      <td>2.0</td>\n",
              "    </tr>\n",
              "    <tr>\n",
              "      <th>147</th>\n",
              "      <td>6.5</td>\n",
              "      <td>3.0</td>\n",
              "      <td>5.2</td>\n",
              "      <td>2.0</td>\n",
              "      <td>2.0</td>\n",
              "    </tr>\n",
              "    <tr>\n",
              "      <th>148</th>\n",
              "      <td>6.2</td>\n",
              "      <td>3.4</td>\n",
              "      <td>5.4</td>\n",
              "      <td>2.3</td>\n",
              "      <td>2.0</td>\n",
              "    </tr>\n",
              "    <tr>\n",
              "      <th>149</th>\n",
              "      <td>5.9</td>\n",
              "      <td>3.0</td>\n",
              "      <td>5.1</td>\n",
              "      <td>1.8</td>\n",
              "      <td>2.0</td>\n",
              "    </tr>\n",
              "  </tbody>\n",
              "</table>\n",
              "<p>100 rows × 5 columns</p>\n",
              "</div>\n",
              "      <button class=\"colab-df-convert\" onclick=\"convertToInteractive('df-1ea51313-66bf-4375-aed0-b199895499d0')\"\n",
              "              title=\"Convert this dataframe to an interactive table.\"\n",
              "              style=\"display:none;\">\n",
              "\n",
              "  <svg xmlns=\"http://www.w3.org/2000/svg\" height=\"24px\"viewBox=\"0 0 24 24\"\n",
              "       width=\"24px\">\n",
              "    <path d=\"M0 0h24v24H0V0z\" fill=\"none\"/>\n",
              "    <path d=\"M18.56 5.44l.94 2.06.94-2.06 2.06-.94-2.06-.94-.94-2.06-.94 2.06-2.06.94zm-11 1L8.5 8.5l.94-2.06 2.06-.94-2.06-.94L8.5 2.5l-.94 2.06-2.06.94zm10 10l.94 2.06.94-2.06 2.06-.94-2.06-.94-.94-2.06-.94 2.06-2.06.94z\"/><path d=\"M17.41 7.96l-1.37-1.37c-.4-.4-.92-.59-1.43-.59-.52 0-1.04.2-1.43.59L10.3 9.45l-7.72 7.72c-.78.78-.78 2.05 0 2.83L4 21.41c.39.39.9.59 1.41.59.51 0 1.02-.2 1.41-.59l7.78-7.78 2.81-2.81c.8-.78.8-2.07 0-2.86zM5.41 20L4 18.59l7.72-7.72 1.47 1.35L5.41 20z\"/>\n",
              "  </svg>\n",
              "      </button>\n",
              "\n",
              "\n",
              "\n",
              "    <div id=\"df-9b7bcd23-abaa-42c3-866e-c125bf1b174d\">\n",
              "      <button class=\"colab-df-quickchart\" onclick=\"quickchart('df-9b7bcd23-abaa-42c3-866e-c125bf1b174d')\"\n",
              "              title=\"Suggest charts.\"\n",
              "              style=\"display:none;\">\n",
              "\n",
              "<svg xmlns=\"http://www.w3.org/2000/svg\" height=\"24px\"viewBox=\"0 0 24 24\"\n",
              "     width=\"24px\">\n",
              "    <g>\n",
              "        <path d=\"M19 3H5c-1.1 0-2 .9-2 2v14c0 1.1.9 2 2 2h14c1.1 0 2-.9 2-2V5c0-1.1-.9-2-2-2zM9 17H7v-7h2v7zm4 0h-2V7h2v10zm4 0h-2v-4h2v4z\"/>\n",
              "    </g>\n",
              "</svg>\n",
              "      </button>\n",
              "    </div>\n",
              "\n",
              "<style>\n",
              "  .colab-df-quickchart {\n",
              "    background-color: #E8F0FE;\n",
              "    border: none;\n",
              "    border-radius: 50%;\n",
              "    cursor: pointer;\n",
              "    display: none;\n",
              "    fill: #1967D2;\n",
              "    height: 32px;\n",
              "    padding: 0 0 0 0;\n",
              "    width: 32px;\n",
              "  }\n",
              "\n",
              "  .colab-df-quickchart:hover {\n",
              "    background-color: #E2EBFA;\n",
              "    box-shadow: 0px 1px 2px rgba(60, 64, 67, 0.3), 0px 1px 3px 1px rgba(60, 64, 67, 0.15);\n",
              "    fill: #174EA6;\n",
              "  }\n",
              "\n",
              "  [theme=dark] .colab-df-quickchart {\n",
              "    background-color: #3B4455;\n",
              "    fill: #D2E3FC;\n",
              "  }\n",
              "\n",
              "  [theme=dark] .colab-df-quickchart:hover {\n",
              "    background-color: #434B5C;\n",
              "    box-shadow: 0px 1px 3px 1px rgba(0, 0, 0, 0.15);\n",
              "    filter: drop-shadow(0px 1px 2px rgba(0, 0, 0, 0.3));\n",
              "    fill: #FFFFFF;\n",
              "  }\n",
              "</style>\n",
              "\n",
              "    <script>\n",
              "      async function quickchart(key) {\n",
              "        const containerElement = document.querySelector('#' + key);\n",
              "        const charts = await google.colab.kernel.invokeFunction(\n",
              "            'suggestCharts', [key], {});\n",
              "      }\n",
              "    </script>\n",
              "\n",
              "      <script>\n",
              "\n",
              "function displayQuickchartButton(domScope) {\n",
              "  let quickchartButtonEl =\n",
              "    domScope.querySelector('#df-9b7bcd23-abaa-42c3-866e-c125bf1b174d button.colab-df-quickchart');\n",
              "  quickchartButtonEl.style.display =\n",
              "    google.colab.kernel.accessAllowed ? 'block' : 'none';\n",
              "}\n",
              "\n",
              "        displayQuickchartButton(document);\n",
              "      </script>\n",
              "      <style>\n",
              "    .colab-df-container {\n",
              "      display:flex;\n",
              "      flex-wrap:wrap;\n",
              "      gap: 12px;\n",
              "    }\n",
              "\n",
              "    .colab-df-convert {\n",
              "      background-color: #E8F0FE;\n",
              "      border: none;\n",
              "      border-radius: 50%;\n",
              "      cursor: pointer;\n",
              "      display: none;\n",
              "      fill: #1967D2;\n",
              "      height: 32px;\n",
              "      padding: 0 0 0 0;\n",
              "      width: 32px;\n",
              "    }\n",
              "\n",
              "    .colab-df-convert:hover {\n",
              "      background-color: #E2EBFA;\n",
              "      box-shadow: 0px 1px 2px rgba(60, 64, 67, 0.3), 0px 1px 3px 1px rgba(60, 64, 67, 0.15);\n",
              "      fill: #174EA6;\n",
              "    }\n",
              "\n",
              "    [theme=dark] .colab-df-convert {\n",
              "      background-color: #3B4455;\n",
              "      fill: #D2E3FC;\n",
              "    }\n",
              "\n",
              "    [theme=dark] .colab-df-convert:hover {\n",
              "      background-color: #434B5C;\n",
              "      box-shadow: 0px 1px 3px 1px rgba(0, 0, 0, 0.15);\n",
              "      filter: drop-shadow(0px 1px 2px rgba(0, 0, 0, 0.3));\n",
              "      fill: #FFFFFF;\n",
              "    }\n",
              "  </style>\n",
              "\n",
              "      <script>\n",
              "        const buttonEl =\n",
              "          document.querySelector('#df-1ea51313-66bf-4375-aed0-b199895499d0 button.colab-df-convert');\n",
              "        buttonEl.style.display =\n",
              "          google.colab.kernel.accessAllowed ? 'block' : 'none';\n",
              "\n",
              "        async function convertToInteractive(key) {\n",
              "          const element = document.querySelector('#df-1ea51313-66bf-4375-aed0-b199895499d0');\n",
              "          const dataTable =\n",
              "            await google.colab.kernel.invokeFunction('convertToInteractive',\n",
              "                                                     [key], {});\n",
              "          if (!dataTable) return;\n",
              "\n",
              "          const docLinkHtml = 'Like what you see? Visit the ' +\n",
              "            '<a target=\"_blank\" href=https://colab.research.google.com/notebooks/data_table.ipynb>data table notebook</a>'\n",
              "            + ' to learn more about interactive tables.';\n",
              "          element.innerHTML = '';\n",
              "          dataTable['output_type'] = 'display_data';\n",
              "          await google.colab.output.renderOutput(dataTable, element);\n",
              "          const docLink = document.createElement('div');\n",
              "          docLink.innerHTML = docLinkHtml;\n",
              "          element.appendChild(docLink);\n",
              "        }\n",
              "      </script>\n",
              "    </div>\n",
              "  </div>\n"
            ]
          },
          "metadata": {},
          "execution_count": 4
        }
      ]
    },
    {
      "cell_type": "code",
      "source": [
        "X = iris_b[['sepal length (cm)', 'sepal width (cm)', 'petal length (cm)','petal width (cm)']] # забираем данные из датасета\n",
        "Y = iris_b[['target']]\n",
        "X.index = np.arange(0, len(X))#Перенумеровываем с 0\n",
        "X"
      ],
      "metadata": {
        "colab": {
          "base_uri": "https://localhost:8080/",
          "height": 424
        },
        "id": "vmSfkebOPyI-",
        "outputId": "f7c4166c-f1aa-44c3-8ea9-200d6c94c645"
      },
      "execution_count": null,
      "outputs": [
        {
          "output_type": "execute_result",
          "data": {
            "text/plain": [
              "    sepal length (cm)  sepal width (cm)  petal length (cm)  petal width (cm)\n",
              "0                 7.0               3.2                4.7               1.4\n",
              "1                 6.4               3.2                4.5               1.5\n",
              "2                 6.9               3.1                4.9               1.5\n",
              "3                 5.5               2.3                4.0               1.3\n",
              "4                 6.5               2.8                4.6               1.5\n",
              "..                ...               ...                ...               ...\n",
              "95                6.7               3.0                5.2               2.3\n",
              "96                6.3               2.5                5.0               1.9\n",
              "97                6.5               3.0                5.2               2.0\n",
              "98                6.2               3.4                5.4               2.3\n",
              "99                5.9               3.0                5.1               1.8\n",
              "\n",
              "[100 rows x 4 columns]"
            ],
            "text/html": [
              "\n",
              "\n",
              "  <div id=\"df-678d792b-477f-4b8c-89ab-8320f5eb4635\">\n",
              "    <div class=\"colab-df-container\">\n",
              "      <div>\n",
              "<style scoped>\n",
              "    .dataframe tbody tr th:only-of-type {\n",
              "        vertical-align: middle;\n",
              "    }\n",
              "\n",
              "    .dataframe tbody tr th {\n",
              "        vertical-align: top;\n",
              "    }\n",
              "\n",
              "    .dataframe thead th {\n",
              "        text-align: right;\n",
              "    }\n",
              "</style>\n",
              "<table border=\"1\" class=\"dataframe\">\n",
              "  <thead>\n",
              "    <tr style=\"text-align: right;\">\n",
              "      <th></th>\n",
              "      <th>sepal length (cm)</th>\n",
              "      <th>sepal width (cm)</th>\n",
              "      <th>petal length (cm)</th>\n",
              "      <th>petal width (cm)</th>\n",
              "    </tr>\n",
              "  </thead>\n",
              "  <tbody>\n",
              "    <tr>\n",
              "      <th>0</th>\n",
              "      <td>7.0</td>\n",
              "      <td>3.2</td>\n",
              "      <td>4.7</td>\n",
              "      <td>1.4</td>\n",
              "    </tr>\n",
              "    <tr>\n",
              "      <th>1</th>\n",
              "      <td>6.4</td>\n",
              "      <td>3.2</td>\n",
              "      <td>4.5</td>\n",
              "      <td>1.5</td>\n",
              "    </tr>\n",
              "    <tr>\n",
              "      <th>2</th>\n",
              "      <td>6.9</td>\n",
              "      <td>3.1</td>\n",
              "      <td>4.9</td>\n",
              "      <td>1.5</td>\n",
              "    </tr>\n",
              "    <tr>\n",
              "      <th>3</th>\n",
              "      <td>5.5</td>\n",
              "      <td>2.3</td>\n",
              "      <td>4.0</td>\n",
              "      <td>1.3</td>\n",
              "    </tr>\n",
              "    <tr>\n",
              "      <th>4</th>\n",
              "      <td>6.5</td>\n",
              "      <td>2.8</td>\n",
              "      <td>4.6</td>\n",
              "      <td>1.5</td>\n",
              "    </tr>\n",
              "    <tr>\n",
              "      <th>...</th>\n",
              "      <td>...</td>\n",
              "      <td>...</td>\n",
              "      <td>...</td>\n",
              "      <td>...</td>\n",
              "    </tr>\n",
              "    <tr>\n",
              "      <th>95</th>\n",
              "      <td>6.7</td>\n",
              "      <td>3.0</td>\n",
              "      <td>5.2</td>\n",
              "      <td>2.3</td>\n",
              "    </tr>\n",
              "    <tr>\n",
              "      <th>96</th>\n",
              "      <td>6.3</td>\n",
              "      <td>2.5</td>\n",
              "      <td>5.0</td>\n",
              "      <td>1.9</td>\n",
              "    </tr>\n",
              "    <tr>\n",
              "      <th>97</th>\n",
              "      <td>6.5</td>\n",
              "      <td>3.0</td>\n",
              "      <td>5.2</td>\n",
              "      <td>2.0</td>\n",
              "    </tr>\n",
              "    <tr>\n",
              "      <th>98</th>\n",
              "      <td>6.2</td>\n",
              "      <td>3.4</td>\n",
              "      <td>5.4</td>\n",
              "      <td>2.3</td>\n",
              "    </tr>\n",
              "    <tr>\n",
              "      <th>99</th>\n",
              "      <td>5.9</td>\n",
              "      <td>3.0</td>\n",
              "      <td>5.1</td>\n",
              "      <td>1.8</td>\n",
              "    </tr>\n",
              "  </tbody>\n",
              "</table>\n",
              "<p>100 rows × 4 columns</p>\n",
              "</div>\n",
              "      <button class=\"colab-df-convert\" onclick=\"convertToInteractive('df-678d792b-477f-4b8c-89ab-8320f5eb4635')\"\n",
              "              title=\"Convert this dataframe to an interactive table.\"\n",
              "              style=\"display:none;\">\n",
              "\n",
              "  <svg xmlns=\"http://www.w3.org/2000/svg\" height=\"24px\"viewBox=\"0 0 24 24\"\n",
              "       width=\"24px\">\n",
              "    <path d=\"M0 0h24v24H0V0z\" fill=\"none\"/>\n",
              "    <path d=\"M18.56 5.44l.94 2.06.94-2.06 2.06-.94-2.06-.94-.94-2.06-.94 2.06-2.06.94zm-11 1L8.5 8.5l.94-2.06 2.06-.94-2.06-.94L8.5 2.5l-.94 2.06-2.06.94zm10 10l.94 2.06.94-2.06 2.06-.94-2.06-.94-.94-2.06-.94 2.06-2.06.94z\"/><path d=\"M17.41 7.96l-1.37-1.37c-.4-.4-.92-.59-1.43-.59-.52 0-1.04.2-1.43.59L10.3 9.45l-7.72 7.72c-.78.78-.78 2.05 0 2.83L4 21.41c.39.39.9.59 1.41.59.51 0 1.02-.2 1.41-.59l7.78-7.78 2.81-2.81c.8-.78.8-2.07 0-2.86zM5.41 20L4 18.59l7.72-7.72 1.47 1.35L5.41 20z\"/>\n",
              "  </svg>\n",
              "      </button>\n",
              "\n",
              "\n",
              "\n",
              "    <div id=\"df-b6ebfa71-1dba-4041-b62a-ba9d4c790ce0\">\n",
              "      <button class=\"colab-df-quickchart\" onclick=\"quickchart('df-b6ebfa71-1dba-4041-b62a-ba9d4c790ce0')\"\n",
              "              title=\"Suggest charts.\"\n",
              "              style=\"display:none;\">\n",
              "\n",
              "<svg xmlns=\"http://www.w3.org/2000/svg\" height=\"24px\"viewBox=\"0 0 24 24\"\n",
              "     width=\"24px\">\n",
              "    <g>\n",
              "        <path d=\"M19 3H5c-1.1 0-2 .9-2 2v14c0 1.1.9 2 2 2h14c1.1 0 2-.9 2-2V5c0-1.1-.9-2-2-2zM9 17H7v-7h2v7zm4 0h-2V7h2v10zm4 0h-2v-4h2v4z\"/>\n",
              "    </g>\n",
              "</svg>\n",
              "      </button>\n",
              "    </div>\n",
              "\n",
              "<style>\n",
              "  .colab-df-quickchart {\n",
              "    background-color: #E8F0FE;\n",
              "    border: none;\n",
              "    border-radius: 50%;\n",
              "    cursor: pointer;\n",
              "    display: none;\n",
              "    fill: #1967D2;\n",
              "    height: 32px;\n",
              "    padding: 0 0 0 0;\n",
              "    width: 32px;\n",
              "  }\n",
              "\n",
              "  .colab-df-quickchart:hover {\n",
              "    background-color: #E2EBFA;\n",
              "    box-shadow: 0px 1px 2px rgba(60, 64, 67, 0.3), 0px 1px 3px 1px rgba(60, 64, 67, 0.15);\n",
              "    fill: #174EA6;\n",
              "  }\n",
              "\n",
              "  [theme=dark] .colab-df-quickchart {\n",
              "    background-color: #3B4455;\n",
              "    fill: #D2E3FC;\n",
              "  }\n",
              "\n",
              "  [theme=dark] .colab-df-quickchart:hover {\n",
              "    background-color: #434B5C;\n",
              "    box-shadow: 0px 1px 3px 1px rgba(0, 0, 0, 0.15);\n",
              "    filter: drop-shadow(0px 1px 2px rgba(0, 0, 0, 0.3));\n",
              "    fill: #FFFFFF;\n",
              "  }\n",
              "</style>\n",
              "\n",
              "    <script>\n",
              "      async function quickchart(key) {\n",
              "        const containerElement = document.querySelector('#' + key);\n",
              "        const charts = await google.colab.kernel.invokeFunction(\n",
              "            'suggestCharts', [key], {});\n",
              "      }\n",
              "    </script>\n",
              "\n",
              "      <script>\n",
              "\n",
              "function displayQuickchartButton(domScope) {\n",
              "  let quickchartButtonEl =\n",
              "    domScope.querySelector('#df-b6ebfa71-1dba-4041-b62a-ba9d4c790ce0 button.colab-df-quickchart');\n",
              "  quickchartButtonEl.style.display =\n",
              "    google.colab.kernel.accessAllowed ? 'block' : 'none';\n",
              "}\n",
              "\n",
              "        displayQuickchartButton(document);\n",
              "      </script>\n",
              "      <style>\n",
              "    .colab-df-container {\n",
              "      display:flex;\n",
              "      flex-wrap:wrap;\n",
              "      gap: 12px;\n",
              "    }\n",
              "\n",
              "    .colab-df-convert {\n",
              "      background-color: #E8F0FE;\n",
              "      border: none;\n",
              "      border-radius: 50%;\n",
              "      cursor: pointer;\n",
              "      display: none;\n",
              "      fill: #1967D2;\n",
              "      height: 32px;\n",
              "      padding: 0 0 0 0;\n",
              "      width: 32px;\n",
              "    }\n",
              "\n",
              "    .colab-df-convert:hover {\n",
              "      background-color: #E2EBFA;\n",
              "      box-shadow: 0px 1px 2px rgba(60, 64, 67, 0.3), 0px 1px 3px 1px rgba(60, 64, 67, 0.15);\n",
              "      fill: #174EA6;\n",
              "    }\n",
              "\n",
              "    [theme=dark] .colab-df-convert {\n",
              "      background-color: #3B4455;\n",
              "      fill: #D2E3FC;\n",
              "    }\n",
              "\n",
              "    [theme=dark] .colab-df-convert:hover {\n",
              "      background-color: #434B5C;\n",
              "      box-shadow: 0px 1px 3px 1px rgba(0, 0, 0, 0.15);\n",
              "      filter: drop-shadow(0px 1px 2px rgba(0, 0, 0, 0.3));\n",
              "      fill: #FFFFFF;\n",
              "    }\n",
              "  </style>\n",
              "\n",
              "      <script>\n",
              "        const buttonEl =\n",
              "          document.querySelector('#df-678d792b-477f-4b8c-89ab-8320f5eb4635 button.colab-df-convert');\n",
              "        buttonEl.style.display =\n",
              "          google.colab.kernel.accessAllowed ? 'block' : 'none';\n",
              "\n",
              "        async function convertToInteractive(key) {\n",
              "          const element = document.querySelector('#df-678d792b-477f-4b8c-89ab-8320f5eb4635');\n",
              "          const dataTable =\n",
              "            await google.colab.kernel.invokeFunction('convertToInteractive',\n",
              "                                                     [key], {});\n",
              "          if (!dataTable) return;\n",
              "\n",
              "          const docLinkHtml = 'Like what you see? Visit the ' +\n",
              "            '<a target=\"_blank\" href=https://colab.research.google.com/notebooks/data_table.ipynb>data table notebook</a>'\n",
              "            + ' to learn more about interactive tables.';\n",
              "          element.innerHTML = '';\n",
              "          dataTable['output_type'] = 'display_data';\n",
              "          await google.colab.output.renderOutput(dataTable, element);\n",
              "          const docLink = document.createElement('div');\n",
              "          docLink.innerHTML = docLinkHtml;\n",
              "          element.appendChild(docLink);\n",
              "        }\n",
              "      </script>\n",
              "    </div>\n",
              "  </div>\n"
            ]
          },
          "metadata": {},
          "execution_count": 5
        }
      ]
    },
    {
      "cell_type": "code",
      "source": [
        "Xarr=X.to_numpy()\n",
        "Xarr[1]"
      ],
      "metadata": {
        "colab": {
          "base_uri": "https://localhost:8080/"
        },
        "id": "OG9AEF0pX4JU",
        "outputId": "d1bbfbe9-fabe-4ea3-84ae-ab8ca84de2d0"
      },
      "execution_count": null,
      "outputs": [
        {
          "output_type": "execute_result",
          "data": {
            "text/plain": [
              "array([6.4, 3.2, 4.5, 1.5])"
            ]
          },
          "metadata": {},
          "execution_count": 6
        }
      ]
    },
    {
      "cell_type": "code",
      "source": [
        "len(Xarr) #Проверяем, что двухмерные массивы для нашей задачи пойдут, и len (X) будет не 400, а 100"
      ],
      "metadata": {
        "colab": {
          "base_uri": "https://localhost:8080/"
        },
        "id": "fb_yc8ijaua-",
        "outputId": "07bc6783-b891-45cb-f0ec-d40056e20d5e"
      },
      "execution_count": null,
      "outputs": [
        {
          "output_type": "execute_result",
          "data": {
            "text/plain": [
              "100"
            ]
          },
          "metadata": {},
          "execution_count": 7
        }
      ]
    },
    {
      "cell_type": "code",
      "source": [
        "Y.index = np.arange(0, len(Y))#Перенумеровываем с 0\n",
        "Yarr=Y['target'].to_numpy()-1 #Перенумеровываем на 0 и 1 класс\n",
        "Yarr[1]"
      ],
      "metadata": {
        "colab": {
          "base_uri": "https://localhost:8080/"
        },
        "id": "6vj_hz3ZSYkZ",
        "outputId": "3d35c715-da1e-4b76-bdbc-cd2d1c8cf4cd"
      },
      "execution_count": null,
      "outputs": [
        {
          "output_type": "execute_result",
          "data": {
            "text/plain": [
              "0.0"
            ]
          },
          "metadata": {},
          "execution_count": 8
        }
      ]
    },
    {
      "cell_type": "code",
      "source": [
        "X_train, X_test, y_train, y_test = train_test_split(Xarr, Yarr, test_size=0.2, random_state=21) #20% на тестовое\n",
        "#X_train.index=np.arange(0, len(X_train))#\n",
        "#y_train.index=X_train.index\n",
        "#X_test.index=np.arrange(0,len(X_test))\n",
        "#y_test.index=X_test.index\n",
        "X_test"
      ],
      "metadata": {
        "colab": {
          "base_uri": "https://localhost:8080/"
        },
        "id": "WHl69GU1VaCp",
        "outputId": "b83d58e9-6a39-449c-deca-279fb8124bfc"
      },
      "execution_count": null,
      "outputs": [
        {
          "output_type": "execute_result",
          "data": {
            "text/plain": [
              "array([[6.1, 2.8, 4.7, 1.2],\n",
              "       [7.9, 3.8, 6.4, 2. ],\n",
              "       [7.7, 3. , 6.1, 2.3],\n",
              "       [5.4, 3. , 4.5, 1.5],\n",
              "       [6.8, 3. , 5.5, 2.1],\n",
              "       [5.7, 2.9, 4.2, 1.3],\n",
              "       [5.8, 2.6, 4. , 1.2],\n",
              "       [5.5, 2.4, 3.7, 1. ],\n",
              "       [6.8, 3.2, 5.9, 2.3],\n",
              "       [5.9, 3. , 4.2, 1.5],\n",
              "       [6.3, 2.5, 4.9, 1.5],\n",
              "       [6.1, 3. , 4.9, 1.8],\n",
              "       [6.5, 3. , 5.5, 1.8],\n",
              "       [6.1, 2.9, 4.7, 1.4],\n",
              "       [5. , 2. , 3.5, 1. ],\n",
              "       [7.7, 2.6, 6.9, 2.3],\n",
              "       [6.7, 3. , 5. , 1.7],\n",
              "       [6.7, 3.1, 4.7, 1.5],\n",
              "       [6.3, 3.4, 5.6, 2.4],\n",
              "       [5.5, 2.6, 4.4, 1.2]])"
            ]
          },
          "metadata": {},
          "execution_count": 9
        }
      ]
    },
    {
      "cell_type": "code",
      "source": [
        "EPOCHS = 1300\n",
        "LEARNING_RATE = 0.05"
      ],
      "metadata": {
        "id": "1cBGi7eMPIHt"
      },
      "execution_count": null,
      "outputs": []
    },
    {
      "cell_type": "markdown",
      "source": [
        "Добавим функцию сигмоида для предсказаний классов"
      ],
      "metadata": {
        "id": "vj3HnBBkUX4A"
      }
    },
    {
      "cell_type": "code",
      "source": [
        "def _sigmoid( x):\n",
        "    return _sigmoid_function(x);\n",
        "\n",
        "def _sigmoid_function( x):\n",
        "    if x >= 0:\n",
        "        z = np.exp(-x)\n",
        "        return 1 / (1 + z)\n",
        "    else:\n",
        "        z = np.exp(x)\n",
        "        return z / (1 + z)"
      ],
      "metadata": {
        "id": "h11jP9W5Pr7c"
      },
      "execution_count": null,
      "outputs": []
    },
    {
      "cell_type": "code",
      "source": [
        "def cost_function(X, y, theta0, thetas): #Функция потерь (Бинарная кросс энтропия)\n",
        "\n",
        "  total_cost = 0\n",
        "  for i in range(len(X)):\n",
        "      y_c = theta0 + np.sum(thetas * X[i])\n",
        "      y_pred=_sigmoid(y_c)\n",
        "      total_cost += ( y_pred-y[i]) ** 2\n",
        "  return total_cost/2*len(X)"
      ],
      "metadata": {
        "id": "5gm63ELDOSP9"
      },
      "execution_count": null,
      "outputs": []
    },
    {
      "cell_type": "code",
      "source": [
        "def der_theta0(X, y, theta0, thetas):  # Первый (свободный) вес\n",
        "    total_cost = 0\n",
        "    for i in range(len(X)):\n",
        "        pred = _sigmoid(theta0 + np.sum(thetas * X[i]))\n",
        "        total_cost += (pred - y[i]) * 1\n",
        "    return total_cost / len(X)"
      ],
      "metadata": {
        "id": "pv6Oe24vQ2uO"
      },
      "execution_count": null,
      "outputs": []
    },
    {
      "cell_type": "code",
      "source": [
        "def der_thetax(X, y, theta0, thetas,k): #Остальные веса\n",
        "    total_cost = 0\n",
        "    for i in range(len(X)):\n",
        "        pred = _sigmoid(theta0 + np.sum(thetas * X[i]))\n",
        "        total_cost +=  (pred - y[i]) * X[i][k]\n",
        "    return total_cost / (len(X))"
      ],
      "metadata": {
        "id": "AFnjMpSXQ5XE"
      },
      "execution_count": null,
      "outputs": []
    },
    {
      "cell_type": "markdown",
      "source": [
        "# Решение методом градиентного спуска"
      ],
      "metadata": {
        "id": "XbdV9amUW0eD"
      }
    },
    {
      "cell_type": "code",
      "source": [
        "theta0=1\n",
        "uX=X_train\n",
        "uY=y_train\n",
        "thetas=[1,1,1,1]\n",
        "dt=[0,0,0,0]\n",
        "theta0_arr=[];\n",
        "theta_arr=[];\n",
        "cost_arr=[]\n",
        "st = time.time()\n",
        "for step in range(EPOCHS):\n",
        "\n",
        "    dt0 = der_theta0(uX, uY, theta0, thetas)\n",
        "    #print(\"dt0:\",dt0)\n",
        "    for j in range(0,len(thetas)):\n",
        "      dt[j] = der_thetax(uX, uY, theta0, thetas,j)\n",
        "      #print(\"dt\",j,\":\",dt[j])\n",
        "      thetas[j]=thetas[j]-LEARNING_RATE * dt[j]\n",
        "    theta0 = theta0 - LEARNING_RATE * dt0\n",
        "    cost=cost_function(uX, uY, theta0, thetas)\n",
        "    if ((step+1)%100==0 or step==0):\n",
        "      print(\"step:\",step+1,\" t0:\", theta0, \"other thetas:\", thetas, \"cost:\", cost)\n",
        "    theta0_arr.append(theta0)\n",
        "    theta_arr.append(thetas)\n",
        "    cost_arr.append(cost)\n",
        "et = time.time()\n",
        "gd_time=et-st"
      ],
      "metadata": {
        "colab": {
          "base_uri": "https://localhost:8080/"
        },
        "id": "8kt_JrD9PhPs",
        "outputId": "afc49bbc-235b-4dc0-ed1e-f3a6dc286df2"
      },
      "execution_count": null,
      "outputs": [
        {
          "output_type": "stream",
          "name": "stdout",
          "text": [
            "step: 1  t0: 0.9762500137492874 other thetas: [0.8586875743666169, 0.9339375750612415, 0.8996876316619786, 0.9685625617444559] cost: 1519.9936760961143\n",
            "step: 100  t0: 0.5930526493446799 other thetas: [-0.8640620638085091, 0.0956482305124473, 0.6231506790573738, 1.031493263312413] cost: 486.7495690123743\n",
            "step: 200  t0: 0.44892225695024607 other thetas: [-1.194462236417762, -0.14373729151584544, 1.115644464406312, 1.315418155903088] cost: 361.71267104908503\n",
            "step: 300  t0: 0.3308472120674814 other thetas: [-1.4421739898504402, -0.3460885051487187, 1.494325333140055, 1.5470032578243236] cost: 291.9184798318978\n",
            "step: 400  t0: 0.23042749101630788 other thetas: [-1.6366259501692713, -0.5210706149325796, 1.7978372952799004, 1.7431822303836324] cost: 249.04945018621225\n",
            "step: 500  t0: 0.14254131747821974 other thetas: [-1.79493151230006, -0.6752711937965323, 2.049310875266251, 1.9140319200036717] cost: 220.52447085394493\n",
            "step: 600  t0: 0.06395469949566218 other thetas: [-1.9274702619314028, -0.8132419713873856, 2.2630753236244376, 2.065905825471731] cost: 200.3240877435405\n",
            "step: 700  t0: -0.007470915135015727 other thetas: [-2.040871226673373, -0.9382111381155269, 2.4484366479498942, 2.2030317118332317] cost: 185.3124207759845\n",
            "step: 800  t0: -0.07321228347554196 other thetas: [-2.139573750923793, -1.0525338621923783, 2.61171424222128, 2.328353959975857] cost: 173.72724104421263\n",
            "step: 900  t0: -0.1343281590228937 other thetas: [-2.2266742885523185, -1.1579746854426287, 2.7573689490797126, 2.44400204268857] cost: 164.51319709553098\n",
            "step: 1000  t0: -0.19160217560863502 other thetas: [-2.3044081030222894, -1.2558874606291426, 2.8886550495592482, 2.5515650925919426] cost: 157.00398066479752\n",
            "step: 1100  t0: -0.24563020159571003 other thetas: [-2.3744362450195275, -1.3473328732525327, 3.0080137569728285, 2.652260534348434] cost: 150.75998110856287\n",
            "step: 1200  t0: -0.2968758592238864 other thetas: [-2.438023815877572, -1.4331572498346736, 3.1173203455961302, 2.747041956419082] cost: 145.48023005668168\n",
            "step: 1300  t0: -0.34570705214285286 other thetas: [-2.4961548577897035, -1.514046767759677, 3.2180449580897013, 2.8366705874056355] cost: 140.95210969350313\n"
          ]
        }
      ]
    },
    {
      "cell_type": "code",
      "source": [
        "gd_time"
      ],
      "metadata": {
        "colab": {
          "base_uri": "https://localhost:8080/"
        },
        "id": "-UxfQmTKv6GV",
        "outputId": "b48722a5-6a8d-43d5-c49b-1ef456b0b526"
      },
      "execution_count": null,
      "outputs": [
        {
          "output_type": "execute_result",
          "data": {
            "text/plain": [
              "10.6585533618927"
            ]
          },
          "metadata": {},
          "execution_count": 16
        }
      ]
    },
    {
      "cell_type": "code",
      "source": [
        "#Нарисуем график изменения MSE в зависимости от времени\n",
        "plt.plot(range(EPOCHS),cost_arr)\n",
        "plt.show()"
      ],
      "metadata": {
        "colab": {
          "base_uri": "https://localhost:8080/",
          "height": 430
        },
        "id": "jNYT6mD41ppA",
        "outputId": "6133dcf5-a5c4-4581-c113-edb47848915a"
      },
      "execution_count": null,
      "outputs": [
        {
          "output_type": "display_data",
          "data": {
            "text/plain": [
              "<Figure size 640x480 with 1 Axes>"
            ],
            "image/png": "[encoded data removed]"
          },
          "metadata": {}
        }
      ]
    },
    {
      "cell_type": "code",
      "source": [
        "\n",
        "\n",
        "\n",
        "def predict( x,thetas,theta0):\n",
        "    x_dot_weights = np.matmul(x, thetas.transpose()) + theta0\n",
        "    #print(x_dot_weights)\n",
        "    probabilities = _sigmoid(x_dot_weights)\n",
        "    #print(probabilities)\n",
        "    result_class=(1 if probabilities > 0.5 else 0);\n",
        "    return result_class"
      ],
      "metadata": {
        "id": "k9-llnl3vjP-"
      },
      "execution_count": null,
      "outputs": []
    },
    {
      "cell_type": "code",
      "source": [
        "Yarr[33]"
      ],
      "metadata": {
        "colab": {
          "base_uri": "https://localhost:8080/"
        },
        "id": "5zysCdOAxBku",
        "outputId": "168bcc35-f0b6-4029-a7a8-a3018ee333e1"
      },
      "execution_count": null,
      "outputs": [
        {
          "output_type": "execute_result",
          "data": {
            "text/plain": [
              "0.0"
            ]
          },
          "metadata": {},
          "execution_count": 19
        }
      ]
    },
    {
      "cell_type": "code",
      "source": [
        "predict(Xarr[33],np.array(theta_arr[-1]),theta0_arr[-1])"
      ],
      "metadata": {
        "colab": {
          "base_uri": "https://localhost:8080/"
        },
        "id": "Et6-GAivv6cj",
        "outputId": "274bbecd-7acb-49ae-adc8-19b123bb0575"
      },
      "execution_count": null,
      "outputs": [
        {
          "output_type": "execute_result",
          "data": {
            "text/plain": [
              "1"
            ]
          },
          "metadata": {},
          "execution_count": 20
        }
      ]
    },
    {
      "cell_type": "code",
      "source": [
        "predictions_arr_test=[]\n",
        "predictions_arr_train=[]\n",
        "for item in X_test:\n",
        "  predictions_arr_test.append(predict(item,np.array(theta_arr[-1]),theta0_arr[-1])*1.0)\n",
        "for item in X_train:\n",
        "  predictions_arr_train.append(predict(item,np.array(theta_arr[-1]),theta0_arr[-1])*1.0)\n",
        "#BinaryCrossEntropy(Yarr,predictions_arr)\n",
        "\n",
        "total_train=0\n",
        "for key in range(len(predictions_arr_train)):\n",
        "  if predictions_arr_train[key]==y_train[key]:\n",
        "      total_train+=1\n",
        "total_train\n"
      ],
      "metadata": {
        "id": "gs-EPs_Tft5b",
        "colab": {
          "base_uri": "https://localhost:8080/"
        },
        "outputId": "cb2b1b67-0f8d-4c50-9938-771d11bd1b2d"
      },
      "execution_count": null,
      "outputs": [
        {
          "output_type": "execute_result",
          "data": {
            "text/plain": [
              "78"
            ]
          },
          "metadata": {},
          "execution_count": 21
        }
      ]
    },
    {
      "cell_type": "code",
      "source": [
        "total_test=0\n",
        "for key in range(len(predictions_arr_test)):\n",
        "  if predictions_arr_test[key]==y_test[key]:\n",
        "      total_test+=1\n",
        "total_test"
      ],
      "metadata": {
        "colab": {
          "base_uri": "https://localhost:8080/"
        },
        "id": "WZbvkHtRWRWm",
        "outputId": "31bfbf47-4955-473e-cbf5-1300b1a2ac8d"
      },
      "execution_count": null,
      "outputs": [
        {
          "output_type": "execute_result",
          "data": {
            "text/plain": [
              "18"
            ]
          },
          "metadata": {},
          "execution_count": 22
        }
      ]
    },
    {
      "cell_type": "code",
      "source": [
        "#Посчитаем accuracy:\n",
        "gd_acc=total_test/len(X_test);\n",
        "print(\"train:\",total_train/len(X_train))\n",
        "print(\"test:\",gd_acc)"
      ],
      "metadata": {
        "colab": {
          "base_uri": "https://localhost:8080/"
        },
        "id": "0uRQo1fnUzi9",
        "outputId": "1c534803-c029-40ee-9f5b-17b401568525"
      },
      "execution_count": null,
      "outputs": [
        {
          "output_type": "stream",
          "name": "stdout",
          "text": [
            "train: 0.975\n",
            "test: 0.9\n"
          ]
        }
      ]
    },
    {
      "cell_type": "markdown",
      "source": [
        "#Решение методом стохастического градиентного спуска"
      ],
      "metadata": {
        "id": "U9rTjLTMW7oR"
      }
    },
    {
      "cell_type": "markdown",
      "source": [
        "Будем брать градиентный спуск от одного элемента, в остальном особо менять алгоритм не будем"
      ],
      "metadata": {
        "id": "wCSQCnOBcx_I"
      }
    },
    {
      "cell_type": "code",
      "source": [
        "def scost_function(x, y, theta0, thetas): #Функция потерь (Бинарная кросс энтропия)\n",
        "\n",
        "  y_c = theta0 + np.sum(thetas * x)\n",
        "  y_pred=_sigmoid(y_c)\n",
        "  total_cost = ( y_pred-y) ** 2\n",
        "  return total_cost/2"
      ],
      "metadata": {
        "id": "PlshhirWgxkb"
      },
      "execution_count": null,
      "outputs": []
    },
    {
      "cell_type": "code",
      "source": [
        "def sder_theta0(x, y, theta0, thetas):  # Первый (свободный) вес\n",
        "    pred = _sigmoid(theta0 + np.sum(thetas * x))\n",
        "    return (pred - y) * 1\n"
      ],
      "metadata": {
        "id": "Vvi5kz8dXC1k"
      },
      "execution_count": null,
      "outputs": []
    },
    {
      "cell_type": "code",
      "source": [
        "def sder_thetax(x, y, theta0, thetas,k): #Остальные веса\n",
        "        pred = _sigmoid(theta0 + np.sum(thetas * x))\n",
        "        return (pred - y) * x[k]"
      ],
      "metadata": {
        "id": "PNI5hdApcZqX"
      },
      "execution_count": null,
      "outputs": []
    },
    {
      "cell_type": "code",
      "source": [
        "\n",
        "X_train"
      ],
      "metadata": {
        "colab": {
          "base_uri": "https://localhost:8080/"
        },
        "id": "eqdh0Y9Fdi-E",
        "outputId": "3684f426-4bef-4ee0-a3f8-ca4f5d23c4e6"
      },
      "execution_count": null,
      "outputs": [
        {
          "output_type": "execute_result",
          "data": {
            "text/plain": [
              "array([[5.6, 2.5, 3.9, 1.1],\n",
              "       [6.4, 3.2, 4.5, 1.5],\n",
              "       [5.5, 2.3, 4. , 1.3],\n",
              "       [5.6, 3. , 4.5, 1.5],\n",
              "       [5.8, 2.7, 4.1, 1. ],\n",
              "       [5.7, 2.6, 3.5, 1. ],\n",
              "       [5.7, 2.8, 4.1, 1.3],\n",
              "       [5.7, 3. , 4.2, 1.2],\n",
              "       [6.7, 2.5, 5.8, 1.8],\n",
              "       [6.3, 2.3, 4.4, 1.3],\n",
              "       [6.1, 2.8, 4. , 1.3],\n",
              "       [6.9, 3.1, 5.4, 2.1],\n",
              "       [6.2, 3.4, 5.4, 2.3],\n",
              "       [6.7, 3.1, 5.6, 2.4],\n",
              "       [5.6, 2.9, 3.6, 1.3],\n",
              "       [7.7, 3.8, 6.7, 2.2],\n",
              "       [5.8, 2.7, 5.1, 1.9],\n",
              "       [6.4, 3.2, 5.3, 2.3],\n",
              "       [6.2, 2.9, 4.3, 1.3],\n",
              "       [6.4, 2.9, 4.3, 1.3],\n",
              "       [7.6, 3. , 6.6, 2.1],\n",
              "       [5.5, 2.5, 4. , 1.3],\n",
              "       [6.6, 2.9, 4.6, 1.3],\n",
              "       [5.6, 2.8, 4.9, 2. ],\n",
              "       [4.9, 2.4, 3.3, 1. ],\n",
              "       [6.9, 3.1, 4.9, 1.5],\n",
              "       [6. , 2.2, 5. , 1.5],\n",
              "       [7.1, 3. , 5.9, 2.1],\n",
              "       [7.2, 3.2, 6. , 1.8],\n",
              "       [5.8, 2.7, 5.1, 1.9],\n",
              "       [6.8, 2.8, 4.8, 1.4],\n",
              "       [5.8, 2.7, 3.9, 1.2],\n",
              "       [6.6, 3. , 4.4, 1.4],\n",
              "       [5.6, 3. , 4.1, 1.3],\n",
              "       [6. , 3. , 4.8, 1.8],\n",
              "       [6.3, 2.8, 5.1, 1.5],\n",
              "       [5.5, 2.4, 3.8, 1.1],\n",
              "       [6.4, 2.8, 5.6, 2.1],\n",
              "       [6.3, 2.5, 5. , 1.9],\n",
              "       [6.9, 3.1, 5.1, 2.3],\n",
              "       [6.5, 3. , 5.8, 2.2],\n",
              "       [7.3, 2.9, 6.3, 1.8],\n",
              "       [5. , 2.3, 3.3, 1. ],\n",
              "       [5.8, 2.8, 5.1, 2.4],\n",
              "       [5.9, 3. , 5.1, 1.8],\n",
              "       [7. , 3.2, 4.7, 1.4],\n",
              "       [5.2, 2.7, 3.9, 1.4],\n",
              "       [6. , 2.9, 4.5, 1.5],\n",
              "       [6.3, 3.3, 4.7, 1.6],\n",
              "       [6.7, 3.1, 4.4, 1.4],\n",
              "       [6. , 2.2, 4. , 1. ],\n",
              "       [6. , 2.7, 5.1, 1.6],\n",
              "       [6.7, 3.3, 5.7, 2.5],\n",
              "       [7.4, 2.8, 6.1, 1.9],\n",
              "       [6.3, 2.9, 5.6, 1.8],\n",
              "       [6.4, 3.1, 5.5, 1.8],\n",
              "       [6.4, 2.8, 5.6, 2.2],\n",
              "       [6.3, 3.3, 6. , 2.5],\n",
              "       [6.9, 3.2, 5.7, 2.3],\n",
              "       [6.2, 2.2, 4.5, 1.5],\n",
              "       [5.7, 2.8, 4.5, 1.3],\n",
              "       [6.1, 3. , 4.6, 1.4],\n",
              "       [6.5, 3. , 5.2, 2. ],\n",
              "       [6.2, 2.8, 4.8, 1.8],\n",
              "       [5.9, 3.2, 4.8, 1.8],\n",
              "       [7.2, 3.6, 6.1, 2.5],\n",
              "       [6.1, 2.6, 5.6, 1.4],\n",
              "       [6.7, 3. , 5.2, 2.3],\n",
              "       [6.4, 2.7, 5.3, 1.9],\n",
              "       [5.6, 2.7, 4.2, 1.3],\n",
              "       [5.7, 2.5, 5. , 2. ],\n",
              "       [7.7, 2.8, 6.7, 2. ],\n",
              "       [6.7, 3.3, 5.7, 2.1],\n",
              "       [6.5, 3.2, 5.1, 2. ],\n",
              "       [6. , 3.4, 4.5, 1.6],\n",
              "       [5.1, 2.5, 3. , 1.1],\n",
              "       [6.5, 2.8, 4.6, 1.5],\n",
              "       [4.9, 2.5, 4.5, 1.7],\n",
              "       [7.2, 3. , 5.8, 1.6],\n",
              "       [6.3, 2.7, 4.9, 1.8]])"
            ]
          },
          "metadata": {},
          "execution_count": 27
        }
      ]
    },
    {
      "cell_type": "code",
      "source": [
        "import random\n",
        "theta0=1\n",
        "uX=X_train\n",
        "uY=y_train\n",
        "thetas=[1,1,1,1]\n",
        "dt=[0,0,0,0]\n",
        "stheta0_arr=[];\n",
        "stheta_arr=[];\n",
        "scost_arr=[]\n",
        "st = time.time()\n",
        "for step in range(EPOCHS):\n",
        "    random.seed(step)\n",
        "    ri=random.randint(0,len(uX)-1)\n",
        "    target_x=uX[ri]\n",
        "    target_y=uY[ri]\n",
        "\n",
        "    dt0 = sder_theta0(target_x, target_y, theta0, thetas)\n",
        "\n",
        "    for j in range(0,len(thetas)):\n",
        "      dt[j] = sder_thetax(target_x, target_y, theta0, thetas,j)\n",
        "      thetas[j]=thetas[j]-LEARNING_RATE * dt[j]\n",
        "    theta0 = theta0 - LEARNING_RATE * dt0\n",
        "    cost=cost_function(uX, uY, theta0, thetas)\n",
        "    if ((step+1)%100==0 or step==0):\n",
        "      print(\"step:\",step+1,\" t0:\", theta0, \"other thetas:\", thetas, \"cost:\", cost)\n",
        "    stheta0_arr.append(theta0)\n",
        "    stheta_arr.append(thetas)\n",
        "    scost_arr.append(cost)\n",
        "et = time.time()\n",
        "sgd_time = et-st"
      ],
      "metadata": {
        "colab": {
          "base_uri": "https://localhost:8080/"
        },
        "id": "LSEVi3-_c74A",
        "outputId": "140c0e59-8fcc-44b3-c07f-af100a89799b"
      },
      "execution_count": null,
      "outputs": [
        {
          "output_type": "stream",
          "name": "stdout",
          "text": [
            "step: 1  t0: 0.9500000030880305 other thetas: [0.6650000206898041, 0.8450000903268676, 0.7800002072937239, 0.9300001736430905] cost: 1519.9616957138073\n",
            "step: 100  t0: 0.6425290553245153 other thetas: [-0.7110996424442861, 0.03314299272652518, 0.012558449516807887, 0.7421169426920979] cost: 1391.7203721367514\n",
            "step: 200  t0: 0.5867017455166823 other thetas: [-0.4491338876546824, -0.14581944497059166, 0.30346949335288464, 0.8372952358429577] cost: 571.3041863745884\n",
            "step: 300  t0: 0.4447654239361155 other thetas: [-0.6163284288395234, -0.37677587542396945, 0.48955149247973995, 0.9145355714883109] cost: 613.2889516196162\n",
            "step: 400  t0: 0.30724721173849157 other thetas: [-0.5841524462892921, -0.7268025031988183, 0.46802626072048864, 0.8894125737478484] cost: 1045.3051384150579\n",
            "step: 500  t0: 0.20514444847647045 other thetas: [-0.6650847138275073, -0.9638259336853614, 0.7133014189444339, 1.016781328162706] cost: 918.4265193842061\n",
            "step: 600  t0: 0.14291489040078034 other thetas: [-0.5168512501309388, -1.0912620574340295, 0.8727549387827316, 1.0852931997610005] cost: 398.8632389973612\n",
            "step: 700  t0: 0.04487368865675729 other thetas: [-0.6165684298764076, -1.3278899543850538, 0.8698464435438843, 1.1368496806413024] cost: 829.8914301854838\n",
            "step: 800  t0: -0.03871503842725421 other thetas: [-0.5092461104836645, -1.5023669109969697, 1.0697876226173122, 1.2481532153199546] cost: 355.7455871468685\n",
            "step: 900  t0: -0.09344400664601364 other thetas: [-0.23201875898454727, -1.7533650229695472, 1.1024016956043772, 1.3166731531224132] cost: 455.09388775537076\n",
            "step: 1000  t0: -0.21440922014242192 other thetas: [-0.5847546266191429, -1.9681082059961805, 1.0945874750867095, 1.3634208180397487] cost: 927.5506114365697\n",
            "step: 1100  t0: -0.28870561996398736 other thetas: [-0.7378336184236771, -2.087469527299977, 1.3273299013124475, 1.476748982680434] cost: 886.4565278896948\n",
            "step: 1200  t0: -0.31042620559054807 other thetas: [-0.27247129607180637, -2.1683337904755944, 1.4070919946495788, 1.5524191546745585] cost: 442.33972990524387\n",
            "step: 1300  t0: -0.4194352123878763 other thetas: [-0.5215155038443613, -2.2832043975740897, 1.6078150691356259, 1.6676938547509752] cost: 252.74095491050286\n"
          ]
        }
      ]
    },
    {
      "cell_type": "code",
      "source": [
        "sgd_time"
      ],
      "metadata": {
        "colab": {
          "base_uri": "https://localhost:8080/"
        },
        "id": "8cY9MMISv3Ia",
        "outputId": "5bb5972c-874b-4d8c-b229-ba74b8fc3bc8"
      },
      "execution_count": null,
      "outputs": [
        {
          "output_type": "execute_result",
          "data": {
            "text/plain": [
              "2.2163541316986084"
            ]
          },
          "metadata": {},
          "execution_count": 29
        }
      ]
    },
    {
      "cell_type": "markdown",
      "source": [
        "Нарисуем график"
      ],
      "metadata": {
        "id": "EClHyxYpW_Yn"
      }
    },
    {
      "cell_type": "code",
      "source": [
        "#Нарисуем график изменения MSE в зависимости от времени\n",
        "plt.plot(range(EPOCHS),scost_arr)\n",
        "plt.show()"
      ],
      "metadata": {
        "colab": {
          "base_uri": "https://localhost:8080/",
          "height": 430
        },
        "id": "EUYhgxlaibUu",
        "outputId": "43dc2b72-467e-4c3e-e742-074151ac7975"
      },
      "execution_count": null,
      "outputs": [
        {
          "output_type": "display_data",
          "data": {
            "text/plain": [
              "<Figure size 640x480 with 1 Axes>"
            ],
            "image/png": "[encoded data removed]"
          },
          "metadata": {}
        }
      ]
    },
    {
      "cell_type": "code",
      "source": [
        "spredictions_arr_test=[]\n",
        "spredictions_arr_train=[]\n",
        "for item in X_test:\n",
        "  spredictions_arr_test.append(predict(item,np.array(stheta_arr[-1]),stheta0_arr[-1])*1.0)\n",
        "for item in X_train:\n",
        "  spredictions_arr_train.append(predict(item,np.array(stheta_arr[-1]),stheta0_arr[-1])*1.0)\n",
        "#BinaryCrossEntropy(Yarr,predictions_arr)\n",
        "\n",
        "total_train=0\n",
        "for key in range(len(predictions_arr_train)):\n",
        "  if spredictions_arr_train[key]==y_train[key]:\n",
        "      total_train+=1\n",
        "print(\"total train:\",total_train)\n",
        "total_test=0\n",
        "for key in range(len(predictions_arr_test)):\n",
        "  if spredictions_arr_test[key]==y_test[key]:\n",
        "      total_test+=1\n",
        "print(\"total test:\",total_test)\n"
      ],
      "metadata": {
        "colab": {
          "base_uri": "https://localhost:8080/"
        },
        "id": "Y6raNTe8inqo",
        "outputId": "0a074930-7071-4b26-c59f-7f8f01c119a7"
      },
      "execution_count": null,
      "outputs": [
        {
          "output_type": "stream",
          "name": "stdout",
          "text": [
            "total train: 76\n",
            "total test: 18\n"
          ]
        }
      ]
    },
    {
      "cell_type": "code",
      "source": [
        "#Посчитаем accuracy:\n",
        "sgd_acc=total_test/len(X_test);\n",
        "print(\"train:\",total_train/len(X_train))\n",
        "print(\"test:\",sgd_acc)"
      ],
      "metadata": {
        "colab": {
          "base_uri": "https://localhost:8080/"
        },
        "id": "jpkxpraNjDUw",
        "outputId": "6ec58d5e-6def-42b3-c624-62afbf7291f0"
      },
      "execution_count": null,
      "outputs": [
        {
          "output_type": "stream",
          "name": "stdout",
          "text": [
            "train: 0.95\n",
            "test: 0.9\n"
          ]
        }
      ]
    },
    {
      "cell_type": "markdown",
      "source": [
        "# Решение с оптимизацией RMSProp"
      ],
      "metadata": {
        "id": "IaSn8GZYfyJZ"
      }
    },
    {
      "cell_type": "code",
      "source": [
        "def spd_theta0(x, y, theta0, thetas,spd_theta0,grad_theta0):  # Скорость изменения свободного веса\n",
        "    pred = _sigmoid(theta0 + np.sum(thetas * x))\n",
        "    return pred * spd_theta0 + (1 - pred) * np.square(grad_theta0)\n",
        "\n",
        "def spd_thetax(x, y, theta0, thetas,k,spd_theta,grad_theta): #Скорость изменения остальных весов\n",
        "    pred = _sigmoid(theta0 + np.sum(thetas * x))\n",
        "    return pred * spd_theta + (1 - pred) * np.square(grad_theta)\n"
      ],
      "metadata": {
        "id": "Bd_O6UcdiRTc"
      },
      "execution_count": null,
      "outputs": []
    },
    {
      "cell_type": "code",
      "source": [
        "import random\n",
        "theta0=1\n",
        "uX=X_train\n",
        "uY=y_train\n",
        "thetas=[1,1,1,1]\n",
        "dt=[0,0,0,0]\n",
        "sthetas=[0,0,0,0]\n",
        "stheta0=0\n",
        "rtheta0_arr=[];\n",
        "rtheta_arr=[];\n",
        "rcost_arr=[]\n",
        "st=time.time()\n",
        "for step in range(EPOCHS):\n",
        "    random.seed(step)\n",
        "    ri=random.randint(0,len(uX)-1)\n",
        "    target_x=uX[ri]\n",
        "    target_y=uY[ri]\n",
        "\n",
        "    stheta0=spd_theta0(target_x,target_y,theta0,thetas,stheta0,dt0)\n",
        "    dt0 = sder_theta0(target_x, target_y, theta0, thetas)\n",
        "\n",
        "\n",
        "    for j in range(0,len(thetas)):\n",
        "      sthetas[j]=spd_thetax(target_x,target_y,theta0,thetas,j,sthetas[j],dt[j])\n",
        "      dt[j] = sder_thetax(target_x, target_y, theta0, thetas,j)\n",
        "\n",
        "      thetas[j]=thetas[j]-LEARNING_RATE * dt[j] / (np.sqrt( sthetas[j]  )+ pow(10,-4))\n",
        "\n",
        "    theta0 = theta0 - LEARNING_RATE * dt0 / (np.sqrt(stheta0  )+ pow(10,-4))\n",
        "    cost=cost_function(uX, uY, theta0, thetas)\n",
        "    if ((step+1)%100==0 or step==0):\n",
        "      print(\"step:\",step+1,\" t0:\", theta0, \"other thetas:\", thetas, \"cost:\", cost,\" spd_theta0:\",stheta0,\" spd_thetas:\",sthetas)\n",
        "    rtheta0_arr.append(theta0)\n",
        "    rtheta_arr.append(thetas)\n",
        "    rcost_arr.append(cost)\n",
        "et=time.time()\n",
        "rgd_time=et-st"
      ],
      "metadata": {
        "colab": {
          "base_uri": "https://localhost:8080/"
        },
        "id": "UIeIM9sOgCuU",
        "outputId": "a7930078-831d-4bc6-e8e1-34037dd40339"
      },
      "execution_count": null,
      "outputs": [
        {
          "output_type": "stream",
          "name": "stdout",
          "text": [
            "step: 1  t0: -341.67068513616863 other thetas: [-3348.9997931019584, 1.0, 1.0, 1.0] cost: 1680.0  spd_theta0: 2.1079738863485773e-09  spd_thetas: [0.0, 0.0, 0.0, 0.0]\n",
            "step: 100  t0: -1341.4207101223014 other thetas: [-6698.6918564091975, 4551.02317685614, 2251.2500506414362, -48.825775276135346] cost: 1680.0  spd_theta0: 0.0  spd_thetas: [0.0, 0.0, 0.0, 0.0]\n",
            "step: 200  t0: -2841.270715212805 other thetas: [-13798.510267856433, 7551.081937177007, 14001.250098221099, -48.825757366431944] cost: 440.0  spd_theta0: 0.0  spd_thetas: [0.0, 0.0, 0.0, 0.0]\n",
            "step: 300  t0: -5341.070735210806 other thetas: [-24348.285442480934, 10501.081937177007, 24301.2500982211, -48.825757366431944] cost: 840.0  spd_theta0: 0.0  spd_thetas: [0.0, 0.0, 0.0, 0.0]\n",
            "step: 400  t0: -6341.020740210306 other thetas: [-27898.209738644044, 7951.133787108491, 28001.2500982211, -48.825757366431944] cost: 1560.0  spd_theta0: 1.0  spd_thetas: [36.0, 0.0, 0.0, 0.0]\n",
            "step: 500  t0: -6340.870755208807 other thetas: [-25198.02000703685, 6601.254153206037, 26151.380226220044, 1851.1742426335682] cost: 960.0  spd_theta0: 1.0  spd_thetas: [37.209999999999994, 0.0, 0.0, 0.0]\n",
            "step: 600  t0: -6840.770765207808 other thetas: [-26847.89160386408, 8201.324520970194, 26151.445911206614, 2951.174242633568] cost: 1440.0  spd_theta0: 0.0  spd_thetas: [0.0, 0.0, 0.0, 0.0]\n",
            "step: 700  t0: -6340.820760208308 other thetas: [-20547.91430767191, 3601.380074468213, 21901.49296910744, 4601.174242633569] cost: 680.0  spd_theta0: 0.0  spd_thetas: [0.0, 0.0, 0.0, 0.0]\n",
            "step: 800  t0: -6340.770765207808 other thetas: [-18397.83675555972, 2101.431924399697, 19501.55865409401, 5601.174242633569] cost: 920.0  spd_theta0: 0.0  spd_thetas: [0.0, 0.0, 0.0, 0.0]\n",
            "step: 900  t0: -6341.020740210306 other thetas: [-16198.048909912835, 601.2391789694549, 20301.345470350017, 1901.1742426335686] cost: 520.0  spd_theta0: 0.0  spd_thetas: [0.0, 0.0, 0.0, 0.0]\n",
            "step: 1000  t0: -6341.020740210306 other thetas: [-13298.034521641015, 551.2462921548235, 15652.29396472987, 3051.224237587213] cost: 720.0  spd_theta0: 0.0  spd_thetas: [0.0, 0.0, 0.0, 0.0]\n",
            "step: 1100  t0: -7840.970745209806 other thetas: [-20097.95594324755, 1901.246292154824, 21802.29396472987, 3051.224237587213] cost: 1520.0  spd_theta0: 0.0  spd_thetas: [0.0, 0.0, 0.0, 0.0]\n",
            "step: 1200  t0: -7840.970745209806 other thetas: [-17047.93718354455, 3401.196293821435, 24752.255829783004, 2301.224237587213] cost: 1280.0  spd_theta0: 2.347e-321  spd_thetas: [7.099e-320, 0.0, 0.0, 0.0]\n",
            "step: 1300  t0: -9840.770765207808 other thetas: [-25497.703323915077, 9301.196293821435, 30202.255829783004, 2301.224237587213] cost: 480.0  spd_theta0: 0.0  spd_thetas: [0.0, 7.839999999999999, 0.0, 0.0]\n"
          ]
        }
      ]
    },
    {
      "cell_type": "code",
      "source": [
        "rgd_time"
      ],
      "metadata": {
        "colab": {
          "base_uri": "https://localhost:8080/"
        },
        "id": "YAUKEYw8v9H4",
        "outputId": "952e7d51-deed-4e8a-db73-e3a8a1e3920d"
      },
      "execution_count": null,
      "outputs": [
        {
          "output_type": "execute_result",
          "data": {
            "text/plain": [
              "2.6636126041412354"
            ]
          },
          "metadata": {},
          "execution_count": 35
        }
      ]
    },
    {
      "cell_type": "code",
      "source": [
        "thetas"
      ],
      "metadata": {
        "colab": {
          "base_uri": "https://localhost:8080/"
        },
        "id": "qsk8XiKSpNRc",
        "outputId": "b0801495-ff81-40ca-e842-387de3b1ae23"
      },
      "execution_count": null,
      "outputs": [
        {
          "output_type": "execute_result",
          "data": {
            "text/plain": [
              "[-25497.703323915077, 9301.196293821435, 30202.255829783004, 2301.224237587213]"
            ]
          },
          "metadata": {},
          "execution_count": 36
        }
      ]
    },
    {
      "cell_type": "code",
      "source": [
        "#Нарисуем график изменения MSE в зависимости от времени\n",
        "plt.plot(range(EPOCHS),rcost_arr)\n",
        "plt.show()"
      ],
      "metadata": {
        "colab": {
          "base_uri": "https://localhost:8080/",
          "height": 430
        },
        "id": "U7iP2oIdnbg9",
        "outputId": "39eb0a47-045f-46c4-fa00-756c76c1034b"
      },
      "execution_count": null,
      "outputs": [
        {
          "output_type": "display_data",
          "data": {
            "text/plain": [
              "<Figure size 640x480 with 1 Axes>"
            ],
            "image/png": "[encoded data removed]"
          },
          "metadata": {}
        }
      ]
    },
    {
      "cell_type": "code",
      "source": [
        "rpredictions_arr_test=[]\n",
        "rpredictions_arr_train=[]\n",
        "for item in X_test:\n",
        "  rpredictions_arr_test.append(predict(item,np.array(rtheta_arr[-1]),rtheta0_arr[-1])*1.0)\n",
        "for item in X_train:\n",
        "  rpredictions_arr_train.append(predict(item,np.array(rtheta_arr[-1]),rtheta0_arr[-1])*1.0)\n",
        "#BinaryCrossEntropy(Yarr,predictions_arr)\n",
        "\n",
        "total_train=0\n",
        "for key in range(len(predictions_arr_train)):\n",
        "  if rpredictions_arr_train[key]==y_train[key]:\n",
        "      total_train+=1\n",
        "print(\"total train:\",total_train)\n",
        "total_test=0\n",
        "for key in range(len(predictions_arr_test)):\n",
        "  if rpredictions_arr_test[key]==y_test[key]:\n",
        "      total_test+=1\n",
        "print(\"total test:\",total_test)\n"
      ],
      "metadata": {
        "colab": {
          "base_uri": "https://localhost:8080/"
        },
        "id": "6gByfUk_nQNz",
        "outputId": "2b89ef12-4f53-4aa1-947c-9ec9d1134257"
      },
      "execution_count": null,
      "outputs": [
        {
          "output_type": "stream",
          "name": "stdout",
          "text": [
            "total train: 68\n",
            "total test: 13\n"
          ]
        }
      ]
    },
    {
      "cell_type": "code",
      "source": [
        "#Посчитаем accuracy:\n",
        "r_acc_test=total_test/len(X_test)\n",
        "print(\"train:\",total_train/len(X_train))\n",
        "print(\"test:\",r_acc_test)"
      ],
      "metadata": {
        "colab": {
          "base_uri": "https://localhost:8080/"
        },
        "id": "TGnRDEU9vaQJ",
        "outputId": "c250b9e5-9f90-4af2-b58a-f1fe54f6cf99"
      },
      "execution_count": null,
      "outputs": [
        {
          "output_type": "stream",
          "name": "stdout",
          "text": [
            "train: 0.85\n",
            "test: 0.65\n"
          ]
        }
      ]
    },
    {
      "cell_type": "markdown",
      "source": [
        "Попробуем решить ту же задачу через Логистическую регрессию чтобы проверить точность"
      ],
      "metadata": {
        "id": "JK7kRVjogXCl"
      }
    },
    {
      "cell_type": "code",
      "source": [
        "\n",
        "from sklearn.preprocessing import StandardScaler\n",
        "\n",
        "from sklearn.linear_model import LogisticRegression\n",
        "model = LogisticRegression(max_iter=EPOCHS)\n"
      ],
      "metadata": {
        "id": "u_JL5BEVgo5i"
      },
      "execution_count": null,
      "outputs": []
    },
    {
      "cell_type": "code",
      "source": [
        "#X_train, X_test, y_train, y_test = train_test_split(X, Y, test_size=0.2, random_state=21) #20% на тестовое\n",
        "#X_test.index"
      ],
      "metadata": {
        "id": "mmU8Mpwpgsm8"
      },
      "execution_count": null,
      "outputs": []
    },
    {
      "cell_type": "code",
      "source": [
        "# обучаем на части датасета (train)\n",
        "st=time.time()\n",
        "model.fit(X_train, y_train)\n",
        "et=time.time()\n",
        "sc_time=et-st\n",
        "predictions = model.predict(X_test)\n",
        "sc_time"
      ],
      "metadata": {
        "id": "zSP1BjvJg9h2",
        "colab": {
          "base_uri": "https://localhost:8080/"
        },
        "outputId": "2bf3fb24-6631-44b8-e53c-9e380469b964"
      },
      "execution_count": null,
      "outputs": [
        {
          "output_type": "execute_result",
          "data": {
            "text/plain": [
              "0.0190579891204834"
            ]
          },
          "metadata": {},
          "execution_count": 42
        }
      ]
    },
    {
      "cell_type": "code",
      "source": [
        "X_test[:5]"
      ],
      "metadata": {
        "colab": {
          "base_uri": "https://localhost:8080/"
        },
        "id": "Y5iiLVIBiLkW",
        "outputId": "b19f31c0-cbf9-46c6-9906-2a8e3699543a"
      },
      "execution_count": null,
      "outputs": [
        {
          "output_type": "execute_result",
          "data": {
            "text/plain": [
              "array([[6.1, 2.8, 4.7, 1.2],\n",
              "       [7.9, 3.8, 6.4, 2. ],\n",
              "       [7.7, 3. , 6.1, 2.3],\n",
              "       [5.4, 3. , 4.5, 1.5],\n",
              "       [6.8, 3. , 5.5, 2.1]])"
            ]
          },
          "metadata": {},
          "execution_count": 43
        }
      ]
    },
    {
      "cell_type": "code",
      "source": [
        "y_test[:5]"
      ],
      "metadata": {
        "colab": {
          "base_uri": "https://localhost:8080/"
        },
        "id": "oaMT7_ONiSPH",
        "outputId": "1e88c0d3-48f2-49ec-aa5d-0a63e2a5ef97"
      },
      "execution_count": null,
      "outputs": [
        {
          "output_type": "execute_result",
          "data": {
            "text/plain": [
              "array([0., 1., 1., 0., 1.])"
            ]
          },
          "metadata": {},
          "execution_count": 44
        }
      ]
    },
    {
      "cell_type": "code",
      "source": [
        "predictions[:5] # посмотрим как выглядят наши предсказания"
      ],
      "metadata": {
        "colab": {
          "base_uri": "https://localhost:8080/"
        },
        "id": "tjnvkOobhPwv",
        "outputId": "3c04c319-47d5-4bb6-eb61-3d599d138dfa"
      },
      "execution_count": null,
      "outputs": [
        {
          "output_type": "execute_result",
          "data": {
            "text/plain": [
              "array([0., 1., 1., 0., 1.])"
            ]
          },
          "metadata": {},
          "execution_count": 45
        }
      ]
    },
    {
      "cell_type": "code",
      "source": [
        "model.score(X_train, y_train)"
      ],
      "metadata": {
        "colab": {
          "base_uri": "https://localhost:8080/"
        },
        "id": "jtqddy8xhZyA",
        "outputId": "3a4ea24a-b146-43a4-e607-93eb4d5599b5"
      },
      "execution_count": null,
      "outputs": [
        {
          "output_type": "execute_result",
          "data": {
            "text/plain": [
              "0.9625"
            ]
          },
          "metadata": {},
          "execution_count": 46
        }
      ]
    },
    {
      "cell_type": "code",
      "source": [
        "model.coef_ # Получившиеся веса"
      ],
      "metadata": {
        "colab": {
          "base_uri": "https://localhost:8080/"
        },
        "id": "OuyKmV_lppBF",
        "outputId": "fdabbac2-08c0-4809-d021-820594f97981"
      },
      "execution_count": null,
      "outputs": [
        {
          "output_type": "execute_result",
          "data": {
            "text/plain": [
              "array([[-0.34138986, -0.57482631,  2.797087  ,  2.15501171]])"
            ]
          },
          "metadata": {},
          "execution_count": 47
        }
      ]
    },
    {
      "cell_type": "code",
      "source": [
        "model.intercept_"
      ],
      "metadata": {
        "colab": {
          "base_uri": "https://localhost:8080/"
        },
        "id": "x9eniDCLwXpv",
        "outputId": "417a1d88-e602-4f9a-e843-9158b7bf7b02"
      },
      "execution_count": null,
      "outputs": [
        {
          "output_type": "execute_result",
          "data": {
            "text/plain": [
              "array([-13.31435521])"
            ]
          },
          "metadata": {},
          "execution_count": 48
        }
      ]
    },
    {
      "cell_type": "markdown",
      "source": [
        "# Таблица результатов"
      ],
      "metadata": {
        "id": "s1qSnJvD1EkZ"
      }
    },
    {
      "cell_type": "code",
      "source": [
        "DataFrame([[\"GD\",gd_acc,gd_time],[\"SGD\",sgd_acc,sgd_time],[\"RMSProp\",r_acc_test,rgd_time]], columns=[\"Type\",\"Accuracy\",\"Time\"])"
      ],
      "metadata": {
        "colab": {
          "base_uri": "https://localhost:8080/",
          "height": 143
        },
        "id": "ERPP3AbKxadm",
        "outputId": "c481f2f5-6cd6-4486-91df-93cec4f9c965"
      },
      "execution_count": null,
      "outputs": [
        {
          "output_type": "execute_result",
          "data": {
            "text/plain": [
              "      Type  Accuracy       Time\n",
              "0       GD      0.90  10.658553\n",
              "1      SGD      0.90   2.216354\n",
              "2  RMSProp      0.65   2.663613"
            ],
            "text/html": [
              "\n",
              "\n",
              "  <div id=\"df-cd08952a-7092-4f48-9d0c-94cca85b7bcd\">\n",
              "    <div class=\"colab-df-container\">\n",
              "      <div>\n",
              "<style scoped>\n",
              "    .dataframe tbody tr th:only-of-type {\n",
              "        vertical-align: middle;\n",
              "    }\n",
              "\n",
              "    .dataframe tbody tr th {\n",
              "        vertical-align: top;\n",
              "    }\n",
              "\n",
              "    .dataframe thead th {\n",
              "        text-align: right;\n",
              "    }\n",
              "</style>\n",
              "<table border=\"1\" class=\"dataframe\">\n",
              "  <thead>\n",
              "    <tr style=\"text-align: right;\">\n",
              "      <th></th>\n",
              "      <th>Type</th>\n",
              "      <th>Accuracy</th>\n",
              "      <th>Time</th>\n",
              "    </tr>\n",
              "  </thead>\n",
              "  <tbody>\n",
              "    <tr>\n",
              "      <th>0</th>\n",
              "      <td>GD</td>\n",
              "      <td>0.90</td>\n",
              "      <td>10.658553</td>\n",
              "    </tr>\n",
              "    <tr>\n",
              "      <th>1</th>\n",
              "      <td>SGD</td>\n",
              "      <td>0.90</td>\n",
              "      <td>2.216354</td>\n",
              "    </tr>\n",
              "    <tr>\n",
              "      <th>2</th>\n",
              "      <td>RMSProp</td>\n",
              "      <td>0.65</td>\n",
              "      <td>2.663613</td>\n",
              "    </tr>\n",
              "  </tbody>\n",
              "</table>\n",
              "</div>\n",
              "      <button class=\"colab-df-convert\" onclick=\"convertToInteractive('df-cd08952a-7092-4f48-9d0c-94cca85b7bcd')\"\n",
              "              title=\"Convert this dataframe to an interactive table.\"\n",
              "              style=\"display:none;\">\n",
              "\n",
              "  <svg xmlns=\"http://www.w3.org/2000/svg\" height=\"24px\"viewBox=\"0 0 24 24\"\n",
              "       width=\"24px\">\n",
              "    <path d=\"M0 0h24v24H0V0z\" fill=\"none\"/>\n",
              "    <path d=\"M18.56 5.44l.94 2.06.94-2.06 2.06-.94-2.06-.94-.94-2.06-.94 2.06-2.06.94zm-11 1L8.5 8.5l.94-2.06 2.06-.94-2.06-.94L8.5 2.5l-.94 2.06-2.06.94zm10 10l.94 2.06.94-2.06 2.06-.94-2.06-.94-.94-2.06-.94 2.06-2.06.94z\"/><path d=\"M17.41 7.96l-1.37-1.37c-.4-.4-.92-.59-1.43-.59-.52 0-1.04.2-1.43.59L10.3 9.45l-7.72 7.72c-.78.78-.78 2.05 0 2.83L4 21.41c.39.39.9.59 1.41.59.51 0 1.02-.2 1.41-.59l7.78-7.78 2.81-2.81c.8-.78.8-2.07 0-2.86zM5.41 20L4 18.59l7.72-7.72 1.47 1.35L5.41 20z\"/>\n",
              "  </svg>\n",
              "      </button>\n",
              "\n",
              "\n",
              "\n",
              "    <div id=\"df-6127f703-dfa0-4dbc-b1e2-c182cd031386\">\n",
              "      <button class=\"colab-df-quickchart\" onclick=\"quickchart('df-6127f703-dfa0-4dbc-b1e2-c182cd031386')\"\n",
              "              title=\"Suggest charts.\"\n",
              "              style=\"display:none;\">\n",
              "\n",
              "<svg xmlns=\"http://www.w3.org/2000/svg\" height=\"24px\"viewBox=\"0 0 24 24\"\n",
              "     width=\"24px\">\n",
              "    <g>\n",
              "        <path d=\"M19 3H5c-1.1 0-2 .9-2 2v14c0 1.1.9 2 2 2h14c1.1 0 2-.9 2-2V5c0-1.1-.9-2-2-2zM9 17H7v-7h2v7zm4 0h-2V7h2v10zm4 0h-2v-4h2v4z\"/>\n",
              "    </g>\n",
              "</svg>\n",
              "      </button>\n",
              "    </div>\n",
              "\n",
              "<style>\n",
              "  .colab-df-quickchart {\n",
              "    background-color: #E8F0FE;\n",
              "    border: none;\n",
              "    border-radius: 50%;\n",
              "    cursor: pointer;\n",
              "    display: none;\n",
              "    fill: #1967D2;\n",
              "    height: 32px;\n",
              "    padding: 0 0 0 0;\n",
              "    width: 32px;\n",
              "  }\n",
              "\n",
              "  .colab-df-quickchart:hover {\n",
              "    background-color: #E2EBFA;\n",
              "    box-shadow: 0px 1px 2px rgba(60, 64, 67, 0.3), 0px 1px 3px 1px rgba(60, 64, 67, 0.15);\n",
              "    fill: #174EA6;\n",
              "  }\n",
              "\n",
              "  [theme=dark] .colab-df-quickchart {\n",
              "    background-color: #3B4455;\n",
              "    fill: #D2E3FC;\n",
              "  }\n",
              "\n",
              "  [theme=dark] .colab-df-quickchart:hover {\n",
              "    background-color: #434B5C;\n",
              "    box-shadow: 0px 1px 3px 1px rgba(0, 0, 0, 0.15);\n",
              "    filter: drop-shadow(0px 1px 2px rgba(0, 0, 0, 0.3));\n",
              "    fill: #FFFFFF;\n",
              "  }\n",
              "</style>\n",
              "\n",
              "    <script>\n",
              "      async function quickchart(key) {\n",
              "        const containerElement = document.querySelector('#' + key);\n",
              "        const charts = await google.colab.kernel.invokeFunction(\n",
              "            'suggestCharts', [key], {});\n",
              "      }\n",
              "    </script>\n",
              "\n",
              "      <script>\n",
              "\n",
              "function displayQuickchartButton(domScope) {\n",
              "  let quickchartButtonEl =\n",
              "    domScope.querySelector('#df-6127f703-dfa0-4dbc-b1e2-c182cd031386 button.colab-df-quickchart');\n",
              "  quickchartButtonEl.style.display =\n",
              "    google.colab.kernel.accessAllowed ? 'block' : 'none';\n",
              "}\n",
              "\n",
              "        displayQuickchartButton(document);\n",
              "      </script>\n",
              "      <style>\n",
              "    .colab-df-container {\n",
              "      display:flex;\n",
              "      flex-wrap:wrap;\n",
              "      gap: 12px;\n",
              "    }\n",
              "\n",
              "    .colab-df-convert {\n",
              "      background-color: #E8F0FE;\n",
              "      border: none;\n",
              "      border-radius: 50%;\n",
              "      cursor: pointer;\n",
              "      display: none;\n",
              "      fill: #1967D2;\n",
              "      height: 32px;\n",
              "      padding: 0 0 0 0;\n",
              "      width: 32px;\n",
              "    }\n",
              "\n",
              "    .colab-df-convert:hover {\n",
              "      background-color: #E2EBFA;\n",
              "      box-shadow: 0px 1px 2px rgba(60, 64, 67, 0.3), 0px 1px 3px 1px rgba(60, 64, 67, 0.15);\n",
              "      fill: #174EA6;\n",
              "    }\n",
              "\n",
              "    [theme=dark] .colab-df-convert {\n",
              "      background-color: #3B4455;\n",
              "      fill: #D2E3FC;\n",
              "    }\n",
              "\n",
              "    [theme=dark] .colab-df-convert:hover {\n",
              "      background-color: #434B5C;\n",
              "      box-shadow: 0px 1px 3px 1px rgba(0, 0, 0, 0.15);\n",
              "      filter: drop-shadow(0px 1px 2px rgba(0, 0, 0, 0.3));\n",
              "      fill: #FFFFFF;\n",
              "    }\n",
              "  </style>\n",
              "\n",
              "      <script>\n",
              "        const buttonEl =\n",
              "          document.querySelector('#df-cd08952a-7092-4f48-9d0c-94cca85b7bcd button.colab-df-convert');\n",
              "        buttonEl.style.display =\n",
              "          google.colab.kernel.accessAllowed ? 'block' : 'none';\n",
              "\n",
              "        async function convertToInteractive(key) {\n",
              "          const element = document.querySelector('#df-cd08952a-7092-4f48-9d0c-94cca85b7bcd');\n",
              "          const dataTable =\n",
              "            await google.colab.kernel.invokeFunction('convertToInteractive',\n",
              "                                                     [key], {});\n",
              "          if (!dataTable) return;\n",
              "\n",
              "          const docLinkHtml = 'Like what you see? Visit the ' +\n",
              "            '<a target=\"_blank\" href=https://colab.research.google.com/notebooks/data_table.ipynb>data table notebook</a>'\n",
              "            + ' to learn more about interactive tables.';\n",
              "          element.innerHTML = '';\n",
              "          dataTable['output_type'] = 'display_data';\n",
              "          await google.colab.output.renderOutput(dataTable, element);\n",
              "          const docLink = document.createElement('div');\n",
              "          docLink.innerHTML = docLinkHtml;\n",
              "          element.appendChild(docLink);\n",
              "        }\n",
              "      </script>\n",
              "    </div>\n",
              "  </div>\n"
            ]
          },
          "metadata": {},
          "execution_count": 49
        }
      ]
    },
    {
      "cell_type": "markdown",
      "source": [
        "# Вывод"
      ],
      "metadata": {
        "id": "4FqxtIP8dwx-"
      }
    },
    {
      "cell_type": "markdown",
      "source": [
        "Градиентный спуск позволяет найти локальный минимум функции, но с увеличением объема данных, работает все медленее и медленне, т.к. происходит перебор по всем строкам.\n",
        "Стохастический градиентный спуск позволяет значительно его ускорить, т.к. мы перебираем случайные пакеты данных, но может приводить к большей ошибке (падает точность).\n",
        "Методы оптимизации SGD позволяют ускорить его схождение, но опять же точность может упасть."
      ],
      "metadata": {
        "id": "fhUigT_1dyE2"
      }
    }
  ]
}