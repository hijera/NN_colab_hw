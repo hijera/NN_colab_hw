{
  "cells": [
    {
      "cell_type": "markdown",
      "metadata": {
        "id": "view-in-github",
        "colab_type": "text"
      },
      "source": [
        "<a href=\"https://colab.research.google.com/github/hijera/NN_colab_hw/blob/main/%D0%94%D0%BE%D0%BC%D0%B0%D1%88%D0%BD%D0%B5%D0%B5_%D0%B7%D0%B0%D0%B4%D0%B0%D0%BD%D0%B8%D0%B5_%D0%BF%D0%BE_%D1%82%D0%B5%D0%BC%D0%B5_%C2%AB%D0%9A%D0%BE%D0%BB%D0%BB%D0%B0%D0%B1%D0%BE%D1%80%D0%B0%D1%82%D0%B8%D0%B2%D0%BD%D0%B0%D1%8F_%D1%84%D0%B8%D0%BB%D1%8C%D1%82%D1%80%D0%B0%D1%86%D0%B8%D1%8F%C2%BB_(%D0%92%D0%BB%D0%B0%D1%81%D0%BE%D0%B2_%D0%90%D0%BD%D1%82%D0%BE%D0%BD).ipynb\" target=\"_parent\"><img src=\"https://colab.research.google.com/assets/colab-badge.svg\" alt=\"Open In Colab\"/></a>"
      ]
    },
    {
      "cell_type": "markdown",
      "metadata": {
        "id": "f6L_8O0hn9FD"
      },
      "source": [
        "Пакет SURPRISE:\n",
        "\n",
        "1.  используйте данные MovieLens 1M,\n",
        "2.  можно использовать любые модели из пакета,\n",
        "3.  получите RMSE на тестовом сете 0,87 и ниже.\n",
        "\n",
        "Комментарий преподавателя:\n",
        "В домашнем задании на датасет 1М может не хватить RAM. Можно сделать на 100K. Качество RMSE предлагаю считать на основе Cross-validation (5 фолдов), а не на отложенном датасете.\n"
      ]
    },
    {
      "cell_type": "code",
      "execution_count": null,
      "metadata": {
        "colab": {
          "base_uri": "https://localhost:8080/"
        },
        "id": "6hYY4Jw3o5Y6",
        "outputId": "12b1860b-0c90-46b6-cac2-0a618ba0f957"
      },
      "outputs": [
        {
          "name": "stdout",
          "output_type": "stream",
          "text": [
            "Defaulting to user installation because normal site-packages is not writeable\n",
            "Requirement already satisfied: surprise in c:\\users\\антон\\appdata\\roaming\\python\\python310\\site-packages (0.1)\n",
            "Requirement already satisfied: scikit-surprise in c:\\users\\антон\\appdata\\roaming\\python\\python310\\site-packages (from surprise) (1.1.3)\n",
            "Requirement already satisfied: numpy>=1.17.3 in c:\\programdata\\anaconda3\\lib\\site-packages (from scikit-surprise->surprise) (1.23.5)\n",
            "Requirement already satisfied: scipy>=1.3.2 in c:\\programdata\\anaconda3\\lib\\site-packages (from scikit-surprise->surprise) (1.10.0)\n",
            "Requirement already satisfied: joblib>=1.0.0 in c:\\programdata\\anaconda3\\lib\\site-packages (from scikit-surprise->surprise) (1.1.1)\n"
          ]
        }
      ],
      "source": [
        "!pip install surprise"
      ]
    },
    {
      "cell_type": "code",
      "execution_count": null,
      "metadata": {
        "id": "Z_aIzp74nycQ"
      },
      "outputs": [],
      "source": [
        "import os\n",
        "import pandas as pd\n",
        "import numpy as np\n",
        "from tqdm import tqdm_notebook\n",
        "from sklearn.feature_extraction.text import TfidfTransformer, CountVectorizer, TfidfVectorizer\n",
        "from sklearn.neighbors import NearestNeighbors\n",
        "from sklearn.pipeline import Pipeline\n",
        "\n",
        "#Импорт surprise\n",
        "from surprise import KNNWithMeans, KNNBasic,SVD,BaselineOnly\n",
        "from surprise import NormalPredictor,KNNWithZScore,SVDpp,NMF,SlopeOne,CoClustering\n",
        "from surprise import Dataset\n",
        "from surprise import accuracy\n",
        "from surprise import Reader\n",
        "from surprise.model_selection import train_test_split\n",
        "from surprise.model_selection import cross_validate\n",
        "%matplotlib inline"
      ]
    },
    {
      "cell_type": "code",
      "execution_count": null,
      "metadata": {
        "id": "sC41jByVUfai",
        "outputId": "db4b0bff-b132-4a35-c340-35d131f59970"
      },
      "outputs": [
        {
          "name": "stderr",
          "output_type": "stream",
          "text": [
            "--2023-12-05 21:15:31--  https://files.grouplens.org/datasets/movielens/ml-latest-small.zip\n",
            "Resolving files.grouplens.org (files.grouplens.org)... 128.101.65.152\n",
            "Connecting to files.grouplens.org (files.grouplens.org)|128.101.65.152|:443... connected.\n",
            "HTTP request sent, awaiting response... 200 OK\n",
            "Length: 978202 (955K) [application/zip]\n",
            "Saving to: 'ml-latest.zip'\n",
            "\n",
            "     0K .......... .......... .......... .......... ..........  5%  179K 5s\n",
            "    50K .......... .......... .......... .......... .......... 10%  363K 4s\n",
            "   100K .......... .......... .......... .......... .......... 15% 11,6M 2s\n",
            "   150K .......... .......... .......... .......... .......... 20%  182K 3s\n",
            "   200K .......... .......... .......... .......... .......... 26% 90,2M 2s\n",
            "   250K .......... .......... .......... .......... .......... 31%  337M 2s\n",
            "   300K .......... .......... .......... .......... .......... 36% 5,22M 1s\n",
            "   350K .......... .......... .......... .......... .......... 41% 1,34M 1s\n",
            "   400K .......... .......... .......... .......... .......... 47%  544K 1s\n",
            "   450K .......... .......... .......... .......... .......... 52% 11,7M 1s\n",
            "   500K .......... .......... .......... .......... .......... 57% 10,8M 1s\n",
            "   550K .......... .......... .......... .......... .......... 62%  387K 1s\n",
            "   600K .......... .......... .......... .......... .......... 68% 11,0M 0s\n",
            "   650K .......... .......... .......... .......... .......... 73% 11,5M 0s\n",
            "   700K .......... .......... .......... .......... .......... 78%  388K 0s\n",
            "   750K .......... .......... .......... .......... .......... 83% 10,6M 0s\n",
            "   800K .......... .......... .......... .......... .......... 88% 8,56M 0s\n",
            "   850K .......... .......... .......... .......... .......... 94%  389K 0s\n",
            "   900K .......... .......... .......... .......... .......... 99% 13,0M 0s\n",
            "   950K .....                                                 100%  101G=1,3s\n",
            "\n",
            "2023-12-05 21:15:33 (763 KB/s) - 'ml-latest.zip' saved [978202/978202]\n",
            "\n"
          ]
        },
        {
          "name": "stdout",
          "output_type": "stream",
          "text": [
            "Archive:  ml-latest.zip\n",
            "  inflating: ml-latest-small/links.csv  \n",
            "  inflating: ml-latest-small/tags.csv  \n",
            "  inflating: ml-latest-small/ratings.csv  \n",
            "  inflating: ml-latest-small/README.txt  \n",
            "  inflating: ml-latest-small/movies.csv  \n"
          ]
        }
      ],
      "source": [
        "#data = Dataset.load_builtin('ml-100k')\n",
        "!wget  https://files.grouplens.org/datasets/movielens/ml-latest-small.zip -O ml-latest.zip\n",
        "#!wget https://files.grouplens.org/datasets/movielens/ml-latest.zip -O ml-latest.zip\n",
        "!unzip -o ml-latest.zip\n",
        "\n",
        "#!rm ./ml-latest -Rf\n",
        "#!mv ./ml-latest-small ./ml-latest\n",
        "prefix = 'ml-latest-small'\n",
        "movies = pd.read_csv(os.path.join(prefix, 'movies.csv'))\n",
        "ratings = pd.read_csv(os.path.join(prefix, 'ratings.csv'))\n"
      ]
    },
    {
      "cell_type": "code",
      "execution_count": null,
      "metadata": {
        "id": "4HHqkXv5Ufaj",
        "outputId": "620b6e2c-11c7-48ff-8945-947bfd286c24"
      },
      "outputs": [
        {
          "data": {
            "text/html": [
              "<div>\n",
              "<style scoped>\n",
              "    .dataframe tbody tr th:only-of-type {\n",
              "        vertical-align: middle;\n",
              "    }\n",
              "\n",
              "    .dataframe tbody tr th {\n",
              "        vertical-align: top;\n",
              "    }\n",
              "\n",
              "    .dataframe thead th {\n",
              "        text-align: right;\n",
              "    }\n",
              "</style>\n",
              "<table border=\"1\" class=\"dataframe\">\n",
              "  <thead>\n",
              "    <tr style=\"text-align: right;\">\n",
              "      <th></th>\n",
              "      <th>userId</th>\n",
              "      <th>movieId</th>\n",
              "      <th>rating</th>\n",
              "    </tr>\n",
              "  </thead>\n",
              "  <tbody>\n",
              "    <tr>\n",
              "      <th>0</th>\n",
              "      <td>1</td>\n",
              "      <td>1</td>\n",
              "      <td>4.0</td>\n",
              "    </tr>\n",
              "    <tr>\n",
              "      <th>1</th>\n",
              "      <td>1</td>\n",
              "      <td>3</td>\n",
              "      <td>4.0</td>\n",
              "    </tr>\n",
              "    <tr>\n",
              "      <th>2</th>\n",
              "      <td>1</td>\n",
              "      <td>6</td>\n",
              "      <td>4.0</td>\n",
              "    </tr>\n",
              "    <tr>\n",
              "      <th>3</th>\n",
              "      <td>1</td>\n",
              "      <td>47</td>\n",
              "      <td>5.0</td>\n",
              "    </tr>\n",
              "    <tr>\n",
              "      <th>4</th>\n",
              "      <td>1</td>\n",
              "      <td>50</td>\n",
              "      <td>5.0</td>\n",
              "    </tr>\n",
              "    <tr>\n",
              "      <th>...</th>\n",
              "      <td>...</td>\n",
              "      <td>...</td>\n",
              "      <td>...</td>\n",
              "    </tr>\n",
              "    <tr>\n",
              "      <th>100831</th>\n",
              "      <td>610</td>\n",
              "      <td>166534</td>\n",
              "      <td>4.0</td>\n",
              "    </tr>\n",
              "    <tr>\n",
              "      <th>100832</th>\n",
              "      <td>610</td>\n",
              "      <td>168248</td>\n",
              "      <td>5.0</td>\n",
              "    </tr>\n",
              "    <tr>\n",
              "      <th>100833</th>\n",
              "      <td>610</td>\n",
              "      <td>168250</td>\n",
              "      <td>5.0</td>\n",
              "    </tr>\n",
              "    <tr>\n",
              "      <th>100834</th>\n",
              "      <td>610</td>\n",
              "      <td>168252</td>\n",
              "      <td>5.0</td>\n",
              "    </tr>\n",
              "    <tr>\n",
              "      <th>100835</th>\n",
              "      <td>610</td>\n",
              "      <td>170875</td>\n",
              "      <td>3.0</td>\n",
              "    </tr>\n",
              "  </tbody>\n",
              "</table>\n",
              "<p>100836 rows × 3 columns</p>\n",
              "</div>"
            ],
            "text/plain": [
              "        userId  movieId  rating\n",
              "0            1        1     4.0\n",
              "1            1        3     4.0\n",
              "2            1        6     4.0\n",
              "3            1       47     5.0\n",
              "4            1       50     5.0\n",
              "...        ...      ...     ...\n",
              "100831     610   166534     4.0\n",
              "100832     610   168248     5.0\n",
              "100833     610   168250     5.0\n",
              "100834     610   168252     5.0\n",
              "100835     610   170875     3.0\n",
              "\n",
              "[100836 rows x 3 columns]"
            ]
          },
          "execution_count": 19,
          "metadata": {},
          "output_type": "execute_result"
        }
      ],
      "source": [
        "data_movielens=ratings.copy()\n",
        "data_movielens=data_movielens.drop(columns=['timestamp'])\n",
        "data_movielens"
      ]
    },
    {
      "cell_type": "code",
      "execution_count": null,
      "metadata": {
        "colab": {
          "base_uri": "https://localhost:8080/",
          "height": 424
        },
        "id": "D0LaZLN60Rvr",
        "outputId": "2d59678e-30ef-4058-948d-56351fe3355f"
      },
      "outputs": [
        {
          "data": {
            "text/html": [
              "<div>\n",
              "<style scoped>\n",
              "    .dataframe tbody tr th:only-of-type {\n",
              "        vertical-align: middle;\n",
              "    }\n",
              "\n",
              "    .dataframe tbody tr th {\n",
              "        vertical-align: top;\n",
              "    }\n",
              "\n",
              "    .dataframe thead th {\n",
              "        text-align: right;\n",
              "    }\n",
              "</style>\n",
              "<table border=\"1\" class=\"dataframe\">\n",
              "  <thead>\n",
              "    <tr style=\"text-align: right;\">\n",
              "      <th></th>\n",
              "      <th>userId</th>\n",
              "      <th>movieId</th>\n",
              "      <th>rating</th>\n",
              "    </tr>\n",
              "  </thead>\n",
              "  <tbody>\n",
              "    <tr>\n",
              "      <th>0</th>\n",
              "      <td>1</td>\n",
              "      <td>1</td>\n",
              "      <td>4.0</td>\n",
              "    </tr>\n",
              "    <tr>\n",
              "      <th>1</th>\n",
              "      <td>1</td>\n",
              "      <td>3</td>\n",
              "      <td>4.0</td>\n",
              "    </tr>\n",
              "    <tr>\n",
              "      <th>2</th>\n",
              "      <td>1</td>\n",
              "      <td>6</td>\n",
              "      <td>4.0</td>\n",
              "    </tr>\n",
              "    <tr>\n",
              "      <th>3</th>\n",
              "      <td>1</td>\n",
              "      <td>47</td>\n",
              "      <td>5.0</td>\n",
              "    </tr>\n",
              "    <tr>\n",
              "      <th>4</th>\n",
              "      <td>1</td>\n",
              "      <td>50</td>\n",
              "      <td>5.0</td>\n",
              "    </tr>\n",
              "    <tr>\n",
              "      <th>...</th>\n",
              "      <td>...</td>\n",
              "      <td>...</td>\n",
              "      <td>...</td>\n",
              "    </tr>\n",
              "    <tr>\n",
              "      <th>100831</th>\n",
              "      <td>610</td>\n",
              "      <td>166534</td>\n",
              "      <td>4.0</td>\n",
              "    </tr>\n",
              "    <tr>\n",
              "      <th>100832</th>\n",
              "      <td>610</td>\n",
              "      <td>168248</td>\n",
              "      <td>5.0</td>\n",
              "    </tr>\n",
              "    <tr>\n",
              "      <th>100833</th>\n",
              "      <td>610</td>\n",
              "      <td>168250</td>\n",
              "      <td>5.0</td>\n",
              "    </tr>\n",
              "    <tr>\n",
              "      <th>100834</th>\n",
              "      <td>610</td>\n",
              "      <td>168252</td>\n",
              "      <td>5.0</td>\n",
              "    </tr>\n",
              "    <tr>\n",
              "      <th>100835</th>\n",
              "      <td>610</td>\n",
              "      <td>170875</td>\n",
              "      <td>3.0</td>\n",
              "    </tr>\n",
              "  </tbody>\n",
              "</table>\n",
              "<p>100836 rows × 3 columns</p>\n",
              "</div>"
            ],
            "text/plain": [
              "        userId  movieId  rating\n",
              "0            1        1     4.0\n",
              "1            1        3     4.0\n",
              "2            1        6     4.0\n",
              "3            1       47     5.0\n",
              "4            1       50     5.0\n",
              "...        ...      ...     ...\n",
              "100831     610   166534     4.0\n",
              "100832     610   168248     5.0\n",
              "100833     610   168250     5.0\n",
              "100834     610   168252     5.0\n",
              "100835     610   170875     3.0\n",
              "\n",
              "[100836 rows x 3 columns]"
            ]
          },
          "execution_count": 20,
          "metadata": {},
          "output_type": "execute_result"
        }
      ],
      "source": [
        "\n",
        "#data_movielens=pd.DataFrame(data.__dict__['raw_ratings'], columns=['user_id','item_id','rating','timestamp'])\n",
        "#data_movielens=data_movielens.drop(columns=['timestamp'])\n",
        "data_movielens"
      ]
    },
    {
      "cell_type": "code",
      "execution_count": null,
      "metadata": {
        "id": "rHjbUADDOyKm"
      },
      "outputs": [],
      "source": [
        "#jdata=ratings.join(movies.set_index('movieId'),on='movieId')\n",
        "#jdata_scoped=jdata[['userId','title','rating']]\n",
        "#jdata_scoped"
      ]
    },
    {
      "cell_type": "code",
      "execution_count": null,
      "metadata": {
        "id": "IH-1eBwEUDlp"
      },
      "outputs": [],
      "source": [
        "reader = Reader(rating_scale=(data_movielens.rating.min(), data_movielens.rating.max()))\n",
        "data = Dataset.load_from_df(data_movielens, reader)"
      ]
    },
    {
      "cell_type": "code",
      "execution_count": null,
      "metadata": {
        "id": "gqE82Cz5VK-a"
      },
      "outputs": [],
      "source": [
        "trainset, testset = train_test_split(data, test_size=.20,random_state=1)"
      ]
    },
    {
      "cell_type": "code",
      "execution_count": null,
      "metadata": {
        "colab": {
          "base_uri": "https://localhost:8080/"
        },
        "id": "gidZRV1rVZTl",
        "outputId": "2e145b02-a538-4ea1-893d-17ce86f10eb6"
      },
      "outputs": [
        {
          "name": "stdout",
          "output_type": "stream",
          "text": [
            "RMSE: 0.8747\n",
            "Evaluating RMSE, MAE of algorithm SVD on 5 split(s).\n",
            "\n",
            "                  Fold 1  Fold 2  Fold 3  Fold 4  Fold 5  Mean    Std     \n",
            "RMSE (testset)    0.8729  0.8710  0.8732  0.8730  0.8762  0.8733  0.0017  \n",
            "MAE (testset)     0.6720  0.6679  0.6661  0.6716  0.6736  0.6702  0.0028  \n",
            "Fit time          0.67    0.67    0.68    0.68    0.65    0.67    0.01    \n",
            "Test time         0.08    0.08    0.23    0.09    0.08    0.11    0.06    \n",
            "{'test_rmse': array([0.87294723, 0.87095616, 0.87324933, 0.87304089, 0.87616418]), 'test_mae': array([0.67201182, 0.66794038, 0.66606027, 0.67159369, 0.67359505]), 'fit_time': (0.6660370826721191, 0.6716041564941406, 0.6757509708404541, 0.679375171661377, 0.6509993076324463), 'test_time': (0.07599973678588867, 0.08100080490112305, 0.2259988784790039, 0.08524632453918457, 0.0840003490447998)}\n"
          ]
        }
      ],
      "source": [
        "armse={}\n",
        "\n",
        "algo = SVD()\n",
        "algo.fit(trainset)\n",
        "predictions = algo.test(testset)\n",
        "\n",
        "# Then compute RMSE\n",
        "accuracy.rmse(predictions)\n",
        "# Run 5-fold cross-validation and print results\n",
        "d=cross_validate(algo, data, measures=[\"RMSE\", \"MAE\"], cv=5, verbose=True)\n",
        "print(d)\n"
      ]
    },
    {
      "cell_type": "code",
      "execution_count": null,
      "metadata": {
        "id": "digRAsNqUfan"
      },
      "outputs": [],
      "source": [
        "svd_rmse=np.mean(d['test_rmse'])\n",
        "armse['SVD']=svd_rmse\n"
      ]
    },
    {
      "cell_type": "markdown",
      "metadata": {
        "id": "9Xfc7AYzxUGM"
      },
      "source": [
        "RMSE вышло больше **0.87**, а нам нужно меньше. попробуем другие алгоритмы."
      ]
    },
    {
      "cell_type": "code",
      "execution_count": null,
      "metadata": {
        "colab": {
          "base_uri": "https://localhost:8080/"
        },
        "id": "oEoXgHuvxdix",
        "outputId": "9a1ff525-461e-4a2c-c2d7-76a04c059c41"
      },
      "outputs": [
        {
          "name": "stdout",
          "output_type": "stream",
          "text": [
            "Algo: KNNWithMeans\n",
            "Computing the msd similarity matrix...\n",
            "Done computing similarity matrix.\n",
            "RMSE: 0.9001\n",
            "Computing the msd similarity matrix...\n",
            "Done computing similarity matrix.\n",
            "Computing the msd similarity matrix...\n",
            "Done computing similarity matrix.\n",
            "Computing the msd similarity matrix...\n",
            "Done computing similarity matrix.\n",
            "Computing the msd similarity matrix...\n",
            "Done computing similarity matrix.\n",
            "Computing the msd similarity matrix...\n",
            "Done computing similarity matrix.\n",
            "Evaluating RMSE, MAE of algorithm KNNWithMeans on 5 split(s).\n",
            "\n",
            "                  Fold 1  Fold 2  Fold 3  Fold 4  Fold 5  Mean    Std     \n",
            "RMSE (testset)    0.8939  0.8959  0.9030  0.8955  0.8978  0.8972  0.0032  \n",
            "MAE (testset)     0.6809  0.6867  0.6895  0.6851  0.6852  0.6855  0.0028  \n",
            "Fit time          0.10    0.12    0.13    0.13    0.12    0.12    0.01    \n",
            "Test time         0.78    0.78    0.78    0.79    0.74    0.78    0.02    \n",
            " \n",
            "Algo: KNNBasic\n",
            "Computing the msd similarity matrix...\n",
            "Done computing similarity matrix.\n",
            "RMSE: 0.9505\n",
            "Computing the msd similarity matrix...\n",
            "Done computing similarity matrix.\n",
            "Computing the msd similarity matrix...\n",
            "Done computing similarity matrix.\n",
            "Computing the msd similarity matrix...\n",
            "Done computing similarity matrix.\n",
            "Computing the msd similarity matrix...\n",
            "Done computing similarity matrix.\n",
            "Computing the msd similarity matrix...\n",
            "Done computing similarity matrix.\n",
            "Evaluating RMSE, MAE of algorithm KNNBasic on 5 split(s).\n",
            "\n",
            "                  Fold 1  Fold 2  Fold 3  Fold 4  Fold 5  Mean    Std     \n",
            "RMSE (testset)    0.9522  0.9471  0.9492  0.9395  0.9532  0.9482  0.0049  \n",
            "MAE (testset)     0.7295  0.7269  0.7292  0.7205  0.7282  0.7269  0.0033  \n",
            "Fit time          0.09    0.10    0.11    0.11    0.11    0.10    0.01    \n",
            "Test time         0.72    0.70    0.72    0.73    0.88    0.75    0.07    \n",
            " \n",
            "Algo: BaselineOnly\n",
            "Estimating biases using als...\n",
            "RMSE: 0.8747\n",
            "Estimating biases using als...\n",
            "Estimating biases using als...\n",
            "Estimating biases using als...\n",
            "Estimating biases using als...\n",
            "Estimating biases using als...\n",
            "Evaluating RMSE, MAE of algorithm BaselineOnly on 5 split(s).\n",
            "\n",
            "                  Fold 1  Fold 2  Fold 3  Fold 4  Fold 5  Mean    Std     \n",
            "RMSE (testset)    0.8685  0.8717  0.8767  0.8717  0.8749  0.8727  0.0028  \n",
            "MAE (testset)     0.6663  0.6735  0.6772  0.6750  0.6723  0.6729  0.0037  \n",
            "Fit time          0.12    0.11    0.12    0.15    0.11    0.12    0.01    \n",
            "Test time         0.05    0.18    0.05    0.04    0.18    0.10    0.07    \n",
            " \n",
            "Algo: NormalPredictor\n",
            "RMSE: 1.4185\n",
            "Evaluating RMSE, MAE of algorithm NormalPredictor on 5 split(s).\n",
            "\n",
            "                  Fold 1  Fold 2  Fold 3  Fold 4  Fold 5  Mean    Std     \n",
            "RMSE (testset)    1.4213  1.4251  1.4253  1.4341  1.4240  1.4260  0.0043  \n",
            "MAE (testset)     1.1357  1.1401  1.1362  1.1467  1.1384  1.1394  0.0040  \n",
            "Fit time          0.06    0.07    0.08    0.07    0.08    0.07    0.01    \n",
            "Test time         0.04    0.06    0.18    0.04    0.05    0.08    0.05    \n",
            " \n",
            "Algo: KNNWithZScore\n",
            "Computing the msd similarity matrix...\n",
            "Done computing similarity matrix.\n",
            "RMSE: 0.9013\n",
            "Computing the msd similarity matrix...\n",
            "Done computing similarity matrix.\n",
            "Computing the msd similarity matrix...\n",
            "Done computing similarity matrix.\n",
            "Computing the msd similarity matrix...\n",
            "Done computing similarity matrix.\n",
            "Computing the msd similarity matrix...\n",
            "Done computing similarity matrix.\n",
            "Computing the msd similarity matrix...\n",
            "Done computing similarity matrix.\n",
            "Evaluating RMSE, MAE of algorithm KNNWithZScore on 5 split(s).\n",
            "\n",
            "                  Fold 1  Fold 2  Fold 3  Fold 4  Fold 5  Mean    Std     \n",
            "RMSE (testset)    0.8878  0.8975  0.9025  0.8942  0.8981  0.8960  0.0049  \n",
            "MAE (testset)     0.6746  0.6811  0.6830  0.6793  0.6804  0.6797  0.0028  \n",
            "Fit time          0.15    0.16    0.18    0.15    0.16    0.16    0.01    \n",
            "Test time         0.81    0.80    0.82    0.82    0.82    0.81    0.01    \n",
            " \n",
            "Algo: SVDpp\n",
            "RMSE: 0.8875\n",
            "Evaluating RMSE, MAE of algorithm SVDpp on 5 split(s).\n",
            "\n",
            "                  Fold 1  Fold 2  Fold 3  Fold 4  Fold 5  Mean    Std     \n",
            "RMSE (testset)    0.8872  0.8826  0.8793  0.8888  0.8899  0.8855  0.0040  \n",
            "MAE (testset)     0.6845  0.6810  0.6809  0.6849  0.6861  0.6835  0.0021  \n",
            "Fit time          6.78    6.56    6.62    6.57    6.51    6.61    0.10    \n",
            "Test time         5.74    5.29    5.82    5.39    5.79    5.61    0.22    \n",
            " \n",
            "Algo: NMF\n",
            "RMSE: 0.9246\n",
            "Evaluating RMSE, MAE of algorithm NMF on 5 split(s).\n",
            "\n",
            "                  Fold 1  Fold 2  Fold 3  Fold 4  Fold 5  Mean    Std     \n",
            "RMSE (testset)    0.9186  0.9177  0.9212  0.9199  0.9235  0.9202  0.0020  \n",
            "MAE (testset)     0.7052  0.7013  0.7008  0.7059  0.7082  0.7043  0.0028  \n",
            "Fit time          1.40    1.46    1.25    1.35    1.36    1.36    0.07    \n",
            "Test time         0.07    0.07    0.23    0.06    0.07    0.10    0.07    \n",
            " \n",
            "Algo: SlopeOne\n",
            "RMSE: 0.9029\n",
            "Evaluating RMSE, MAE of algorithm SlopeOne on 5 split(s).\n",
            "\n",
            "                  Fold 1  Fold 2  Fold 3  Fold 4  Fold 5  Mean    Std     \n",
            "RMSE (testset)    0.8958  0.8977  0.9025  0.9028  0.9115  0.9021  0.0055  \n",
            "MAE (testset)     0.6868  0.6841  0.6885  0.6906  0.6946  0.6889  0.0035  \n",
            "Fit time          2.23    2.26    2.24    2.27    2.19    2.24    0.03    \n",
            "Test time         3.23    3.28    3.16    3.34    3.10    3.22    0.08    \n",
            " \n",
            "Algo: CoClustering\n",
            "RMSE: 0.9472\n",
            "Evaluating RMSE, MAE of algorithm CoClustering on 5 split(s).\n",
            "\n",
            "                  Fold 1  Fold 2  Fold 3  Fold 4  Fold 5  Mean    Std     \n",
            "RMSE (testset)    0.9528  0.9473  0.9475  0.9442  0.9397  0.9463  0.0043  \n",
            "MAE (testset)     0.7366  0.7316  0.7350  0.7313  0.7266  0.7322  0.0035  \n",
            "Fit time          1.82    1.80    1.82    1.78    1.85    1.81    0.02    \n",
            "Test time         0.07    0.24    0.05    0.05    0.06    0.09    0.07    \n",
            " \n"
          ]
        }
      ],
      "source": [
        "another_algos=[KNNWithMeans(),\n",
        "               KNNBasic(random_state=42),\n",
        "               BaselineOnly(),\n",
        "               NormalPredictor(),\n",
        "               KNNWithZScore(random_state=42),\n",
        "               SVDpp(random_state=42,n_epochs=4),NMF(),\n",
        "               SlopeOne(),CoClustering(random_state=42)]\n",
        "for algo in another_algos:\n",
        "  print(\"Algo: \"+algo.__class__.__name__)\n",
        "  algo.fit(trainset)\n",
        "  predictions = algo.test(testset)\n",
        "\n",
        "  # Then compute RMSE\n",
        "  accuracy.rmse(predictions)\n",
        "  # Run 5-fold cross-validation and print results\n",
        "  d=cross_validate(algo, data, measures=[\"RMSE\", \"MAE\"], cv=5, verbose=True)\n",
        "  armse[algo.__class__.__name__]=np.mean(d['test_rmse'])\n",
        "  print(\" \")"
      ]
    },
    {
      "cell_type": "markdown",
      "metadata": {
        "id": "dS-1WUeZ9nI0"
      },
      "source": [
        "Все варианты больше 0.87. Попробуем RandomizedSearchCV, и поперебираем гиперпараметры"
      ]
    },
    {
      "cell_type": "code",
      "execution_count": null,
      "metadata": {
        "id": "I5InBJM-Ufao"
      },
      "outputs": [],
      "source": [
        "from surprise.model_selection import GridSearchCV,RandomizedSearchCV"
      ]
    },
    {
      "cell_type": "code",
      "execution_count": null,
      "metadata": {
        "id": "AH4W4S7p9lkr",
        "outputId": "e4d9b317-59ed-40fb-f7c5-bfb540e318bb"
      },
      "outputs": [
        {
          "name": "stderr",
          "output_type": "stream",
          "text": [
            "[Parallel(n_jobs=-1)]: Using backend LokyBackend with 16 concurrent workers.\n",
            "[Parallel(n_jobs=-1)]: Done  18 tasks      | elapsed:   48.4s\n",
            "[Parallel(n_jobs=-1)]: Done  28 out of  50 | elapsed:  1.2min remaining:   54.4s\n",
            "[Parallel(n_jobs=-1)]: Done  37 out of  50 | elapsed:  1.7min remaining:   35.8s\n",
            "[Parallel(n_jobs=-1)]: Done  46 out of  50 | elapsed:  2.1min remaining:   11.1s\n"
          ]
        },
        {
          "name": "stdout",
          "output_type": "stream",
          "text": [
            "0.8614932300617199\n",
            "{'n_epochs': 10, 'reg_all': 0.1, 'cache_ratings': True, 'lr_all': 0.05, 'n_factors': 40, 'random_state': 1}\n"
          ]
        },
        {
          "name": "stderr",
          "output_type": "stream",
          "text": [
            "[Parallel(n_jobs=-1)]: Done  50 out of  50 | elapsed:  2.2min finished\n"
          ]
        }
      ],
      "source": [
        "\n",
        "param_grid = {\"n_epochs\": [5,10,30], \"reg_all\": [0.001,0.01,0.1],\"cache_ratings\":[True],\"lr_all\":[0.0001,0.005,0.01,0.05],\"n_factors\":[10,20,40],\"random_state\":[1]} #,\"cache_ratings\":[True]\n",
        "gs = RandomizedSearchCV(SVDpp, param_grid, measures=[\"rmse\",\"mae\",\"fcp\",\"mse\"], cv=5,n_jobs=-1,refit=False,joblib_verbose=6) #,\"mae\",\"mse\",\"fcp\" #,n_iter=1000\n",
        "#(cache_ratings=True,random_state=42)\n",
        "\n",
        "gs.fit(data)\n",
        "\n",
        "# best RMSE score\n",
        "print(gs.best_score[\"rmse\"])\n",
        "armse['RandomizedSearchCV_SVDPP']=gs.best_score[\"rmse\"]\n",
        "# combination of parameters that gave the best RMSE score\n",
        "print(gs.best_params[\"rmse\"])"
      ]
    },
    {
      "cell_type": "code",
      "execution_count": null,
      "metadata": {
        "id": "NggSXRjiUfao",
        "outputId": "bb354ae0-f047-40b6-e41f-a261370d2035"
      },
      "outputs": [
        {
          "name": "stdout",
          "output_type": "stream",
          "text": [
            "| Метод             |  RMSE  |\n",
            "|-------------------|--------|\n",
            "| SVD               | 0.8733 |\n",
            "| KNNWithMeans      | 0.8972 |\n",
            "| BaselineOnly      | 0.8727 |\n",
            "| KNNBasic          | 0.9482 |\n",
            "| NormalPredictor   | 1.4260 |\n",
            "| KNNWithZScore     | 0.8960 |\n",
            "| SVDpp             | 0.8855 |\n",
            "| SlopeOne          | 0.9021 |\n",
            "| CoClustering      | 0.9463 |\n",
            "| SearchCV SVDpp    | 0.8615 |\n"
          ]
        }
      ],
      "source": [
        "print('| Метод             |  RMSE  |')\n",
        "print('|-------------------|--------|')\n",
        "print(f'| SVD               | '+str('{:.4f}'.format(armse['SVD']))+' |')\n",
        "print(f'| KNNWithMeans      | '+str('{:.4f}'.format(armse['KNNWithMeans']))+' |')\n",
        "print(f'| BaselineOnly      | '+str('{:.4f}'.format(armse['BaselineOnly']))+' |')\n",
        "print(f'| KNNBasic          | '+str('{:.4f}'.format(armse['KNNBasic']))+' |')\n",
        "print(f'| NormalPredictor   | '+str('{:.4f}'.format(armse['NormalPredictor']))+' |')\n",
        "print(f'| KNNWithZScore     | '+str('{:.4f}'.format(armse['KNNWithZScore']))+' |')\n",
        "print(f'| SVDpp             | '+str('{:.4f}'.format(armse['SVDpp']))+' |')\n",
        "print(f'| SlopeOne          | '+str('{:.4f}'.format(armse['SlopeOne']))+' |')\n",
        "print(f'| CoClustering      | '+str('{:.4f}'.format(armse['CoClustering']))+' |')\n",
        "print(f'| SearchCV SVDpp    | '+str('{:.4f}'.format(armse['RandomizedSearchCV_SVDPP']))+' |')"
      ]
    },
    {
      "cell_type": "code",
      "execution_count": null,
      "metadata": {
        "id": "L12yzpNfUfao"
      },
      "outputs": [],
      "source": []
    }
  ],
  "metadata": {
    "colab": {
      "provenance": [],
      "include_colab_link": true
    },
    "kernelspec": {
      "display_name": "Python 3 (ipykernel)",
      "language": "python",
      "name": "python3"
    },
    "language_info": {
      "codemirror_mode": {
        "name": "ipython",
        "version": 3
      },
      "file_extension": ".py",
      "mimetype": "text/x-python",
      "name": "python",
      "nbconvert_exporter": "python",
      "pygments_lexer": "ipython3",
      "version": "3.10.9"
    }
  },
  "nbformat": 4,
  "nbformat_minor": 0
}