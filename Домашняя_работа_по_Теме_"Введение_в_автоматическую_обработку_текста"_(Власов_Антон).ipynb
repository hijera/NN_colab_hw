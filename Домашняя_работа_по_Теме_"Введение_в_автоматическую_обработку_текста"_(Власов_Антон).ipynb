{
  "cells": [
    {
      "cell_type": "markdown",
      "metadata": {
        "id": "view-in-github",
        "colab_type": "text"
      },
      "source": [
        "<a href=\"https://colab.research.google.com/github/hijera/NN_colab_hw/blob/main/%D0%94%D0%BE%D0%BC%D0%B0%D1%88%D0%BD%D1%8F%D1%8F_%D1%80%D0%B0%D0%B1%D0%BE%D1%82%D0%B0_%D0%BF%D0%BE_%D0%A2%D0%B5%D0%BC%D0%B5_%22%D0%92%D0%B2%D0%B5%D0%B4%D0%B5%D0%BD%D0%B8%D0%B5_%D0%B2_%D0%B0%D0%B2%D1%82%D0%BE%D0%BC%D0%B0%D1%82%D0%B8%D1%87%D0%B5%D1%81%D0%BA%D1%83%D1%8E_%D0%BE%D0%B1%D1%80%D0%B0%D0%B1%D0%BE%D1%82%D0%BA%D1%83_%D1%82%D0%B5%D0%BA%D1%81%D1%82%D0%B0%22_(%D0%92%D0%BB%D0%B0%D1%81%D0%BE%D0%B2_%D0%90%D0%BD%D1%82%D0%BE%D0%BD).ipynb\" target=\"_parent\"><img src=\"https://colab.research.google.com/assets/colab-badge.svg\" alt=\"Open In Colab\"/></a>"
      ]
    },
    {
      "cell_type": "raw",
      "id": "8cc2d117-2821-41ea-963e-1deb1fa30910",
      "metadata": {
        "id": "8cc2d117-2821-41ea-963e-1deb1fa30910"
      },
      "source": [
        "Классифицировать по тональности отзывы на банки с сайта banki.ru\n",
        "Данные содержат непосредственно тексты отзывов, некоторую дополнительную информацию, а также оценку по шкале от 1 до 5\n",
        "1. Анализ текста\n",
        "1.1. Посчитайте количество отзывов в разных городах и на разные банки\n",
        "1.2. Постройте гистограмы длин слов в символах и в словах\n",
        "1.3. Найдите 10 самых частых: слов, слов без стоп-слов, лемм, существительных\n",
        "1.4 Постройте кривые Ципфа и Хипса\n",
        "1.5 Ответьте на вопросы: какое слово встречается чаще, \"сотрудник\" или \"клиент\", сколько раз встречается слова \"мошенничество\" и\n",
        "\"доверие\"?\n",
        "1.6. В поле \"rating_grade\" записана оценка отзыва по шкале от 1 до 5. Используйте меру $tf-idf$, для того, чтобы найти ключевые слова и\n",
        "биграмы для положительных отзывов (с оценкой 5) и отрицательных отзывов (с оценкой 1)\n",
        "2. Тематическое моделирование\n",
        "2.1. Постройте несколько тематических моделей коллекции документов с разным числом тем\n",
        "2.2. Приведите примеры понятных (интерпретируемых) тем\n",
        "2.3. Найдите темы, в которых упомянуты конкретные банки (Сбербанк, ВТБ, другой банк). Можете ли вы их прокомментировать /\n",
        "объяснить?\n",
        "3. Классификация текстов\n",
        "Будем классифицировать на два класса, различать резко отрицательные отзывы (с оценкой 1) и положительные отзывы (с оценкой 5)\n",
        "3.1. Составьте обучающее и тестовое множество: выберите из всего набора данных N1 отзывов с оценкой 1 и N2 отзывов с оценкой\n",
        "5. Используйте sklearn.model_selection.train_test_split для разделения множества отобранных документов на обучающее и тестовое\n",
        "3.2. Используйте любой известный вам алгоритм классификации текстов для решения задачи и получите baseline.\n",
        "3.3. Сравните разные варианты векторизации текста: использование только униграм, пар или троек слов или с использованием\n",
        "символьных $n$-грам.\n",
        "3.4. Сравните, как изменяется качество решения задачи при использовании скрытых тем в качестве признаков:\n",
        "1-ый вариант: $tf-idf$ преобразование (sklearn.feature_extraction.text.TfidfTransformer) и сингулярное разложение (оно же – латентый\n",
        "семантический анализ) (sklearn.decomposition.TruncatedSVD),\n",
        "2-ой вариант: тематические модели LDA (sklearn.decomposition.LatentDirichletAllocation).\n",
        "3.5. Используйте accuracy и F-measure для оценки качества классификации.\n",
        "Результат:\n",
        "● Ноутбук с обученной моделью, где показаны результаты метрик качества: accuracy и f1-score"
      ]
    },
    {
      "cell_type": "code",
      "execution_count": null,
      "id": "041fa165-9926-4ee4-b767-11b1a53d35cd",
      "metadata": {
        "tags": [],
        "id": "041fa165-9926-4ee4-b767-11b1a53d35cd"
      },
      "outputs": [],
      "source": [
        "import pandas as pd\n",
        "import matplotlib.pyplot as plt\n",
        "import warnings\n",
        "warnings.filterwarnings('ignore')\n",
        "from sklearn.feature_extraction.text import CountVectorizer\n",
        "from sklearn.model_selection import train_test_split\n",
        "from sklearn.metrics import *\n",
        "from sklearn.pipeline import Pipeline\n",
        "from sklearn.linear_model import LogisticRegression\n",
        "%matplotlib inline"
      ]
    },
    {
      "cell_type": "code",
      "execution_count": null,
      "id": "eb00c5cc-1316-4756-914a-8df15b2d226a",
      "metadata": {
        "tags": [],
        "id": "eb00c5cc-1316-4756-914a-8df15b2d226a",
        "outputId": "4afc2a83-8bd8-46d6-b848-b7fb57d357cf"
      },
      "outputs": [
        {
          "name": "stdout",
          "output_type": "stream",
          "text": [
            "Python 3.10.9\n"
          ]
        }
      ],
      "source": [
        "!python --version"
      ]
    },
    {
      "cell_type": "code",
      "execution_count": null,
      "id": "d1bc0b1d-acde-4d74-af7c-496d69e23500",
      "metadata": {
        "tags": [],
        "id": "d1bc0b1d-acde-4d74-af7c-496d69e23500",
        "outputId": "f3262fd1-03b0-4ba8-8fae-3f275663873b"
      },
      "outputs": [
        {
          "name": "stdout",
          "output_type": "stream",
          "text": [
            "Defaulting to user installation because normal site-packages is not writeable\n",
            "Requirement already satisfied: nltk in c:\\users\\антон\\appdata\\roaming\\python\\python310\\site-packages (3.8.1)\n",
            "Requirement already satisfied: joblib in c:\\programdata\\anaconda3\\lib\\site-packages (from nltk) (1.1.1)\n",
            "Requirement already satisfied: tqdm in c:\\programdata\\anaconda3\\lib\\site-packages (from nltk) (4.64.1)\n",
            "Requirement already satisfied: regex>=2021.8.3 in c:\\programdata\\anaconda3\\lib\\site-packages (from nltk) (2022.7.9)\n",
            "Requirement already satisfied: click in c:\\programdata\\anaconda3\\lib\\site-packages (from nltk) (8.0.4)\n",
            "Requirement already satisfied: colorama in c:\\programdata\\anaconda3\\lib\\site-packages (from click->nltk) (0.4.6)\n"
          ]
        }
      ],
      "source": [
        "!pip install --upgrade nltk"
      ]
    },
    {
      "cell_type": "code",
      "execution_count": null,
      "id": "b4be4abd-7553-45e0-9457-d4f38866d850",
      "metadata": {
        "id": "b4be4abd-7553-45e0-9457-d4f38866d850",
        "outputId": "f2e96314-3363-4c7a-d1b0-c569fcff4204"
      },
      "outputs": [
        {
          "name": "stdout",
          "output_type": "stream",
          "text": [
            "Defaulting to user installation because normal site-packages is not writeable\n",
            "Requirement already satisfied: pymorphy2 in c:\\users\\антон\\appdata\\roaming\\python\\python310\\site-packages (0.9.1)\n",
            "Requirement already satisfied: dawg-python>=0.7.1 in c:\\users\\антон\\appdata\\roaming\\python\\python310\\site-packages (from pymorphy2) (0.7.2)\n",
            "Requirement already satisfied: pymorphy2-dicts-ru<3.0,>=2.4 in c:\\users\\антон\\appdata\\roaming\\python\\python310\\site-packages (from pymorphy2) (2.4.417127.4579844)\n",
            "Requirement already satisfied: docopt>=0.6 in c:\\users\\антон\\appdata\\roaming\\python\\python310\\site-packages (from pymorphy2) (0.6.2)\n"
          ]
        }
      ],
      "source": [
        "!pip install pymorphy2"
      ]
    },
    {
      "cell_type": "code",
      "execution_count": null,
      "id": "d51b8f38-5996-4784-8e08-cd89b4818f53",
      "metadata": {
        "id": "d51b8f38-5996-4784-8e08-cd89b4818f53",
        "outputId": "2f6440db-4b20-442a-a084-829db2023e57"
      },
      "outputs": [
        {
          "data": {
            "text/html": [
              "<div>\n",
              "<style scoped>\n",
              "    .dataframe tbody tr th:only-of-type {\n",
              "        vertical-align: middle;\n",
              "    }\n",
              "\n",
              "    .dataframe tbody tr th {\n",
              "        vertical-align: top;\n",
              "    }\n",
              "\n",
              "    .dataframe thead th {\n",
              "        text-align: right;\n",
              "    }\n",
              "</style>\n",
              "<table border=\"1\" class=\"dataframe\">\n",
              "  <thead>\n",
              "    <tr style=\"text-align: right;\">\n",
              "      <th></th>\n",
              "      <th>city</th>\n",
              "      <th>rating_not_checked</th>\n",
              "      <th>title</th>\n",
              "      <th>num_comments</th>\n",
              "      <th>bank_license</th>\n",
              "      <th>author</th>\n",
              "      <th>bank_name</th>\n",
              "      <th>datetime</th>\n",
              "      <th>text</th>\n",
              "      <th>rating_grade</th>\n",
              "    </tr>\n",
              "  </thead>\n",
              "  <tbody>\n",
              "    <tr>\n",
              "      <th>0</th>\n",
              "      <td>г. Воронеж</td>\n",
              "      <td>True</td>\n",
              "      <td>Ипотека на 5+</td>\n",
              "      <td>0</td>\n",
              "      <td>лицензия № 1623</td>\n",
              "      <td>e.novikova</td>\n",
              "      <td>ВТБ 24</td>\n",
              "      <td>2015-06-08 11:06:56</td>\n",
              "      <td>Здравствуйте!  Хотелось бы выразить благодарно...</td>\n",
              "      <td>5.0</td>\n",
              "    </tr>\n",
              "    <tr>\n",
              "      <th>1</th>\n",
              "      <td>г. Казань</td>\n",
              "      <td>True</td>\n",
              "      <td>ЗВОНКИ СОСЕДЯМ</td>\n",
              "      <td>0</td>\n",
              "      <td>лицензия № 2289</td>\n",
              "      <td>KZN\\Vorontsova_NA</td>\n",
              "      <td>Русский Стандарт</td>\n",
              "      <td>2015-06-06 18:17:52</td>\n",
              "      <td>Уважаемые представители департамента по работе...</td>\n",
              "      <td>2.0</td>\n",
              "    </tr>\n",
              "    <tr>\n",
              "      <th>2</th>\n",
              "      <td>г. Санкт-Петербург</td>\n",
              "      <td>True</td>\n",
              "      <td>Ложная информация!!!!</td>\n",
              "      <td>0</td>\n",
              "      <td>лицензия № 2307</td>\n",
              "      <td>Evgenia15</td>\n",
              "      <td>Союз</td>\n",
              "      <td>2015-06-07 19:08:33</td>\n",
              "      <td>Здравствуйте. Столкнулась с такой ситуацией. в...</td>\n",
              "      <td>2.0</td>\n",
              "    </tr>\n",
              "    <tr>\n",
              "      <th>3</th>\n",
              "      <td>г. Москва</td>\n",
              "      <td>True</td>\n",
              "      <td>Банкомат не зачислил деньги на счет</td>\n",
              "      <td>1</td>\n",
              "      <td>лицензия № 2557</td>\n",
              "      <td>dolgov.work</td>\n",
              "      <td>Ситибанк</td>\n",
              "      <td>2015-06-07 19:22:00</td>\n",
              "      <td>1 июня 2015 в Москве в отделении по адресу Смо...</td>\n",
              "      <td>1.0</td>\n",
              "    </tr>\n",
              "    <tr>\n",
              "      <th>4</th>\n",
              "      <td>г. Волгоград</td>\n",
              "      <td>True</td>\n",
              "      <td>Невозможно закрыть карту 2(два)!!!</td>\n",
              "      <td>0</td>\n",
              "      <td>лицензия № 3354</td>\n",
              "      <td>copLine</td>\n",
              "      <td>Ренессанс Кредит</td>\n",
              "      <td>2015-06-08 14:54:55</td>\n",
              "      <td>История очень долгая! Пришел я в банк (это раз...</td>\n",
              "      <td>1.0</td>\n",
              "    </tr>\n",
              "  </tbody>\n",
              "</table>\n",
              "</div>"
            ],
            "text/plain": [
              "                 city  rating_not_checked  \\\n",
              "0          г. Воронеж                True   \n",
              "1           г. Казань                True   \n",
              "2  г. Санкт-Петербург                True   \n",
              "3           г. Москва                True   \n",
              "4        г. Волгоград                True   \n",
              "\n",
              "                                 title  num_comments     bank_license  \\\n",
              "0                        Ипотека на 5+             0  лицензия № 1623   \n",
              "1                       ЗВОНКИ СОСЕДЯМ             0  лицензия № 2289   \n",
              "2                Ложная информация!!!!             0  лицензия № 2307   \n",
              "3  Банкомат не зачислил деньги на счет             1  лицензия № 2557   \n",
              "4   Невозможно закрыть карту 2(два)!!!             0  лицензия № 3354   \n",
              "\n",
              "              author         bank_name            datetime  \\\n",
              "0         e.novikova            ВТБ 24 2015-06-08 11:06:56   \n",
              "1  KZN\\Vorontsova_NA  Русский Стандарт 2015-06-06 18:17:52   \n",
              "2          Evgenia15              Союз 2015-06-07 19:08:33   \n",
              "3        dolgov.work          Ситибанк 2015-06-07 19:22:00   \n",
              "4            copLine  Ренессанс Кредит 2015-06-08 14:54:55   \n",
              "\n",
              "                                                text  rating_grade  \n",
              "0  Здравствуйте!  Хотелось бы выразить благодарно...           5.0  \n",
              "1  Уважаемые представители департамента по работе...           2.0  \n",
              "2  Здравствуйте. Столкнулась с такой ситуацией. в...           2.0  \n",
              "3  1 июня 2015 в Москве в отделении по адресу Смо...           1.0  \n",
              "4  История очень долгая! Пришел я в банк (это раз...           1.0  "
            ]
          },
          "execution_count": 5,
          "metadata": {},
          "output_type": "execute_result"
        }
      ],
      "source": [
        "df = pd.read_json(\"banki_responses.json\", lines=True)\n",
        "\n",
        "# Print DataFrame\n",
        "df.head()"
      ]
    },
    {
      "cell_type": "code",
      "execution_count": null,
      "id": "126f808d-2c9f-4ee6-b2a7-178e1393bc03",
      "metadata": {
        "id": "126f808d-2c9f-4ee6-b2a7-178e1393bc03"
      },
      "outputs": [],
      "source": [
        "import re\n",
        "from nltk.corpus import stopwords\n",
        "from string import punctuation\n",
        "from tqdm import tqdm"
      ]
    },
    {
      "cell_type": "code",
      "execution_count": null,
      "id": "6476f664-7646-45c1-9682-e613c315d4b3",
      "metadata": {
        "id": "6476f664-7646-45c1-9682-e613c315d4b3",
        "outputId": "d9a73414-a720-4d6a-92fa-8286f221ba88"
      },
      "outputs": [
        {
          "name": "stdout",
          "output_type": "stream",
          "text": [
            "<class 'pandas.core.frame.DataFrame'>\n",
            "RangeIndex: 201030 entries, 0 to 201029\n",
            "Data columns (total 10 columns):\n",
            " #   Column              Non-Null Count   Dtype         \n",
            "---  ------              --------------   -----         \n",
            " 0   city                185492 non-null  object        \n",
            " 1   rating_not_checked  201030 non-null  bool          \n",
            " 2   title               201030 non-null  object        \n",
            " 3   num_comments        201030 non-null  int64         \n",
            " 4   bank_license        201026 non-null  object        \n",
            " 5   author              201009 non-null  object        \n",
            " 6   bank_name           201030 non-null  object        \n",
            " 7   datetime            201030 non-null  datetime64[ns]\n",
            " 8   text                201030 non-null  object        \n",
            " 9   rating_grade        136189 non-null  float64       \n",
            "dtypes: bool(1), datetime64[ns](1), float64(1), int64(1), object(6)\n",
            "memory usage: 14.0+ MB\n"
          ]
        }
      ],
      "source": [
        "df.info()"
      ]
    },
    {
      "cell_type": "markdown",
      "id": "e567da17-5090-4a7b-aa49-b7d9c50402aa",
      "metadata": {
        "id": "e567da17-5090-4a7b-aa49-b7d9c50402aa"
      },
      "source": [
        "# Часть 1. Анализ текстов\n",
        "## 1. Посчитайте количество отзывов в разных городах и на разные банки"
      ]
    },
    {
      "cell_type": "code",
      "execution_count": null,
      "id": "2c91afad-fae9-4184-aef8-4911b20d276b",
      "metadata": {
        "id": "2c91afad-fae9-4184-aef8-4911b20d276b",
        "outputId": "0cb82901-252f-4131-b998-32f31e7a4136"
      },
      "outputs": [
        {
          "data": {
            "text/plain": [
              "7151"
            ]
          },
          "execution_count": 8,
          "metadata": {},
          "output_type": "execute_result"
        }
      ],
      "source": [
        "df['city'].nunique()"
      ]
    },
    {
      "cell_type": "markdown",
      "id": "e87c3ce2-9a61-458a-b0b9-9d394e9ecc0c",
      "metadata": {
        "id": "e87c3ce2-9a61-458a-b0b9-9d394e9ecc0c"
      },
      "source": [
        "Всего у нас 201 тысяча записей, по 7151 городам."
      ]
    },
    {
      "cell_type": "code",
      "execution_count": null,
      "id": "9de68bec-2182-40e7-a426-5ed80d52c96e",
      "metadata": {
        "id": "9de68bec-2182-40e7-a426-5ed80d52c96e",
        "outputId": "9c1f084b-72d6-4569-e28e-683fd0ba47e8"
      },
      "outputs": [
        {
          "data": {
            "text/plain": [
              "bank_name\n",
              "Сбербанк России     30977\n",
              "Альфа-Банк          13651\n",
              "Русский Стандарт    10952\n",
              "ВТБ 24              10556\n",
              "Хоум Кредит Банк    10130\n",
              "                    ...  \n",
              "Синергия                1\n",
              "Система                 1\n",
              "Москва-Сити             1\n",
              "Индустриальный          1\n",
              "Лесбанк                 1\n",
              "Length: 733, dtype: int64"
            ]
          },
          "execution_count": 9,
          "metadata": {},
          "output_type": "execute_result"
        }
      ],
      "source": [
        "\n",
        "df.value_counts('bank_name')"
      ]
    },
    {
      "cell_type": "markdown",
      "id": "19e2f956-4230-4d73-b0a2-a2aaa1c9d210",
      "metadata": {
        "id": "19e2f956-4230-4d73-b0a2-a2aaa1c9d210"
      },
      "source": [
        "## 2. Постройте гистограмы длин в символах и в словах"
      ]
    },
    {
      "cell_type": "code",
      "execution_count": null,
      "id": "22ec3fba-23f4-4e58-9ffd-c21302568d50",
      "metadata": {
        "id": "22ec3fba-23f4-4e58-9ffd-c21302568d50"
      },
      "outputs": [],
      "source": [
        "import re\n",
        "def process_text(text):\n",
        "    newtext=re.sub('[^a-zA-Zа-яА-Я0-9]', ' ', text)\n",
        "    newtext=re.sub('\\s+',' ',newtext)\n",
        "    return newtext"
      ]
    },
    {
      "cell_type": "code",
      "execution_count": null,
      "id": "3472722f-cf4c-4c2e-b09c-0a4d92385133",
      "metadata": {
        "id": "3472722f-cf4c-4c2e-b09c-0a4d92385133"
      },
      "outputs": [],
      "source": []
    },
    {
      "cell_type": "code",
      "execution_count": null,
      "id": "a9125e6f-69f0-4fe1-884b-16ab0cfb9675",
      "metadata": {
        "id": "a9125e6f-69f0-4fe1-884b-16ab0cfb9675",
        "outputId": "ec1520ed-7561-4f91-8bd5-b6ac3405bb43"
      },
      "outputs": [
        {
          "data": {
            "image/png": "[encoded data removed]",
            "text/plain": [
              "<Figure size 640x480 with 1 Axes>"
            ]
          },
          "metadata": {},
          "output_type": "display_data"
        }
      ],
      "source": [
        "df['lenght_in_char'] = df['text'].apply(lambda x: len(x))\n",
        "df['lenght_in_word'] = df['text'].apply(lambda x: len(process_text(x).split(' ')))\n",
        "df['lenght_in_char'].hist(bins=20)\n",
        "plt.title('Длина в символах')\n",
        "plt.xlabel('Число символов')\n",
        "plt.ylabel('Число текстов')\n",
        "plt.show()"
      ]
    },
    {
      "cell_type": "code",
      "execution_count": null,
      "id": "bfb16410-40ce-4f04-9315-c4dd92950444",
      "metadata": {
        "id": "bfb16410-40ce-4f04-9315-c4dd92950444",
        "outputId": "ddc1c625-48d4-4c26-c0c7-dccd023b1b05"
      },
      "outputs": [
        {
          "data": {
            "image/png": "[encoded data removed]",
            "text/plain": [
              "<Figure size 640x480 with 1 Axes>"
            ]
          },
          "metadata": {},
          "output_type": "display_data"
        }
      ],
      "source": [
        "\n",
        "df['lenght_in_word'].hist(bins=20)\n",
        "plt.title('Длина слов')\n",
        "plt.xlabel('Число слов')\n",
        "plt.ylabel('Число текстов')\n",
        "plt.show()"
      ]
    },
    {
      "cell_type": "markdown",
      "id": "dffb1f94-ff8d-4378-8822-8ae32165a17b",
      "metadata": {
        "id": "dffb1f94-ff8d-4378-8822-8ae32165a17b"
      },
      "source": [
        "## 3. Найдите 10 самых частых слов"
      ]
    },
    {
      "cell_type": "code",
      "execution_count": null,
      "id": "5117e2d1-726b-49aa-b59d-5d0133d3dd27",
      "metadata": {
        "id": "5117e2d1-726b-49aa-b59d-5d0133d3dd27",
        "outputId": "8cd4c88f-8554-4772-fb75-bb9ee4eb1af8"
      },
      "outputs": [
        {
          "name": "stderr",
          "output_type": "stream",
          "text": [
            "[nltk_data] Downloading package punkt to\n",
            "[nltk_data]     C:\\Users\\Антон\\AppData\\Roaming\\nltk_data...\n",
            "[nltk_data]   Unzipping tokenizers\\punkt.zip.\n"
          ]
        },
        {
          "name": "stdout",
          "output_type": "stream",
          "text": [
            "45061880\n"
          ]
        },
        {
          "data": {
            "text/plain": [
              "[('в', 1613491),\n",
              " ('и', 1304594),\n",
              " ('не', 1039930),\n",
              " ('на', 857555),\n",
              " ('что', 753015),\n",
              " ('я', 697234),\n",
              " ('с', 559536),\n",
              " ('по', 446944),\n",
              " ('мне', 388600),\n",
              " ('банка', 329946)]"
            ]
          },
          "execution_count": 13,
          "metadata": {},
          "output_type": "execute_result"
        }
      ],
      "source": [
        "\n",
        "from nltk.tokenize import word_tokenize\n",
        "import nltk\n",
        "nltk.download('punkt')\n",
        "from collections import Counter\n",
        "\n",
        "vocabul = [token for tweet in df['text'] for token in word_tokenize(tweet.lower()) if token not in punctuation]\n",
        "print(len(vocabul))\n",
        "freq_dict = Counter(vocabul)\n",
        "freq_dict.most_common(10)"
      ]
    },
    {
      "cell_type": "code",
      "execution_count": null,
      "id": "6f29e2b9-28be-4ff4-8287-c506e799f795",
      "metadata": {
        "id": "6f29e2b9-28be-4ff4-8287-c506e799f795"
      },
      "outputs": [],
      "source": [
        "#Ищем слова без стоп - слов\n",
        "nltk.download('stopwords')\n",
        "noise = stopwords.words('russian') + list(punctuation) + ['``','\\'\\'', '...']\n",
        "vocabul = [token.lower() for tweet in df['text'] for token in word_tokenize(tweet.lower()) if token not in noise]\n",
        "print(len(vocabul))\n",
        "freq_dict_ws = Counter(vocabul)\n",
        "freq_dict_ws.most_common(10)"
      ]
    },
    {
      "cell_type": "code",
      "execution_count": null,
      "id": "846bde19",
      "metadata": {
        "id": "846bde19",
        "outputId": "6240e4a6-daf4-4a94-da0b-60a70bce00dd"
      },
      "outputs": [
        {
          "name": "stdout",
          "output_type": "stream",
          "text": [
            "Defaulting to user installation because normal site-packages is not writeable\n",
            "Requirement already satisfied: tqdm in c:\\programdata\\anaconda3\\lib\\site-packages (4.64.1)\n",
            "Requirement already satisfied: colorama in c:\\programdata\\anaconda3\\lib\\site-packages (from tqdm) (0.4.6)\n"
          ]
        }
      ],
      "source": [
        "!pip install tqdm"
      ]
    },
    {
      "cell_type": "code",
      "execution_count": null,
      "id": "9943c3fd-5f67-47e1-bac0-cdf0d52bb8d3",
      "metadata": {
        "id": "9943c3fd-5f67-47e1-bac0-cdf0d52bb8d3",
        "outputId": "9b7686cc-f35b-42e4-ed69-efc2e6414730"
      },
      "outputs": [
        {
          "name": "stderr",
          "output_type": "stream",
          "text": [
            "100%|███████████████████████████████████████████████████████████████████| 28794140/28794140 [41:15<00:00, 11629.33it/s]\n"
          ]
        },
        {
          "data": {
            "text/plain": [
              "[('банк', 795956),\n",
              " ('карта', 400640),\n",
              " ('это', 246845),\n",
              " ('деньга', 216817),\n",
              " ('день', 207958),\n",
              " ('кредит', 205593),\n",
              " ('мой', 201006),\n",
              " ('который', 183081),\n",
              " ('счёт', 170479),\n",
              " ('отделение', 168285)]"
            ]
          },
          "execution_count": 19,
          "metadata": {},
          "output_type": "execute_result"
        }
      ],
      "source": [
        "#Топ 10 лемм\n",
        "import pymorphy2\n",
        "from tqdm import tqdm\n",
        "morph = pymorphy2.MorphAnalyzer()\n",
        "\n",
        "corpus_lem = []\n",
        "for token in tqdm(vocabul):\n",
        "    corpus_lem.append(morph.parse(token)[0].normal_form)\n",
        "freq_dict = Counter(corpus_lem)\n",
        "freq_dict.most_common(10)\n",
        ""
      ]
    },
    {
      "cell_type": "code",
      "execution_count": null,
      "id": "de44200f-139f-4871-9e3e-019492a443c7",
      "metadata": {
        "id": "de44200f-139f-4871-9e3e-019492a443c7",
        "outputId": "4d317cc4-64ed-4e83-b13c-62bf0ef0beee"
      },
      "outputs": [
        {
          "name": "stderr",
          "output_type": "stream",
          "text": [
            "100%|███████████████████████████████████████████████████████████████████| 28794140/28794140 [42:07<00:00, 11391.63it/s]\n"
          ]
        },
        {
          "data": {
            "text/plain": [
              "[('банк', 795956),\n",
              " ('карта', 400640),\n",
              " ('деньга', 216817),\n",
              " ('день', 207958),\n",
              " ('кредит', 205593),\n",
              " ('счёт', 170479),\n",
              " ('отделение', 168285),\n",
              " ('клиент', 168050),\n",
              " ('сотрудник', 165902),\n",
              " ('сумма', 138299)]"
            ]
          },
          "execution_count": 23,
          "metadata": {},
          "output_type": "execute_result"
        }
      ],
      "source": [
        "#Топ 10 существительных\n",
        "\n",
        "\n",
        "morph = pymorphy2.MorphAnalyzer()\n",
        "\n",
        "corpus_lem_noun = []\n",
        "for token in tqdm(corpus_lem):\n",
        "    p = morph.parse(token)[0]\n",
        "    if 'NOUN' in p.tag:\n",
        "        corpus_lem_noun.append(token)\n",
        "freq_dict_noun = Counter(corpus_lem_noun)\n",
        "freq_dict_noun.most_common(10)"
      ]
    },
    {
      "cell_type": "markdown",
      "id": "48a9ce8f",
      "metadata": {
        "id": "48a9ce8f"
      },
      "source": [
        "## Построить кривые Ципфа и Хикса"
      ]
    },
    {
      "cell_type": "code",
      "execution_count": null,
      "id": "f19d55fa",
      "metadata": {
        "id": "f19d55fa",
        "outputId": "2d87b514-5f4a-4d80-f2e9-ab722de3e823"
      },
      "outputs": [
        {
          "data": {
            "image/png": "[encoded data removed]",
            "text/plain": [
              "<Figure size 640x480 with 1 Axes>"
            ]
          },
          "metadata": {},
          "output_type": "display_data"
        }
      ],
      "source": [
        "#Кривая по закону Ципфа\n",
        "\n",
        "freqs_cipf = list(freq_dict.values())\n",
        "freqs_cipf = sorted(freqs_cipf, reverse = True)\n",
        "\n",
        "fig, ax = plt.subplots()\n",
        "ax.plot(freqs_cipf[:300], range(300))\n",
        "plt.show()"
      ]
    },
    {
      "cell_type": "code",
      "execution_count": null,
      "id": "0df2faec",
      "metadata": {
        "id": "0df2faec",
        "outputId": "0755b73b-b518-4ca4-8e96-d9d277577135"
      },
      "outputs": [
        {
          "name": "stderr",
          "output_type": "stream",
          "text": [
            "100%|█████████████████████████████████████████████████████████████████████████| 201030/201030 [11:45<00:00, 284.75it/s]\n"
          ]
        },
        {
          "data": {
            "image/png": "[encoded data removed]",
            "text/plain": [
              "<Figure size 640x480 with 1 Axes>"
            ]
          },
          "metadata": {},
          "output_type": "display_data"
        }
      ],
      "source": [
        "#Кривая по закону Хипса\n",
        "cnt = Counter()\n",
        "n_words = []\n",
        "n_tokens = []\n",
        "tokens = []\n",
        "for row in tqdm(df['text']):\n",
        "    tokens = word_tokenize(row)\n",
        "    cnt.update([token for token in tokens if token not in punctuation])\n",
        "    n_words.append(len(cnt))\n",
        "    n_tokens.append(sum(cnt.values()))\n",
        "fig, ax = plt.subplots()\n",
        "ax.plot(n_tokens, n_words)\n",
        "plt.show()"
      ]
    },
    {
      "cell_type": "markdown",
      "id": "d5b0a4a0",
      "metadata": {
        "id": "d5b0a4a0"
      },
      "source": [
        "## Ответить на вопросы"
      ]
    },
    {
      "cell_type": "code",
      "execution_count": null,
      "id": "6f2134ae",
      "metadata": {
        "id": "6f2134ae",
        "outputId": "50992fde-ebac-4423-ed0b-efadd03c3348"
      },
      "outputs": [
        {
          "name": "stdout",
          "output_type": "stream",
          "text": [
            "employee vs client: 165902 vs 168050\n",
            "Чаще встречается: слово клиент\n"
          ]
        }
      ],
      "source": [
        "# какое слово встречается чаще, \"сотрудник\" или \"клиент\"\n",
        "employee = freq_dict['сотрудник']\n",
        "client = freq_dict['клиент']\n",
        "print(\"employee vs client: \"+str(employee)+\" vs \"+str(client))\n",
        "print(\"Чаще встречается: \"+( \"слово сотрудник\"  if (employee>client) else 'оба слова встречаются в равной мере' if (employee==client)  else 'слово клиент'))"
      ]
    },
    {
      "cell_type": "code",
      "execution_count": null,
      "id": "226a2fde",
      "metadata": {
        "id": "226a2fde",
        "outputId": "e5dd27c6-6041-4079-ad0e-9a8b0143f08b"
      },
      "outputs": [
        {
          "name": "stdout",
          "output_type": "stream",
          "text": [
            "Мошенничество встречается 3870 раз\n",
            "Доверие встречается 2721 раз\n"
          ]
        }
      ],
      "source": [
        "#сколько раз встречается слова \"мошенничество\" и \"доверие\"\n",
        "mosh = freq_dict['мошенничество']\n",
        "trust = freq_dict['доверие']\n",
        "print(\"Мошенничество встречается \"+str(mosh)+\" раз\")\n",
        "print(\"Доверие встречается \"+str(trust)+\" раз\")"
      ]
    },
    {
      "cell_type": "markdown",
      "id": "d34bb0d3",
      "metadata": {
        "id": "d34bb0d3"
      },
      "source": [
        "## Поиск слов в положительных и отрицательных отзывах"
      ]
    },
    {
      "cell_type": "code",
      "execution_count": null,
      "id": "5843968d",
      "metadata": {
        "id": "5843968d",
        "outputId": "a1552401-0c95-4479-b8ac-f334d00d5259"
      },
      "outputs": [
        {
          "name": "stderr",
          "output_type": "stream",
          "text": [
            "[nltk_data] Downloading package punkt to\n",
            "[nltk_data]     C:\\Users\\Антон\\AppData\\Roaming\\nltk_data...\n",
            "[nltk_data]   Package punkt is already up-to-date!\n",
            "[nltk_data] Downloading package stopwords to\n",
            "[nltk_data]     C:\\Users\\Антон\\AppData\\Roaming\\nltk_data...\n",
            "[nltk_data]   Package stopwords is already up-to-date!\n"
          ]
        },
        {
          "data": {
            "text/plain": [
              "array(['номер', 'телефон', 'время', 'ваш', 'вопрос', 'сбербанк', 'то',\n",
              "       'договор', 'звонить', 'кредитный', 'свой', 'вклад', 'банкомат',\n",
              "       'платёж', 'год', 'сказать', 'сумма', 'заявление', 'клиент',\n",
              "       'который', 'сотрудник', 'мой', 'отделение', 'счёт', 'день', 'это',\n",
              "       'деньга', 'кредит', 'карта', 'банк'], dtype=object)"
            ]
          },
          "execution_count": 11,
          "metadata": {},
          "output_type": "execute_result"
        }
      ],
      "source": [
        "#Ищем ключевые слова для сообщений с оценкой 1\n",
        "data_1 = df[df['rating_grade'].isin([1])]\n",
        "from string import punctuation\n",
        "from nltk.tokenize import word_tokenize\n",
        "import nltk\n",
        "\n",
        "import numpy as np\n",
        "nltk.download('punkt')\n",
        "nltk.download('stopwords')\n",
        "from sklearn.feature_extraction.text import TfidfVectorizer\n",
        "import pymorphy2\n",
        "\n",
        "morph = pymorphy2.MorphAnalyzer()\n",
        "noise = stopwords.words('russian') + list(punctuation) + ['``','\\'\\'', '...']\n",
        "tweets = []\n",
        "for tweet in data_1['text']:\n",
        "    s = ''\n",
        "    for token in word_tokenize(tweet.lower()):\n",
        "        if token not in noise:\n",
        "            s += morph.parse(token)[0].normal_form + ' '\n",
        "    tweets.append(s)\n",
        "\n",
        "\n",
        "tfidf = TfidfVectorizer(ngram_range=(1, 2))\n",
        "tfidf_tweets = tfidf.fit_transform(tweets)\n",
        "ind = np.argsort(tfidf_tweets.mean(axis=0).tolist()[0])\n",
        "tfidf.get_feature_names_out()[ind[-30:]]"
      ]
    },
    {
      "cell_type": "code",
      "execution_count": null,
      "id": "f70488df",
      "metadata": {
        "id": "f70488df",
        "outputId": "a49136c4-11b6-49ad-bcef-6128f5825fc4"
      },
      "outputs": [
        {
          "data": {
            "text/plain": [
              "array(['сказать', 'документ', 'такой', 'работать', 'быстро', 'кредитный',\n",
              "       'проблема', 'хотеть', 'свой', 'время', 'счёт', 'обслуживание',\n",
              "       'работа', 'мой', 'спасибо', 'вопрос', 'который', 'год', 'деньга',\n",
              "       'офис', 'день', 'это', 'отделение', 'клиент', 'сотрудник', 'вклад',\n",
              "       'очень', 'кредит', 'карта', 'банк'], dtype=object)"
            ]
          },
          "execution_count": 12,
          "metadata": {},
          "output_type": "execute_result"
        }
      ],
      "source": [
        "#Ищем ключевые слова для сообщений с оценкой 5\n",
        "data_5 = df[df['rating_grade'].isin([5])]\n",
        "morph = pymorphy2.MorphAnalyzer()\n",
        "noise = stopwords.words('russian') + list(punctuation) + ['``','\\'\\'', '...']\n",
        "tweets = []\n",
        "for tweet in data_5['text']:\n",
        "    s = ''\n",
        "    for token in word_tokenize(tweet.lower()):\n",
        "        if token not in noise:\n",
        "            s += morph.parse(token)[0].normal_form + ' '\n",
        "    tweets.append(s)\n",
        "tfidf = TfidfVectorizer(ngram_range=(1, 2))\n",
        "tfidf_tweets = tfidf.fit_transform(tweets)\n",
        "ind = np.argsort(tfidf_tweets.mean(axis=0).tolist()[0])\n",
        "tfidf.get_feature_names_out()[ind[-30:]]"
      ]
    },
    {
      "cell_type": "markdown",
      "id": "51ed21d9",
      "metadata": {
        "id": "51ed21d9"
      },
      "source": [
        "# Часть 2. Анализ текстов"
      ]
    },
    {
      "cell_type": "code",
      "execution_count": null,
      "id": "5b22cc7b",
      "metadata": {
        "id": "5b22cc7b",
        "outputId": "c8497e21-20ab-4b74-b045-5dd44f36a667"
      },
      "outputs": [
        {
          "name": "stderr",
          "output_type": "stream",
          "text": [
            "[nltk_data] Downloading package punkt to\n",
            "[nltk_data]     C:\\Users\\Антон\\AppData\\Roaming\\nltk_data...\n",
            "[nltk_data]   Package punkt is already up-to-date!\n",
            "[nltk_data] Downloading package stopwords to\n",
            "[nltk_data]     C:\\Users\\Антон\\AppData\\Roaming\\nltk_data...\n",
            "[nltk_data]   Package stopwords is already up-to-date!\n",
            "100%|█████████████████████████████████████████████████████████████████████████| 201030/201030 [06:41<00:00, 500.42it/s]\n"
          ]
        }
      ],
      "source": [
        "# Подготовка данных\n",
        "import pymorphy2\n",
        "from tqdm import tqdm\n",
        "morph = pymorphy2.MorphAnalyzer()\n",
        "from string import punctuation\n",
        "from nltk.tokenize import word_tokenize\n",
        "import nltk\n",
        "#!pip install turicreate\n",
        "import numpy as np\n",
        "nltk.download('punkt')\n",
        "nltk.download('stopwords')\n",
        "#from turicreate import SFrame\n",
        "from joblib import Parallel, delayed\n",
        "noise = stopwords.words('russian') + list(punctuation) + ['``','\\'\\'', '...']\n",
        "tweets = []\n",
        "cache_dict={}\n",
        "for tweet in tqdm(df['text']):\n",
        "    s = []\n",
        "    for token in word_tokenize(tweet.lower()):\n",
        "        if (token not in noise) & (not token.isnumeric()):\n",
        "            #Параллелизация\n",
        "            #x = Parallel(n_jobs=4)(delayed(word_tokenize)(line) for line in lines)\n",
        "            #\n",
        "            if not token in cache_dict:\n",
        "                ftoken=morph.parse(token)[0].normal_form\n",
        "                cache_dict[token]=ftoken\n",
        "                s.append(ftoken) # Лемматизация\n",
        "            else:\n",
        "                s.append(cache_dict[token])\n",
        "            #s.append(token) #Без лемматизации\n",
        "    tweets.append(s)"
      ]
    },
    {
      "cell_type": "code",
      "execution_count": null,
      "id": "0738bc7f",
      "metadata": {
        "id": "0738bc7f",
        "outputId": "bd91f9e7-7a78-43b5-ce34-b8ac1ec43d79"
      },
      "outputs": [
        {
          "name": "stdout",
          "output_type": "stream",
          "text": [
            "Dictionary<300715 unique tokens: ['анатолиевич', 'банк', 'бесплатно', 'благодарность', 'брать']...>\n"
          ]
        }
      ],
      "source": [
        "# 2.1 Постройте несколько тематических моделей коллекции документов с разным числом тем\n",
        "from gensim.corpora import Dictionary\n",
        "\n",
        "dict_tw = Dictionary(tweets)\n",
        "corpus = [dict_tw.doc2bow(tweet) for tweet in tweets if len(tweet) > 5]\n",
        "print(dict_tw)"
      ]
    },
    {
      "cell_type": "code",
      "execution_count": null,
      "id": "6e515c75",
      "metadata": {
        "id": "6e515c75"
      },
      "outputs": [],
      "source": [
        "#LSI анализ - 30 тем\n",
        "\n",
        "from gensim.models import TfidfModel, lsimodel\n",
        "\n",
        "\n",
        "num_topics = 50\n",
        "tfidf = TfidfModel(corpus)\n",
        "corpus_tfidf = tfidf[corpus]\n",
        "\n",
        "lsi = lsimodel.LsiModel(corpus=corpus_tfidf, id2word=dict_tw, num_topics=num_topics)"
      ]
    },
    {
      "cell_type": "code",
      "execution_count": null,
      "id": "56e8a9e7",
      "metadata": {
        "id": "56e8a9e7"
      },
      "outputs": [],
      "source": [
        "lsi.show_topics(num_topics*2)"
      ]
    },
    {
      "cell_type": "code",
      "execution_count": null,
      "id": "47733a9f",
      "metadata": {
        "id": "47733a9f"
      },
      "outputs": [],
      "source": [
        "from gensim.models import LdaModel\n",
        "\n",
        "\n",
        "# Make an index to word dictionary.\n",
        "temp = dict_tw[0]  # This is only to \"load\" the dictionary.\n",
        "id2word = dict_tw.id2token\n",
        "\n",
        "lda = LdaModel(\n",
        "    corpus=corpus,\n",
        "    id2word=dict_tw,\n",
        "    num_topics=num_topics,\n",
        "    )\n",
        ""
      ]
    },
    {
      "cell_type": "code",
      "execution_count": null,
      "id": "296b48d1",
      "metadata": {
        "id": "296b48d1",
        "outputId": "53ebf378-5ffc-4e7c-dc2e-718d7e19806b"
      },
      "outputs": [
        {
          "data": {
            "text/plain": [
              "[(0,\n",
              "  '0.203*\"русский\" + 0.184*\"стандарт\" + 0.097*\"рс\" + 0.039*\"сберкнижка\" + 0.033*\"сергей\" + 0.019*\"отец\" + 0.018*\"карман\"'),\n",
              " (1,\n",
              "  '0.036*\"система\" + 0.033*\"пароль\" + 0.032*\"код\" + 0.026*\"интернет\" + 0.023*\"проблема\" + 0.018*\"телебанк\" + 0.017*\"доступ\"'),\n",
              " (2,\n",
              "  '0.063*\"деньга\" + 0.060*\"офис\" + 0.050*\"филиал\" + 0.024*\"получить\" + 0.022*\"банк\" + 0.020*\"понедельник\" + 0.017*\"пятница\"'),\n",
              " (3,\n",
              "  '0.043*\"допофис\" + 0.041*\"юлия\" + 0.029*\"марина\" + 0.026*\"коллектив\" + 0.024*\"сокол\" + 0.023*\"бинбанка\" + 0.023*\"мария\"'),\n",
              " (4,\n",
              "  '0.047*\"банк\" + 0.041*\"мой\" + 0.016*\"сотрудник\" + 0.013*\"который\" + 0.012*\"претензия\" + 0.011*\"рф\" + 0.010*\"право\"'),\n",
              " (5,\n",
              "  '0.152*\"автокредит\" + 0.116*\"автомобиль\" + 0.094*\"автосалон\" + 0.070*\"птс\" + 0.065*\"авто\" + 0.049*\"екатерина\" + 0.041*\"дмитрий\"'),\n",
              " (6,\n",
              "  '0.054*\"отделение\" + 0.043*\"сотрудник\" + 0.033*\"банк\" + 0.030*\"информация\" + 0.022*\"вопрос\" + 0.019*\"дать\" + 0.017*\"получить\"'),\n",
              " (7,\n",
              "  '0.111*\"мы\" + 0.068*\"наш\" + 0.038*\"муж\" + 0.026*\"год\" + 0.026*\"жена\" + 0.025*\"банк\" + 0.022*\"декабрь\"'),\n",
              " (8,\n",
              "  '0.328*\"сбербанк\" + 0.038*\"россия\" + 0.027*\"отделение\" + 0.027*\"г.\" + 0.025*\"№\" + 0.024*\"сбер\" + 0.015*\"сб\"'),\n",
              " (9,\n",
              "  '0.103*\"кредит\" + 0.050*\"банк\" + 0.017*\"документ\" + 0.017*\"кредитный\" + 0.015*\"заявка\" + 0.014*\"сумма\" + 0.012*\"сказать\"'),\n",
              " (10,\n",
              "  '0.159*\"вклад\" + 0.051*\"банк\" + 0.037*\"открыть\" + 0.034*\"депозит\" + 0.032*\"процент\" + 0.017*\"открытие\" + 0.016*\"открывать\"'),\n",
              " (11,\n",
              "  '0.092*\"лимит\" + 0.068*\"кредитный\" + 0.066*\"ситибанк\" + 0.046*\"карта\" + 0.043*\"сити\" + 0.033*\"кредитка\" + 0.026*\"ситифон\"'),\n",
              " (12,\n",
              "  '0.055*\"звонить\" + 0.041*\"оператор\" + 0.034*\"телефон\" + 0.025*\"звонок\" + 0.023*\"вопрос\" + 0.023*\"дозвониться\" + 0.019*\"позвонить\"'),\n",
              " (13,\n",
              "  '0.044*\"средство\" + 0.039*\"счёт\" + 0.034*\"банк\" + 0.028*\"сумма\" + 0.026*\"карта\" + 0.024*\"операция\" + 0.023*\"мой\"'),\n",
              " (14,\n",
              "  '0.033*\"год\" + 0.024*\"зарплата\" + 0.024*\"работа\" + 0.022*\"банк\" + 0.019*\"месяц\" + 0.015*\"платёж\" + 0.015*\"ребёнок\"'),\n",
              " (15,\n",
              "  '0.034*\"сказать\" + 0.030*\"отделение\" + 0.019*\"говорить\" + 0.018*\"это\" + 0.016*\"заявление\" + 0.014*\"позвонить\" + 0.013*\"звонить\"'),\n",
              " (16,\n",
              "  '0.038*\"операция\" + 0.031*\"система\" + 0.026*\"банк\" + 0.023*\"платёжный\" + 0.021*\"клиент\" + 0.015*\"магазин\" + 0.014*\"услуга\"'),\n",
              " (17,\n",
              "  '0.043*\"деньга\" + 0.031*\"это\" + 0.023*\"карточка\" + 0.022*\"всё\" + 0.014*\"ещё\" + 0.012*\"говорить\" + 0.011*\"рубль\"'),\n",
              " (18,\n",
              "  '0.096*\"счёт\" + 0.059*\"деньга\" + 0.055*\"перевод\" + 0.034*\"банк\" + 0.021*\"платёж\" + 0.016*\"перевести\" + 0.013*\"день\"'),\n",
              " (19,\n",
              "  '0.187*\"оплата\" + 0.180*\"платёж\" + 0.141*\"оплатить\" + 0.079*\"квитанция\" + 0.071*\"терминал\" + 0.069*\"оплачивать\" + 0.017*\"чек\"'),\n",
              " (20,\n",
              "  '0.198*\"банкомат\" + 0.135*\"работать\" + 0.054*\"росбанк\" + 0.050*\"город\" + 0.028*\"коммунальный\" + 0.026*\"торговый\" + 0.026*\"факс\"'),\n",
              " (21,\n",
              "  '0.056*\"банк\" + 0.025*\"кредит\" + 0.019*\"это\" + 0.014*\"сотрудник\" + 0.013*\"такой\" + 0.010*\"человек\" + 0.010*\"платить\"'),\n",
              " (22,\n",
              "  '0.104*\"лицо\" + 0.066*\"счёт\" + 0.041*\"—\" + 0.035*\"физический\" + 0.033*\"авангард\" + 0.027*\"открытие\" + 0.026*\"открыть\"'),\n",
              " (23,\n",
              "  '0.065*\"суд\" + 0.043*\"долг\" + 0.040*\"банк\" + 0.022*\"агентство\" + 0.021*\"письмо\" + 0.019*\"год\" + 0.017*\"судебный\"'),\n",
              " (24,\n",
              "  '0.156*\"услуга\" + 0.120*\"комиссия\" + 0.031*\"подключить\" + 0.021*\"альфа-банк\" + 0.020*\"пользоваться\" + 0.018*\"банк\" + 0.015*\"обслуживание\"'),\n",
              " (25,\n",
              "  '0.096*\"документ\" + 0.058*\"письмо\" + 0.045*\"почта\" + 0.044*\"паспорт\" + 0.043*\"копия\" + 0.023*\"выписка\" + 0.022*\"электронный\"'),\n",
              " (26,\n",
              "  '0.105*\"банкомат\" + 0.079*\"деньга\" + 0.017*\"карта\" + 0.015*\"снять\" + 0.015*\"купюра\" + 0.015*\"банк\" + 0.014*\"день\"'),\n",
              " (27,\n",
              "  '0.155*\"номер\" + 0.103*\"телефон\" + 0.074*\"мобильный\" + 0.060*\"смс\" + 0.032*\"приходить\" + 0.030*\"сообщение\" + 0.017*\"сотовый\"'),\n",
              " (28,\n",
              "  '0.100*\"договор\" + 0.028*\"банк\" + 0.013*\"счёт\" + 0.012*\"право\" + 0.011*\"г.\" + 0.011*\"кредитный\" + 0.010*\"заключить\"'),\n",
              " (29,\n",
              "  '0.052*\"банк\" + 0.029*\"договор\" + 0.028*\"условие\" + 0.023*\"клиент\" + 0.023*\"ставка\" + 0.022*\"тариф\" + 0.020*\"сайт\"'),\n",
              " (30,\n",
              "  '0.033*\"банк\" + 0.023*\"это\" + 0.017*\"клиент\" + 0.012*\"свой\" + 0.011*\"который\" + 0.007*\"проблема\" + 0.007*\"такой\"'),\n",
              " (31,\n",
              "  '0.075*\"документ\" + 0.059*\"квартира\" + 0.052*\"сделка\" + 0.036*\"ипотечный\" + 0.035*\"ипотека\" + 0.027*\"менеджер\" + 0.023*\"кредит\"'),\n",
              " (32,\n",
              "  '0.080*\"доверенность\" + 0.047*\"данные\" + 0.046*\"персональный\" + 0.018*\"дельта\" + 0.014*\"автокредитование\" + 0.012*\"спам\" + 0.012*\"20-30\"'),\n",
              " (33,\n",
              "  '0.086*\"карта\" + 0.040*\"банк\" + 0.014*\"обслуживание\" + 0.014*\"кредитный\" + 0.014*\"пользоваться\" + 0.011*\"очень\" + 0.011*\"год\"'),\n",
              " (34,\n",
              "  '0.234*\"–\" + 0.028*\"эксперт\" + 0.020*\"комната\" + 0.020*\"обменник\" + 0.020*\"сын\" + 0.018*\"пробизнесбанк\" + 0.017*\"экономист\"'),\n",
              " (35,\n",
              "  '0.079*\"день\" + 0.040*\"заявка\" + 0.028*\"срок\" + 0.025*\"неделя\" + 0.024*\"рассмотрение\" + 0.021*\"ответ\" + 0.019*\"течение\"'),\n",
              " (36,\n",
              "  '0.181*\"карта\" + 0.027*\"банк\" + 0.017*\"заявление\" + 0.012*\"получить\" + 0.012*\"счёт\" + 0.012*\"мой\" + 0.011*\"отделение\"'),\n",
              " (37,\n",
              "  '0.047*\"банк\" + 0.043*\"очень\" + 0.022*\"сотрудник\" + 0.018*\"спасибо\" + 0.017*\"работа\" + 0.017*\"обслуживание\" + 0.016*\"быстро\"'),\n",
              " (38,\n",
              "  '0.040*\"кредит\" + 0.038*\"сумма\" + 0.035*\"платёж\" + 0.033*\"банк\" + 0.024*\"задолженность\" + 0.022*\"погашение\" + 0.018*\"месяц\"'),\n",
              " (39,\n",
              "  '0.055*\"пай\" + 0.053*\"анна\" + 0.051*\"псб\" + 0.037*\"новосибирск\" + 0.029*\"кормить\" + 0.025*\"7-й\" + 0.025*\"the\"'),\n",
              " (40,\n",
              "  '0.059*\"ваш\" + 0.046*\"звонок\" + 0.043*\"банк\" + 0.035*\"телефон\" + 0.025*\"звонить\" + 0.020*\"номер\" + 0.016*\"мой\"'),\n",
              " (41,\n",
              "  '0.349*\"«\" + 0.344*\"»\" + 0.104*\"–\" + 0.007*\"райффайзенбанк\" + 0.007*\"…\" + 0.005*\"банк\" + 0.003*\"оао\"'),\n",
              " (42,\n",
              "  '0.058*\"банк\" + 0.020*\"клиент\" + 0.016*\"это\" + 0.014*\"свой\" + 0.013*\"год\" + 0.013*\"очень\" + 0.013*\"который\"'),\n",
              " (43,\n",
              "  '0.018*\"минута\" + 0.015*\"девушка\" + 0.014*\"время\" + 0.011*\"банк\" + 0.010*\"это\" + 0.010*\"офис\" + 0.009*\"час\"'),\n",
              " (44,\n",
              "  '0.276*\"--\" + 0.097*\"конвертация\" + 0.069*\"интернет-банкинг\" + 0.037*\"usd\" + 0.036*\"сдача\" + 0.034*\"обеденный\" + 0.026*\"г-жа\"'),\n",
              " (45,\n",
              "  '0.145*\"курс\" + 0.136*\"доллар\" + 0.104*\"евро\" + 0.103*\"валюта\" + 0.067*\"рубль\" + 0.054*\"рублёвый\" + 0.052*\"валютный\"'),\n",
              " (46,\n",
              "  '0.041*\"2.\" + 0.041*\"1.\" + 0.030*\"3.\" + 0.018*\"4.\" + 0.015*\"акция\" + 0.013*\"программа\" + 0.011*\"5.\"'),\n",
              " (47,\n",
              "  '0.078*\"очередь\" + 0.047*\"касса\" + 0.041*\"отделение\" + 0.025*\"кассир\" + 0.024*\"клиент\" + 0.023*\"операционист\" + 0.023*\"работать\"'),\n",
              " (48,\n",
              "  '0.225*\"кредитный\" + 0.129*\"история\" + 0.080*\"салон\" + 0.049*\"мама\" + 0.043*\"т.р\" + 0.030*\"европа\" + 0.025*\"кредит\"'),\n",
              " (49,\n",
              "  '0.230*\"служба\" + 0.166*\"поддержка\" + 0.055*\"безопасность\" + 0.043*\"сб\" + 0.021*\"заблокировать\" + 0.020*\"кошелёк\" + 0.016*\"блокировка\"')]"
            ]
          },
          "execution_count": 57,
          "metadata": {},
          "output_type": "execute_result"
        }
      ],
      "source": [
        "lda.print_topics(num_topics=num_topics, num_words=7)"
      ]
    },
    {
      "cell_type": "code",
      "execution_count": null,
      "id": "7020e713",
      "metadata": {
        "id": "7020e713",
        "outputId": "723370e5-1c81-4c2a-e21a-55fc3e9efdcf"
      },
      "outputs": [
        {
          "data": {
            "text/plain": [
              "19"
            ]
          },
          "execution_count": 70,
          "metadata": {},
          "output_type": "execute_result"
        }
      ],
      "source": [
        "list(dict_tw.values()).index('документ')"
      ]
    },
    {
      "cell_type": "code",
      "execution_count": null,
      "id": "59b2874d",
      "metadata": {
        "id": "59b2874d",
        "outputId": "1c0b9ce7-0ad3-4ac7-89e1-eb00ede65106"
      },
      "outputs": [
        {
          "name": "stdout",
          "output_type": "stream",
          "text": [
            "[(9, 0.017012566), (25, 0.09501145), (31, 0.0750113)]\n"
          ]
        }
      ],
      "source": [
        "#Поищем понятные, интерпретируемые темы\n",
        "topics=lda.get_term_topics(list(dict_tw.values()).index('документ'), minimum_probability=None)\n",
        "print(topics)\n",
        "#lda.print_topics(topics)"
      ]
    },
    {
      "cell_type": "code",
      "execution_count": null,
      "id": "7240068d",
      "metadata": {
        "id": "7240068d",
        "outputId": "3bf6edf9-143e-44ad-dfd9-bdb593f77831"
      },
      "outputs": [
        {
          "name": "stdout",
          "output_type": "stream",
          "text": [
            "0.103*\"кредит\" + 0.050*\"банк\" + 0.017*\"документ\" + 0.017*\"кредитный\" + 0.015*\"заявка\" + 0.014*\"сумма\" + 0.012*\"сказать\" + 0.012*\"взять\" + 0.011*\"справка\" + 0.011*\"оформить\"\n",
            "0.096*\"документ\" + 0.058*\"письмо\" + 0.045*\"почта\" + 0.044*\"паспорт\" + 0.043*\"копия\" + 0.023*\"выписка\" + 0.022*\"электронный\" + 0.019*\"отправить\" + 0.019*\"подпись\" + 0.015*\"справка\"\n",
            "0.075*\"документ\" + 0.059*\"квартира\" + 0.052*\"сделка\" + 0.036*\"ипотечный\" + 0.035*\"ипотека\" + 0.027*\"менеджер\" + 0.023*\"кредит\" + 0.016*\"продавец\" + 0.015*\"залог\" + 0.012*\"кредитование\"\n"
          ]
        }
      ],
      "source": [
        "for topic_data in topics:\n",
        "    print(lda.print_topic(topic_data[0]))"
      ]
    },
    {
      "cell_type": "markdown",
      "id": "6b048a0a",
      "metadata": {
        "id": "6b048a0a"
      },
      "source": [
        "Вполне понятные темы - документы и их типы,а также связанные с ним действия"
      ]
    },
    {
      "cell_type": "code",
      "execution_count": null,
      "id": "e711c58d",
      "metadata": {
        "id": "e711c58d",
        "outputId": "b037efd9-5559-4081-cdf9-9299212248ca"
      },
      "outputs": [
        {
          "name": "stdout",
          "output_type": "stream",
          "text": [
            "[(20, 0.1958029), (26, 0.10549757)]\n",
            "0.198*\"банкомат\" + 0.135*\"работать\" + 0.054*\"росбанк\" + 0.050*\"город\" + 0.028*\"коммунальный\" + 0.026*\"торговый\" + 0.026*\"факс\" + 0.024*\"магазин\" + 0.024*\"точка\" + 0.024*\"центр\"\n",
            "0.105*\"банкомат\" + 0.079*\"деньга\" + 0.017*\"карта\" + 0.015*\"снять\" + 0.015*\"купюра\" + 0.015*\"банк\" + 0.014*\"день\" + 0.014*\"чек\" + 0.014*\"выдать\" + 0.013*\"сумма\"\n"
          ]
        }
      ],
      "source": [
        "topics=lda.get_term_topics(list(dict_tw.values()).index('банкомат'), minimum_probability=None)\n",
        "print(topics)\n",
        "for topic_data in topics:\n",
        "    print(lda.print_topic(topic_data[0]))"
      ]
    },
    {
      "cell_type": "markdown",
      "id": "c357946a",
      "metadata": {
        "id": "c357946a"
      },
      "source": [
        "Тоже вполне понятные темы -  банкоматы и их месторасположение в первом случае, а также связанные предметы во втором"
      ]
    },
    {
      "cell_type": "markdown",
      "id": "0e83f212",
      "metadata": {
        "id": "0e83f212"
      },
      "source": [
        "## 3. Классификация текстов"
      ]
    },
    {
      "cell_type": "code",
      "execution_count": null,
      "id": "e8b2fcd7",
      "metadata": {
        "id": "e8b2fcd7",
        "outputId": "d4b78a1b-05a5-4018-975b-ab31b57ddabd"
      },
      "outputs": [
        {
          "name": "stdout",
          "output_type": "stream",
          "text": [
            "[1. 5.]\n"
          ]
        },
        {
          "data": {
            "text/plain": [
              "0     Здравствуйте!  Хотелось бы выразить благодарно...\n",
              "3     1 июня 2015 в Москве в отделении по адресу Смо...\n",
              "4     История очень долгая! Пришел я в банк (это раз...\n",
              "9     Хочу поблагодарить Надежду из отдела по ипотеч...\n",
              "10    В ИнтерБыстробанке удобно оплачивать ком. плат...\n",
              "Name: text, dtype: object"
            ]
          },
          "execution_count": 8,
          "metadata": {},
          "output_type": "execute_result"
        }
      ],
      "source": [
        "#3.1. Составьте обучающее и тестовое множество: выберите из всего набора данных N1 отзывов с оценкой 1 и N2 отзывов с оценкой\n",
        "#5. Используйте sklearn.model_selection.train_test_split для разделения множества отобранных документов на обучающее и тестовое\n",
        "\n",
        "from sklearn.linear_model import LogisticRegression\n",
        "from sklearn.feature_extraction.text import CountVectorizer\n",
        "df_classification = df[df['rating_grade'].isin([1, 5])]\n",
        "from sklearn import preprocessing\n",
        "from sklearn.model_selection import train_test_split\n",
        "\n",
        "le = preprocessing.LabelEncoder().fit(df_classification['rating_grade'])\n",
        "print(le.classes_)\n",
        "y = le.transform(df_classification['rating_grade'])\n",
        "X = df_classification['text']\n",
        "\n",
        "\n",
        "X.head()"
      ]
    },
    {
      "cell_type": "code",
      "execution_count": null,
      "id": "9fd25054",
      "metadata": {
        "id": "9fd25054"
      },
      "outputs": [],
      "source": [
        "X_train, X_test, y_train, y_test = train_test_split(X, y, test_size=0.2, random_state=11)"
      ]
    },
    {
      "cell_type": "code",
      "execution_count": null,
      "id": "c2717a6c",
      "metadata": {
        "id": "c2717a6c"
      },
      "outputs": [],
      "source": [
        "#Векторизация с помощью униграм\n",
        "from sklearn.feature_extraction.text import CountVectorizer\n",
        "\n",
        "vec = CountVectorizer(ngram_range=(1, 1))\n",
        "bow = vec.fit_transform(X_train) # bag of words"
      ]
    },
    {
      "cell_type": "code",
      "execution_count": null,
      "id": "0ba2c352",
      "metadata": {
        "id": "0ba2c352",
        "outputId": "252eaf12-97e2-4db4-dc79-9470719e68f8"
      },
      "outputs": [
        {
          "name": "stderr",
          "output_type": "stream",
          "text": [
            "[Parallel(n_jobs=1)]: Using backend SequentialBackend with 1 concurrent workers.\n",
            "[Parallel(n_jobs=1)]: Done   1 out of   1 | elapsed:   16.7s finished\n"
          ]
        },
        {
          "data": {
            "text/html": [
              "<style>#sk-container-id-1 {color: black;background-color: white;}#sk-container-id-1 pre{padding: 0;}#sk-container-id-1 div.sk-toggleable {background-color: white;}#sk-container-id-1 label.sk-toggleable__label {cursor: pointer;display: block;width: 100%;margin-bottom: 0;padding: 0.3em;box-sizing: border-box;text-align: center;}#sk-container-id-1 label.sk-toggleable__label-arrow:before {content: \"▸\";float: left;margin-right: 0.25em;color: #696969;}#sk-container-id-1 label.sk-toggleable__label-arrow:hover:before {color: black;}#sk-container-id-1 div.sk-estimator:hover label.sk-toggleable__label-arrow:before {color: black;}#sk-container-id-1 div.sk-toggleable__content {max-height: 0;max-width: 0;overflow: hidden;text-align: left;background-color: #f0f8ff;}#sk-container-id-1 div.sk-toggleable__content pre {margin: 0.2em;color: black;border-radius: 0.25em;background-color: #f0f8ff;}#sk-container-id-1 input.sk-toggleable__control:checked~div.sk-toggleable__content {max-height: 200px;max-width: 100%;overflow: auto;}#sk-container-id-1 input.sk-toggleable__control:checked~label.sk-toggleable__label-arrow:before {content: \"▾\";}#sk-container-id-1 div.sk-estimator input.sk-toggleable__control:checked~label.sk-toggleable__label {background-color: #d4ebff;}#sk-container-id-1 div.sk-label input.sk-toggleable__control:checked~label.sk-toggleable__label {background-color: #d4ebff;}#sk-container-id-1 input.sk-hidden--visually {border: 0;clip: rect(1px 1px 1px 1px);clip: rect(1px, 1px, 1px, 1px);height: 1px;margin: -1px;overflow: hidden;padding: 0;position: absolute;width: 1px;}#sk-container-id-1 div.sk-estimator {font-family: monospace;background-color: #f0f8ff;border: 1px dotted black;border-radius: 0.25em;box-sizing: border-box;margin-bottom: 0.5em;}#sk-container-id-1 div.sk-estimator:hover {background-color: #d4ebff;}#sk-container-id-1 div.sk-parallel-item::after {content: \"\";width: 100%;border-bottom: 1px solid gray;flex-grow: 1;}#sk-container-id-1 div.sk-label:hover label.sk-toggleable__label {background-color: #d4ebff;}#sk-container-id-1 div.sk-serial::before {content: \"\";position: absolute;border-left: 1px solid gray;box-sizing: border-box;top: 0;bottom: 0;left: 50%;z-index: 0;}#sk-container-id-1 div.sk-serial {display: flex;flex-direction: column;align-items: center;background-color: white;padding-right: 0.2em;padding-left: 0.2em;position: relative;}#sk-container-id-1 div.sk-item {position: relative;z-index: 1;}#sk-container-id-1 div.sk-parallel {display: flex;align-items: stretch;justify-content: center;background-color: white;position: relative;}#sk-container-id-1 div.sk-item::before, #sk-container-id-1 div.sk-parallel-item::before {content: \"\";position: absolute;border-left: 1px solid gray;box-sizing: border-box;top: 0;bottom: 0;left: 50%;z-index: -1;}#sk-container-id-1 div.sk-parallel-item {display: flex;flex-direction: column;z-index: 1;position: relative;background-color: white;}#sk-container-id-1 div.sk-parallel-item:first-child::after {align-self: flex-end;width: 50%;}#sk-container-id-1 div.sk-parallel-item:last-child::after {align-self: flex-start;width: 50%;}#sk-container-id-1 div.sk-parallel-item:only-child::after {width: 0;}#sk-container-id-1 div.sk-dashed-wrapped {border: 1px dashed gray;margin: 0 0.4em 0.5em 0.4em;box-sizing: border-box;padding-bottom: 0.4em;background-color: white;}#sk-container-id-1 div.sk-label label {font-family: monospace;font-weight: bold;display: inline-block;line-height: 1.2em;}#sk-container-id-1 div.sk-label-container {text-align: center;}#sk-container-id-1 div.sk-container {/* jupyter's `normalize.less` sets `[hidden] { display: none; }` but bootstrap.min.css set `[hidden] { display: none !important; }` so we also need the `!important` here to be able to override the default hidden behavior on the sphinx rendered scikit-learn.org. See: https://github.com/scikit-learn/scikit-learn/issues/21755 */display: inline-block !important;position: relative;}#sk-container-id-1 div.sk-text-repr-fallback {display: none;}</style><div id=\"sk-container-id-1\" class=\"sk-top-container\"><div class=\"sk-text-repr-fallback\"><pre>LogisticRegression(max_iter=500, random_state=11, verbose=True)</pre><b>In a Jupyter environment, please rerun this cell to show the HTML representation or trust the notebook. <br />On GitHub, the HTML representation is unable to render, please try loading this page with nbviewer.org.</b></div><div class=\"sk-container\" hidden><div class=\"sk-item\"><div class=\"sk-estimator sk-toggleable\"><input class=\"sk-toggleable__control sk-hidden--visually\" id=\"sk-estimator-id-1\" type=\"checkbox\" checked><label for=\"sk-estimator-id-1\" class=\"sk-toggleable__label sk-toggleable__label-arrow\">LogisticRegression</label><div class=\"sk-toggleable__content\"><pre>LogisticRegression(max_iter=500, random_state=11, verbose=True)</pre></div></div></div></div></div>"
            ],
            "text/plain": [
              "LogisticRegression(max_iter=500, random_state=11, verbose=True)"
            ]
          },
          "execution_count": 11,
          "metadata": {},
          "output_type": "execute_result"
        }
      ],
      "source": [
        "clf = LogisticRegression(random_state=11,max_iter=500,verbose=True)\n",
        "clf.fit(bow, y_train)"
      ]
    },
    {
      "cell_type": "code",
      "execution_count": null,
      "id": "ce3c61d3",
      "metadata": {
        "id": "ce3c61d3",
        "outputId": "79beccd7-e7c8-4821-f277-35abf669e7a6"
      },
      "outputs": [
        {
          "name": "stdout",
          "output_type": "stream",
          "text": [
            "              precision    recall  f1-score   support\n",
            "\n",
            "           0       0.98      0.97      0.98     14556\n",
            "           1       0.93      0.95      0.94      5249\n",
            "\n",
            "    accuracy                           0.97     19805\n",
            "   macro avg       0.96      0.96      0.96     19805\n",
            "weighted avg       0.97      0.97      0.97     19805\n",
            "\n"
          ]
        }
      ],
      "source": [
        "from sklearn.metrics import classification_report\n",
        "\n",
        "pred = clf.predict(vec.transform(X_test))\n",
        "print(classification_report(pred, y_test))"
      ]
    },
    {
      "cell_type": "code",
      "execution_count": null,
      "id": "612d57d1",
      "metadata": {
        "id": "612d57d1",
        "outputId": "928a268e-850b-4f4c-ea20-3fb6a086997e"
      },
      "outputs": [
        {
          "name": "stderr",
          "output_type": "stream",
          "text": [
            "[Parallel(n_jobs=1)]: Using backend SequentialBackend with 1 concurrent workers.\n",
            "[Parallel(n_jobs=1)]: Done   1 out of   1 | elapsed:  2.3min finished\n"
          ]
        },
        {
          "name": "stdout",
          "output_type": "stream",
          "text": [
            "              precision    recall  f1-score   support\n",
            "\n",
            "           0       0.99      0.97      0.98     14637\n",
            "           1       0.93      0.97      0.95      5168\n",
            "\n",
            "    accuracy                           0.97     19805\n",
            "   macro avg       0.96      0.97      0.97     19805\n",
            "weighted avg       0.97      0.97      0.97     19805\n",
            "\n"
          ]
        }
      ],
      "source": [
        "#С помощью пар слов\n",
        "vec = CountVectorizer(ngram_range=(1, 2))\n",
        "bow = vec.fit_transform(X_train) # bag of words\n",
        "clf = LogisticRegression(random_state=11,max_iter=500,verbose=True)\n",
        "clf.fit(bow, y_train)\n",
        "pred = clf.predict(vec.transform(X_test))\n",
        "print(classification_report(pred, y_test))"
      ]
    },
    {
      "cell_type": "code",
      "execution_count": null,
      "id": "1cfa04be",
      "metadata": {
        "id": "1cfa04be",
        "outputId": "0e6290d4-f3a9-49d2-a860-fca94f42a842"
      },
      "outputs": [
        {
          "name": "stderr",
          "output_type": "stream",
          "text": [
            "[Parallel(n_jobs=1)]: Using backend SequentialBackend with 1 concurrent workers.\n",
            "[Parallel(n_jobs=1)]: Done   1 out of   1 | elapsed:  5.0min finished\n"
          ]
        },
        {
          "name": "stdout",
          "output_type": "stream",
          "text": [
            "              precision    recall  f1-score   support\n",
            "\n",
            "           0       0.99      0.97      0.98     14661\n",
            "           1       0.93      0.97      0.95      5144\n",
            "\n",
            "    accuracy                           0.97     19805\n",
            "   macro avg       0.96      0.97      0.97     19805\n",
            "weighted avg       0.97      0.97      0.97     19805\n",
            "\n"
          ]
        }
      ],
      "source": [
        "#С помощью троек слов\n",
        "vec = CountVectorizer(ngram_range=(1, 3))\n",
        "bow = vec.fit_transform(X_train) # bag of words\n",
        "clf = LogisticRegression(random_state=11,max_iter=500,verbose=True)\n",
        "clf.fit(bow, y_train)\n",
        "pred = clf.predict(vec.transform(X_test))\n",
        "print(classification_report(pred, y_test))"
      ]
    },
    {
      "cell_type": "code",
      "execution_count": null,
      "id": "489dfbcf",
      "metadata": {
        "id": "489dfbcf",
        "outputId": "e63bb157-c00f-4181-e68f-53c6fbd90926"
      },
      "outputs": [
        {
          "name": "stderr",
          "output_type": "stream",
          "text": [
            "[Parallel(n_jobs=1)]: Using backend SequentialBackend with 1 concurrent workers.\n",
            "[Parallel(n_jobs=1)]: Done   1 out of   1 | elapsed:   57.7s finished\n"
          ]
        },
        {
          "name": "stdout",
          "output_type": "stream",
          "text": [
            "              precision    recall  f1-score   support\n",
            "\n",
            "           0       0.97      0.97      0.97     14439\n",
            "           1       0.92      0.92      0.92      5366\n",
            "\n",
            "    accuracy                           0.96     19805\n",
            "   macro avg       0.94      0.94      0.94     19805\n",
            "weighted avg       0.96      0.96      0.96     19805\n",
            "\n"
          ]
        }
      ],
      "source": [
        "#Символьные триграммы\n",
        "vec = CountVectorizer(ngram_range=(3, 3),analyzer='char')\n",
        "bow = vec.fit_transform(X_train) # bag of words\n",
        "clf = LogisticRegression(random_state=11,max_iter=500,verbose=True)\n",
        "clf.fit(bow, y_train)\n",
        "pred = clf.predict(vec.transform(X_test))\n",
        "print(classification_report(pred, y_test))\n"
      ]
    },
    {
      "cell_type": "code",
      "execution_count": null,
      "id": "54000498",
      "metadata": {
        "id": "54000498",
        "outputId": "d929a809-b524-45be-dec5-c1b9d6280f1b"
      },
      "outputs": [
        {
          "name": "stdout",
          "output_type": "stream",
          "text": [
            "<bound method Mapping.values of <gensim.corpora.dictionary.Dictionary object at 0x00000192437F3C10>>\n"
          ]
        }
      ],
      "source": [
        "#3.4. Сравните, как изменяется качество решения задачи при использовании скрытых тем в качестве признаков:\n",
        "#1-ый вариант: $tf-idf$ преобразование (sklearn.feature_extraction.text.TfidfTransformer) и сингулярное разложение (оно же – латентый\n",
        "#семантический анализ) (sklearn.decomposition.TruncatedSVD),\n",
        "#2-ой вариант: тематические модели LDA (sklearn.decomposition.LatentDirichletAllocation).\n",
        "from sklearn.feature_extraction.text import TfidfTransformer\n",
        "from sklearn.feature_extraction.text import CountVectorizer\n",
        "from sklearn.pipeline import Pipeline\n",
        "from sklearn.decomposition import TruncatedSVD,LatentDirichletAllocation\n",
        "from sklearn.linear_model import LogisticRegression\n",
        "#Сначала первый вариант\n",
        "vocabulary = list(dict_tw.values())\n",
        "print(dict_tw.values)"
      ]
    },
    {
      "cell_type": "code",
      "execution_count": null,
      "id": "cf157601",
      "metadata": {
        "id": "cf157601",
        "outputId": "f9bef5fb-b9ad-4845-936e-af7bd13342cb"
      },
      "outputs": [
        {
          "name": "stdout",
          "output_type": "stream",
          "text": [
            "              precision    recall  f1-score   support\n",
            "\n",
            "           0       0.97      0.92      0.94     15123\n",
            "           1       0.78      0.90      0.84      4682\n",
            "\n",
            "    accuracy                           0.92     19805\n",
            "   macro avg       0.88      0.91      0.89     19805\n",
            "weighted avg       0.92      0.92      0.92     19805\n",
            "\n"
          ]
        }
      ],
      "source": [
        "clf = Pipeline([\n",
        "    ('vect', CountVectorizer(ngram_range=(1, 1), vocabulary=vocabulary)),\n",
        "    ('tfidf', TfidfTransformer()),\n",
        "    ('tm', TruncatedSVD(n_components=30, n_iter=7, random_state=11)),\n",
        "    ('clf', LogisticRegression(random_state=11, max_iter=500, solver='liblinear'))\n",
        "])\n",
        "clf.fit(X_train, y_train)\n",
        "pred = clf.predict(X_test)\n",
        "print(classification_report(pred, y_test))"
      ]
    },
    {
      "cell_type": "code",
      "execution_count": null,
      "id": "00db4f36",
      "metadata": {
        "id": "00db4f36",
        "outputId": "da526646-9347-4206-d5ad-850bbb2bcc8a"
      },
      "outputs": [
        {
          "name": "stdout",
          "output_type": "stream",
          "text": [
            "              precision    recall  f1-score   support\n",
            "\n",
            "           0       0.97      0.92      0.95     15200\n",
            "           1       0.78      0.92      0.85      4605\n",
            "\n",
            "    accuracy                           0.92     19805\n",
            "   macro avg       0.88      0.92      0.90     19805\n",
            "weighted avg       0.93      0.92      0.92     19805\n",
            "\n"
          ]
        }
      ],
      "source": [
        "vocabulary = list(dict_tw.values())\n",
        "clfd = Pipeline([\n",
        "    ('vect', CountVectorizer(ngram_range=(1, 1), vocabulary=vocabulary)),\n",
        "    ('tm', LatentDirichletAllocation(n_components=30, random_state=11)),\n",
        "    ('clf', LogisticRegression(random_state=11, max_iter=500, solver='liblinear'))\n",
        "])\n",
        "clfd.fit(X_train, y_train)\n",
        "pred = clfd.predict(X_test)\n",
        "print(classification_report(pred, y_test))"
      ]
    },
    {
      "cell_type": "markdown",
      "id": "064d0bd4",
      "metadata": {
        "id": "064d0bd4"
      },
      "source": [
        "LDA на 500 итерациях логистической регрсессии оказалось немного точнее"
      ]
    },
    {
      "cell_type": "code",
      "execution_count": null,
      "id": "b231357e",
      "metadata": {
        "id": "b231357e"
      },
      "outputs": [],
      "source": []
    }
  ],
  "metadata": {
    "kernelspec": {
      "display_name": "Python 3 (ipykernel)",
      "language": "python",
      "name": "python3"
    },
    "language_info": {
      "codemirror_mode": {
        "name": "ipython",
        "version": 3
      },
      "file_extension": ".py",
      "mimetype": "text/x-python",
      "name": "python",
      "nbconvert_exporter": "python",
      "pygments_lexer": "ipython3",
      "version": "3.10.9"
    },
    "colab": {
      "provenance": [],
      "include_colab_link": true
    }
  },
  "nbformat": 4,
  "nbformat_minor": 5
}