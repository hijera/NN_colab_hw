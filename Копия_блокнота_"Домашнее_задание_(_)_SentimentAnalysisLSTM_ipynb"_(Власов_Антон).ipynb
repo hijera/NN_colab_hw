{
  "nbformat": 4,
  "nbformat_minor": 0,
  "metadata": {
    "accelerator": "GPU",
    "colab": {
      "provenance": [],
      "include_colab_link": true
    },
    "kernelspec": {
      "display_name": "Python 3",
      "name": "python3"
    },
    "language_info": {
      "name": "python"
    }
  },
  "cells": [
    {
      "cell_type": "markdown",
      "metadata": {
        "id": "view-in-github",
        "colab_type": "text"
      },
      "source": [
        "<a href=\"https://colab.research.google.com/github/hijera/NN_colab_hw/blob/main/%D0%9A%D0%BE%D0%BF%D0%B8%D1%8F_%D0%B1%D0%BB%D0%BE%D0%BA%D0%BD%D0%BE%D1%82%D0%B0_%22%D0%94%D0%BE%D0%BC%D0%B0%D1%88%D0%BD%D0%B5%D0%B5_%D0%B7%D0%B0%D0%B4%D0%B0%D0%BD%D0%B8%D0%B5_(_)_SentimentAnalysisLSTM_ipynb%22_(%D0%92%D0%BB%D0%B0%D1%81%D0%BE%D0%B2_%D0%90%D0%BD%D1%82%D0%BE%D0%BD).ipynb\" target=\"_parent\"><img src=\"https://colab.research.google.com/assets/colab-badge.svg\" alt=\"Open In Colab\"/></a>"
      ]
    },
    {
      "cell_type": "markdown",
      "metadata": {
        "id": "Z5HcFcGvzpgf"
      },
      "source": [
        "\n",
        "\n",
        "# Домашнее задание со звездочкой"
      ]
    },
    {
      "cell_type": "markdown",
      "metadata": {
        "id": "wwdL7zeL5olx"
      },
      "source": []
    },
    {
      "cell_type": "markdown",
      "metadata": {
        "id": "cFXX8I0v3YHc"
      },
      "source": [
        "Попробуйте улучшить качество работы модели классификации отзывов, которую мы разобрали на вебинаре.\n",
        "\n",
        "0. Разберите код с практики.\n",
        "\n",
        "1.   Посмотрите на имплементацию [LSTM в PyTorch](https://pytorch.org/docs/stable/generated/torch.nn.LSTM.html). Поиграйтесь с параметрами num_layers, hidden_size и embedding_dim: попробуйте увеличить одновременно все 3 параметра и  проверьте как их изменение повлияет на обучение.\n",
        "\n",
        "2. При работе с нейросетями часто можно столкнуться с переобучением - модель \"запоминает\" обучающий датасет, но не учит общие закономерности. Прочитайте про методы борьбы с переобучением: [DropOut](https://pytorch.org/docs/stable/generated/torch.nn.Dropout.html), [регуляризацию весов (weight decay)](https://medium.com/analytics-vidhya/deep-learning-basics-weight-decay-3c68eb4344e9), [Early Stopping](https://en.wikipedia.org/wiki/Early_stopping), [Gradient clipping](https://stackoverflow.com/questions/54716377/how-to-do-gradient-clipping-in-pytorch). Примените любые 2 метода, посмотрите как изменится процесс обучения.\n",
        "\n",
        "3. Если вышеперечисленные методы вам не помогают улучшить качество предсказаний, попробуйте пофильтровать данные. Например на вход модели мы можем подавать только часто-встречающиеся слова и игнорировать те, которые редко встречаются в датасете.\n",
        "\n",
        "Например, измените строчку\n",
        "\n",
        "```\n",
        "corpus_ = sorted(corpus,key=corpus.get,reverse=True)\n",
        "```\n",
        "\n",
        "на\n",
        "\n",
        "```\n",
        "corpus_ = sorted(corpus,key=corpus.get,reverse=True)[:1000]\n",
        "```\n",
        "чтобы подавать на вход модели только топ-1000 часто-встречающихся слов.\n",
        "\n"
      ]
    },
    {
      "cell_type": "markdown",
      "metadata": {
        "id": "qF-XR9F6kSRf"
      },
      "source": [
        "# Классификация отзывов на фильмы с помощью LSTM"
      ]
    },
    {
      "cell_type": "code",
      "source": [
        "from google.colab import drive\n",
        "drive.mount('/content/drive')"
      ],
      "metadata": {
        "colab": {
          "base_uri": "https://localhost:8080/"
        },
        "id": "lwgNqekTLl1a",
        "outputId": "6ce28982-77f9-4f05-901b-58440b17b2a2"
      },
      "execution_count": null,
      "outputs": [
        {
          "output_type": "stream",
          "name": "stdout",
          "text": [
            "Mounted at /content/drive\n"
          ]
        }
      ]
    },
    {
      "cell_type": "markdown",
      "metadata": {
        "id": "g0L1Ux9Yks7M"
      },
      "source": [
        "\n",
        "1.   Для начала тексты нужно токенизировать - разбить на слова и присвоить каждому слову id\n",
        "2.   Затем каждое слово (токен) нужно передать в эмбеддинговый слой, чтобы получить компактный вектор\n",
        "3.   Эмбеддинги передаем на вход в рекуррентную сеть (LSTM)\n",
        "4.   После обработки последнего слова отзыва делаем предсказание."
      ]
    },
    {
      "cell_type": "markdown",
      "metadata": {
        "id": "-df4Una3kcqg"
      },
      "source": [
        "![1_SICYykT7ybua1gVJDNlajw.png](data:image/png;base64,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)"
      ]
    },
    {
      "cell_type": "markdown",
      "metadata": {
        "id": "yppMApwr22eG"
      },
      "source": [
        "# Готовим данные"
      ]
    },
    {
      "cell_type": "code",
      "metadata": {
        "id": "h8PTzNqLiFaT",
        "colab": {
          "base_uri": "https://localhost:8080/"
        },
        "outputId": "43a2fa12-1b08-4659-e7be-800185f6c77f"
      },
      "source": [
        "import numpy as np\n",
        "from string import punctuation\n",
        "from collections import Counter\n",
        "import torch\n",
        "from torch.utils.data import TensorDataset, DataLoader\n",
        "import torch.nn as nn\n",
        "from tqdm import tqdm\n",
        "\n",
        "import random\n",
        "random.seed(33)\n",
        "torch.manual_seed(0)"
      ],
      "execution_count": null,
      "outputs": [
        {
          "output_type": "execute_result",
          "data": {
            "text/plain": [
              "<torch._C.Generator at 0x7fda0c53f130>"
            ]
          },
          "metadata": {},
          "execution_count": 3
        }
      ]
    },
    {
      "cell_type": "code",
      "metadata": {
        "id": "zNgPcCJRmXXw"
      },
      "source": [
        "# Считываем данные из файлов\n",
        "with open('/content/drive/MyDrive/reviews.txt', 'r') as f:\n",
        "    reviews = f.read()\n",
        "with open('/content/drive/MyDrive/labels.txt', 'r') as f:\n",
        "    labels = f.read()"
      ],
      "execution_count": null,
      "outputs": []
    },
    {
      "cell_type": "code",
      "metadata": {
        "id": "MzTIG51Xml0p",
        "outputId": "e7ad3e95-2cf4-4c32-85e3-872469198d15",
        "colab": {
          "base_uri": "https://localhost:8080/"
        }
      },
      "source": [
        "# Напечатаем первые 140 символов из файла с отзывами и 9 символов из файла с лейблами\n",
        "print(reviews[:100])\n",
        "print(labels[:9])"
      ],
      "execution_count": null,
      "outputs": [
        {
          "output_type": "stream",
          "name": "stdout",
          "text": [
            "bromwell high is a cartoon comedy . it ran at the same time as some other programs about school life\n",
            "positive\n",
            "\n"
          ]
        }
      ]
    },
    {
      "cell_type": "code",
      "metadata": {
        "id": "8mEZfUaBm05p",
        "colab": {
          "base_uri": "https://localhost:8080/"
        },
        "outputId": "c5f860e4-be07-4b8d-fde0-ec1b17609d7f"
      },
      "source": [
        "def preprocess(text):\n",
        "    \"\"\"\"\n",
        "    Функция чтобы разбить сплошной текст на отдельные отзывы, убрать пунктуацию\n",
        "    и выделить все слова\n",
        "    \"\"\"\n",
        "    text = \"\".join([s for s in text if s not in punctuation]) # убираем пунктуацию\n",
        "    all_reviews = text.split(\"\\n\") # разделяем текст на ревью\n",
        "    text = \" \".join(all_reviews)\n",
        "    all_words = text.split() # получаем массив слов\n",
        "\n",
        "    return all_reviews, all_words\n",
        "\n",
        "\n",
        "all_reviews, all_words = preprocess(reviews)\n",
        "print('Общее число отзывов: ', len(all_reviews))"
      ],
      "execution_count": null,
      "outputs": [
        {
          "output_type": "stream",
          "name": "stdout",
          "text": [
            "Общее число отзывов:  25001\n"
          ]
        }
      ]
    },
    {
      "cell_type": "code",
      "metadata": {
        "id": "5W0wgcbDqZrJ",
        "outputId": "9e3d7767-506e-4539-fa57-ca710ec85c7b",
        "colab": {
          "base_uri": "https://localhost:8080/"
        }
      },
      "source": [
        "print('Первые 2 отзыва: ', all_reviews[:2])\n",
        "print('Первые 5 слов: ', all_words[:5])"
      ],
      "execution_count": null,
      "outputs": [
        {
          "output_type": "stream",
          "name": "stdout",
          "text": [
            "Первые 2 отзыва:  ['bromwell high is a cartoon comedy  it ran at the same time as some other programs about school life  such as  teachers   my   years in the teaching profession lead me to believe that bromwell high  s satire is much closer to reality than is  teachers   the scramble to survive financially  the insightful students who can see right through their pathetic teachers  pomp  the pettiness of the whole situation  all remind me of the schools i knew and their students  when i saw the episode in which a student repeatedly tried to burn down the school  i immediately recalled          at           high  a classic line inspector i  m here to sack one of your teachers  student welcome to bromwell high  i expect that many adults of my age think that bromwell high is far fetched  what a pity that it isn  t   ', 'story of a man who has unnatural feelings for a pig  starts out with a opening scene that is a terrific example of absurd comedy  a formal orchestra audience is turned into an insane  violent mob by the crazy chantings of it  s singers  unfortunately it stays absurd the whole time with no general narrative eventually making it just too off putting  even those from the era should be turned off  the cryptic dialogue would make shakespeare seem easy to a third grader  on a technical level it  s better than you might think with some good cinematography by future great vilmos zsigmond  future stars sally kirkland and frederic forrest can be seen briefly   ']\n",
            "Первые 5 слов:  ['bromwell', 'high', 'is', 'a', 'cartoon']\n"
          ]
        }
      ]
    },
    {
      "cell_type": "code",
      "metadata": {
        "id": "ba7QiS8OoFqO",
        "colab": {
          "base_uri": "https://localhost:8080/"
        },
        "outputId": "30ccf06b-b5f5-4c4b-c8a3-58c64f133f96"
      },
      "source": [
        "corpus = Counter(all_words)\n",
        "# Отсортируем слова по встречаемости\n",
        "corpus_ = sorted(corpus,key=corpus.get,reverse=True)[30:1000]\n",
        "print('Самые частые слова: ', corpus_[:30])\n",
        "# кодируем каждое слово - присваиваем ему порядковый номер\n",
        "vocab_to_int = {w:i+1 for i,w in enumerate(corpus_)}\n",
        "print('Уникальных слов: ', len(vocab_to_int))\n",
        "\n",
        "# Кодируем все отзывы: последовательность слов --> последовательность чисел\n",
        "encoded_reviews = []\n",
        "for sent in all_reviews:\n",
        "  encoded_reviews.append([vocab_to_int[word] for word in sent.lower().split()\n",
        "                                  if word in vocab_to_int.keys()])\n",
        "print('Пример закодированного ревью: ', encoded_reviews[0])"
      ],
      "execution_count": null,
      "outputs": [
        {
          "output_type": "stream",
          "name": "stdout",
          "text": [
            "Самые частые слова:  ['all', 'at', 'they', 'by', 'an', 'who', 'so', 'from', 'like', 'there', 'her', 'or', 'just', 'about', 'out', 'if', 'has', 'what', 'some', 'good', 'can', 'more', 'she', 'when', 'very', 'up', 'time', 'no', 'even', 'my']\n",
            "Уникальных слов:  970\n",
            "Пример закодированного ревью:  [278, 177, 2, 141, 27, 19, 51, 14, 352, 80, 110, 30, 124, 445, 41, 230, 278, 44, 583, 43, 6, 21, 36, 174, 115, 37, 191, 853, 1, 41, 656, 37, 24, 186, 353, 32, 753, 150, 352, 2, 278, 319, 311, 113, 97, 99, 278, 498, 79, 30, 513, 72, 278, 197, 18, 185]\n"
          ]
        }
      ]
    },
    {
      "cell_type": "code",
      "metadata": {
        "id": "_MHogJlJphwH",
        "colab": {
          "base_uri": "https://localhost:8080/"
        },
        "outputId": "f7c5b154-d383-4cfb-e852-bc9e50f9794a"
      },
      "source": [
        "all_labels = labels.split(\"\\n\")\n",
        "encoded_labels = [1 if label == \"positive\" else 0 for label in all_labels]\n",
        "\n",
        "print('Число отзывов и число лейблов: ', len(all_reviews), len(all_labels))"
      ],
      "execution_count": null,
      "outputs": [
        {
          "output_type": "stream",
          "name": "stdout",
          "text": [
            "Число отзывов и число лейблов:  25001 25001\n"
          ]
        }
      ]
    },
    {
      "cell_type": "code",
      "metadata": {
        "id": "bJ2jgyXLty7i",
        "colab": {
          "base_uri": "https://localhost:8080/"
        },
        "outputId": "1834a517-d826-40a5-df1f-c58a8a1c66fb"
      },
      "source": [
        "encoded_labels = np.array( [label for idx, label in enumerate(encoded_labels) if len(encoded_reviews[idx]) > 0] )\n",
        "encoded_reviews = [review for review in encoded_reviews if len(review) > 0]\n",
        "\n",
        "print(len(encoded_labels), len(encoded_reviews))"
      ],
      "execution_count": null,
      "outputs": [
        {
          "output_type": "stream",
          "name": "stdout",
          "text": [
            "25000 25000\n"
          ]
        }
      ]
    },
    {
      "cell_type": "markdown",
      "metadata": {
        "id": "vajIRXuYx3TB"
      },
      "source": [
        "Упакуем все последовательности, чтобы они имели одинаковую длину seq_len и могли быть организованы в тензоры по батчам"
      ]
    },
    {
      "cell_type": "markdown",
      "metadata": {
        "id": "c3fK9IfFxxW5"
      },
      "source": [
        "![pad-2.png](data:image/png;base64,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)"
      ]
    },
    {
      "cell_type": "code",
      "metadata": {
        "id": "kfdaMrHpuvVm"
      },
      "source": [
        "def pad_text(encoded_reviews, seq_length):\n",
        "    reviews = []\n",
        "    for review in encoded_reviews:\n",
        "        if len(review) >= seq_length:\n",
        "            reviews.append(review[:seq_length])\n",
        "        else:\n",
        "            reviews.append([0]*(seq_length-len(review)) + review)\n",
        "\n",
        "    return np.array(reviews)\n",
        "\n",
        "\n",
        "padded_reviews = pad_text(encoded_reviews, seq_length = 200)"
      ],
      "execution_count": null,
      "outputs": []
    },
    {
      "cell_type": "code",
      "metadata": {
        "id": "3pWo83d0yZ_g"
      },
      "source": [
        "# dataset = TensorDataset(torch.from_numpy(padded_reviews), torch.from_numpy(encoded_labels))\n",
        "\n",
        "train_set = TensorDataset(torch.from_numpy(padded_reviews[:20000]), torch.from_numpy(encoded_labels[:20000]))\n",
        "val_set = TensorDataset(torch.from_numpy(padded_reviews[20000:]), torch.from_numpy(encoded_labels[20000:]))"
      ],
      "execution_count": null,
      "outputs": []
    },
    {
      "cell_type": "code",
      "metadata": {
        "id": "ubEzKoIG08MD",
        "colab": {
          "base_uri": "https://localhost:8080/"
        },
        "outputId": "b15bec94-94b2-4c23-f4e6-9b2760baf9c6"
      },
      "source": [
        "batch_size = 256\n",
        "\n",
        "# train_set, val_set = torch.utils.data.random_split(dataset, [len(dataset)-5000, 5000])\n",
        "print('Размер обучающего и валидационного датасета: ', len(train_set), len(val_set))\n",
        "loaders = {'training': DataLoader(train_set, batch_size, pin_memory=True,num_workers=2, shuffle=True),\n",
        "           'validation':DataLoader(val_set, batch_size, pin_memory=True,num_workers=2, shuffle=False)}"
      ],
      "execution_count": null,
      "outputs": [
        {
          "output_type": "stream",
          "name": "stdout",
          "text": [
            "Размер обучающего и валидационного датасета:  20000 5000\n"
          ]
        }
      ]
    },
    {
      "cell_type": "code",
      "metadata": {
        "id": "dkyve8fT-kw1",
        "colab": {
          "base_uri": "https://localhost:8080/"
        },
        "outputId": "439a4122-d7ec-44a8-e4a1-9e896b8f561b"
      },
      "source": [
        "device = 'cuda' if torch.cuda.is_available() else 'cpu'\n",
        "print(device)"
      ],
      "execution_count": null,
      "outputs": [
        {
          "output_type": "stream",
          "name": "stdout",
          "text": [
            "cuda\n"
          ]
        }
      ]
    },
    {
      "cell_type": "markdown",
      "metadata": {
        "id": "ZY4ydeh82-oR"
      },
      "source": [
        "# Задаем модель"
      ]
    },
    {
      "cell_type": "code",
      "metadata": {
        "id": "zWnQaWNO1roZ"
      },
      "source": [
        "class SentimentRNN(nn.Module):\n",
        "    \"\"\"\n",
        "    Соберем модель для классификации текстов\n",
        "    \"\"\"\n",
        "    def __init__(self, vocab_size, embedding_dim, hidden_dim, num_layers):\n",
        "        \"\"\"\n",
        "        Инициализируем модель, обозначая слои и гиперпараметры\n",
        "        \"\"\"\n",
        "        super(SentimentRNN, self).__init__()\n",
        "        self.hidden_dim = hidden_dim\n",
        "        self.num_layers = num_layers\n",
        "\n",
        "        # embedding and LSTM layers\n",
        "        self.embedding = nn.Embedding(vocab_size, embedding_dim)\n",
        "        self.lstm = nn.LSTM(embedding_dim, hidden_dim, batch_first=True, num_layers = num_layers)\n",
        "\n",
        "        # linear and sigmoid layers\n",
        "        self.fc = nn.Linear(hidden_dim, 1)\n",
        "        self.sig = nn.Sigmoid()\n",
        "        self.dropout=nn.Dropout(p=0.2)\n",
        "\n",
        "    def forward(self, x, h):\n",
        "        \"\"\"\n",
        "        Perform a forward pass of our model on some input and hidden state.\n",
        "        \"\"\"\n",
        "        batch_size = x.size(0)\n",
        "\n",
        "        # embeddings and lstm_out\n",
        "        x = x.long()\n",
        "        embeds = self.embedding(x)\n",
        "        lstm_out, hidden = self.lstm(embeds, h)\n",
        "        # print(lstm_out.shape)\n",
        "        lstm_out = lstm_out[:, -1, :] # getting the last time step output\n",
        "\n",
        "\n",
        "        out = self.dropout(lstm_out)\n",
        "        # fully-connected layer\n",
        "        out = self.fc(out)\n",
        "        # sigmoid function\n",
        "        out = self.sig(out)\n",
        "        # return last sigmoid output\n",
        "        return out"
      ],
      "execution_count": null,
      "outputs": []
    },
    {
      "cell_type": "code",
      "metadata": {
        "id": "-zkZ3o_f-Dkr"
      },
      "source": [
        "vocab_size = len(vocab_to_int)+1\n",
        "embedding_dim = 100\n",
        "hidden_dim = 128\n",
        "num_layers = 2\n",
        "model = SentimentRNN(vocab_size, embedding_dim, hidden_dim, num_layers)\n",
        "model.to(device)\n",
        "\n",
        "#optimizer = torch.optim.Adam(params = model.parameters()) # алгоритм оптимизации\n",
        "optimizer = torch.optim.Adam(model.parameters(), lr=1e-3, weight_decay=1e-4) #Another optimizer - weight decay\n",
        "lr = 0.001 # learning rate"
      ],
      "execution_count": null,
      "outputs": []
    },
    {
      "cell_type": "markdown",
      "source": [
        "Делаем EarlyStopper\n"
      ],
      "metadata": {
        "id": "zp_npv7FsDXH"
      }
    },
    {
      "cell_type": "code",
      "source": [
        "class EarlyStopper:\n",
        "    def __init__(self, patience=1, min_delta=0):\n",
        "        self.patience = patience\n",
        "        self.min_delta = min_delta\n",
        "        self.counter = 0\n",
        "        self.min_validation_loss = np.inf\n",
        "\n",
        "    def early_stop(self, validation_loss):\n",
        "        if validation_loss < self.min_validation_loss:\n",
        "            self.min_validation_loss = validation_loss\n",
        "            self.counter = 0\n",
        "        elif validation_loss > (self.min_validation_loss + self.min_delta):\n",
        "            self.counter += 1\n",
        "            if self.counter >= self.patience:\n",
        "                return True\n",
        "        return False\n"
      ],
      "metadata": {
        "id": "FGVWH4aVsBmu"
      },
      "execution_count": null,
      "outputs": []
    },
    {
      "cell_type": "markdown",
      "metadata": {
        "id": "GUE_lTsB3GlA"
      },
      "source": [
        "# Обучаем"
      ]
    },
    {
      "cell_type": "code",
      "metadata": {
        "id": "OwqBXloc_OnF"
      },
      "source": [
        "class ValueMeter(object):\n",
        "  \"\"\"\n",
        "  Вспомогательный класс, чтобы отслеживать loss и метрику\n",
        "  \"\"\"\n",
        "  def __init__(self):\n",
        "      self.sum = 0\n",
        "      self.total = 0\n",
        "\n",
        "  def add(self, value, n):\n",
        "      self.sum += value*n\n",
        "      self.total += n\n",
        "\n",
        "  def value(self):\n",
        "      return self.sum/self.total\n",
        "\n",
        "def log(mode, epoch, loss_meter, accuracy_meter, best_perf=None):\n",
        "  \"\"\"\n",
        "  Вспомогательная функция, чтобы\n",
        "  \"\"\"\n",
        "  print(\n",
        "      f\"[{mode}] Epoch: {epoch:0.2f}. \"\n",
        "      f\"Loss: {loss_meter.value():.2f}. \"\n",
        "      f\"Accuracy: {100*accuracy_meter.value():.2f}% \", end=\"\\n\")\n",
        "\n",
        "  if best_perf:\n",
        "      print(f\"[best: {best_perf:0.2f}]%\", end=\"\")"
      ],
      "execution_count": null,
      "outputs": []
    },
    {
      "cell_type": "code",
      "metadata": {
        "id": "BQ9bjT-mzzuT"
      },
      "source": [
        "def accuracy(outputs, labels):\n",
        "    preds = torch.round(outputs.squeeze())\n",
        "    # print(preds, labels)\n",
        "    return torch.tensor(torch.sum(preds == labels).item() / len(preds))"
      ],
      "execution_count": null,
      "outputs": []
    },
    {
      "cell_type": "code",
      "metadata": {
        "id": "cF5N9tzm1mO1"
      },
      "source": [
        "def trainval(model, loaders, optimizer, epochs=5):\n",
        "  \"\"\"\n",
        "  model: модель, которую собираемся обучать\n",
        "  loaders: dict с dataloader'ами для обучения и валидации\n",
        "  optimizer: оптимизатор\n",
        "  epochs: число обучающих эпох (сколько раз пройдемся по всему датасету)\n",
        "  \"\"\"\n",
        "  loss_meter = {'training': ValueMeter(), 'validation': ValueMeter()}\n",
        "  accuracy_meter = {'training': ValueMeter(), 'validation': ValueMeter()}\n",
        "\n",
        "  loss_track = {'training': [], 'validation': []}\n",
        "  accuracy_track = {'training': [], 'validation': []}\n",
        "  early_stopper = EarlyStopper(patience=3, min_delta=10)\n",
        "\n",
        "  for epoch in range(epochs): # итерации по эпохам\n",
        "\n",
        "      for mode in ['training', 'validation']: # обучение - валидация\n",
        "          # считаем градиаент только при обучении:\n",
        "          with torch.set_grad_enabled(mode == 'training'):\n",
        "\n",
        "\n",
        "              # в зависимоти от фазы переводим модель в нужный ружим:\n",
        "              model.train() if mode == 'training' else model.eval()\n",
        "\n",
        "\n",
        "              for texts, labels in tqdm(loaders[mode]):\n",
        "                  texts = texts.to(device) # отправляем тензор на GPU\n",
        "                  labels = labels.to(device)\n",
        "                  bs = labels.shape[0]  # размер батча (отличается для последнего батча в лоадере)\n",
        "\n",
        "                  zero_init = torch.zeros(num_layers,bs,hidden_dim).to(device)\n",
        "                  h = tuple([zero_init, zero_init]) # задаем изначальный hidden state модели\n",
        "\n",
        "                  preds = model(texts, h) # forward pass - прогоняем тензор с картинками через модель\n",
        "                  loss = nn.BCELoss()(preds.squeeze(), labels.float())\n",
        "                  loss_f=loss.item()\n",
        "                  loss_meter[mode].add(loss_f, bs)\n",
        "\n",
        "\n",
        "                  #print(loss.item())\n",
        "                  # если мы в фазе обучения\n",
        "\n",
        "                  if mode == 'training':\n",
        "                      optimizer.zero_grad() # обнуляем прошлый градиент\n",
        "                      loss.backward() # делаем backward pass (считаем градиент)\n",
        "                      optimizer.step() # обновляем веса\n",
        "\n",
        "                  #if mode == 'training':\n",
        "                  #    train_loss=loss_meter[mode][:-1]\n",
        "                  if mode == 'validation':\n",
        "                      validation_loss=loss_f\n",
        "                  acc = accuracy(preds, labels) # считаем метрику\n",
        "                  # храним loss и accuracy для батча\n",
        "                  accuracy_meter[mode].add(acc, bs)\n",
        "\n",
        "\n",
        "          # в конце фазы выводим значения loss и accuracy\n",
        "          log(mode, epoch, loss_meter[mode], accuracy_meter[mode])\n",
        "\n",
        "          # сохраняем результаты по всем эпохам\n",
        "          loss_track[mode].append(loss_meter[mode].value())\n",
        "          accuracy_track[mode].append(accuracy_meter[mode].value())\n",
        "\n",
        "      if early_stopper.early_stop(validation_loss):\n",
        "        print(\"early_stop\")\n",
        "        break\n",
        "  return loss_track, accuracy_track"
      ],
      "execution_count": null,
      "outputs": []
    },
    {
      "cell_type": "code",
      "metadata": {
        "id": "k2IGCyQJ9Rc_",
        "colab": {
          "base_uri": "https://localhost:8080/"
        },
        "outputId": "8f062a2d-1172-43ae-c174-fb5135555c50"
      },
      "source": [
        "loss_track, accuracy_track = trainval(model, loaders, optimizer, epochs=30)"
      ],
      "execution_count": null,
      "outputs": [
        {
          "output_type": "stream",
          "name": "stderr",
          "text": [
            "100%|██████████| 79/79 [00:03<00:00, 21.07it/s]\n"
          ]
        },
        {
          "output_type": "stream",
          "name": "stdout",
          "text": [
            "[training] Epoch: 0.00. Loss: 0.60. Accuracy: 66.74% \n"
          ]
        },
        {
          "output_type": "stream",
          "name": "stderr",
          "text": [
            "100%|██████████| 20/20 [00:00<00:00, 36.84it/s]\n"
          ]
        },
        {
          "output_type": "stream",
          "name": "stdout",
          "text": [
            "[validation] Epoch: 0.00. Loss: 0.48. Accuracy: 77.56% \n"
          ]
        },
        {
          "output_type": "stream",
          "name": "stderr",
          "text": [
            "100%|██████████| 79/79 [00:03<00:00, 23.01it/s]\n"
          ]
        },
        {
          "output_type": "stream",
          "name": "stdout",
          "text": [
            "[training] Epoch: 1.00. Loss: 0.53. Accuracy: 73.10% \n"
          ]
        },
        {
          "output_type": "stream",
          "name": "stderr",
          "text": [
            "100%|██████████| 20/20 [00:00<00:00, 40.67it/s]\n"
          ]
        },
        {
          "output_type": "stream",
          "name": "stdout",
          "text": [
            "[validation] Epoch: 1.00. Loss: 0.46. Accuracy: 79.35% \n"
          ]
        },
        {
          "output_type": "stream",
          "name": "stderr",
          "text": [
            "100%|██████████| 79/79 [00:03<00:00, 22.93it/s]\n"
          ]
        },
        {
          "output_type": "stream",
          "name": "stdout",
          "text": [
            "[training] Epoch: 2.00. Loss: 0.49. Accuracy: 76.24% \n"
          ]
        },
        {
          "output_type": "stream",
          "name": "stderr",
          "text": [
            "100%|██████████| 20/20 [00:00<00:00, 41.10it/s]\n"
          ]
        },
        {
          "output_type": "stream",
          "name": "stdout",
          "text": [
            "[validation] Epoch: 2.00. Loss: 0.44. Accuracy: 80.53% \n"
          ]
        },
        {
          "output_type": "stream",
          "name": "stderr",
          "text": [
            "100%|██████████| 79/79 [00:03<00:00, 21.87it/s]\n"
          ]
        },
        {
          "output_type": "stream",
          "name": "stdout",
          "text": [
            "[training] Epoch: 3.00. Loss: 0.45. Accuracy: 78.42% \n"
          ]
        },
        {
          "output_type": "stream",
          "name": "stderr",
          "text": [
            "100%|██████████| 20/20 [00:00<00:00, 32.29it/s]\n"
          ]
        },
        {
          "output_type": "stream",
          "name": "stdout",
          "text": [
            "[validation] Epoch: 3.00. Loss: 0.42. Accuracy: 81.43% \n"
          ]
        },
        {
          "output_type": "stream",
          "name": "stderr",
          "text": [
            "100%|██████████| 79/79 [00:03<00:00, 21.53it/s]\n"
          ]
        },
        {
          "output_type": "stream",
          "name": "stdout",
          "text": [
            "[training] Epoch: 4.00. Loss: 0.43. Accuracy: 79.88% \n"
          ]
        },
        {
          "output_type": "stream",
          "name": "stderr",
          "text": [
            "100%|██████████| 20/20 [00:00<00:00, 30.72it/s]\n"
          ]
        },
        {
          "output_type": "stream",
          "name": "stdout",
          "text": [
            "[validation] Epoch: 4.00. Loss: 0.41. Accuracy: 81.95% \n"
          ]
        },
        {
          "output_type": "stream",
          "name": "stderr",
          "text": [
            "100%|██████████| 79/79 [00:03<00:00, 21.67it/s]\n"
          ]
        },
        {
          "output_type": "stream",
          "name": "stdout",
          "text": [
            "[training] Epoch: 5.00. Loss: 0.41. Accuracy: 81.03% \n"
          ]
        },
        {
          "output_type": "stream",
          "name": "stderr",
          "text": [
            "100%|██████████| 20/20 [00:00<00:00, 40.26it/s]\n"
          ]
        },
        {
          "output_type": "stream",
          "name": "stdout",
          "text": [
            "[validation] Epoch: 5.00. Loss: 0.40. Accuracy: 82.38% \n"
          ]
        },
        {
          "output_type": "stream",
          "name": "stderr",
          "text": [
            "100%|██████████| 79/79 [00:03<00:00, 22.59it/s]\n"
          ]
        },
        {
          "output_type": "stream",
          "name": "stdout",
          "text": [
            "[training] Epoch: 6.00. Loss: 0.40. Accuracy: 81.97% \n"
          ]
        },
        {
          "output_type": "stream",
          "name": "stderr",
          "text": [
            "100%|██████████| 20/20 [00:00<00:00, 31.34it/s]\n"
          ]
        },
        {
          "output_type": "stream",
          "name": "stdout",
          "text": [
            "[validation] Epoch: 6.00. Loss: 0.40. Accuracy: 82.63% \n"
          ]
        },
        {
          "output_type": "stream",
          "name": "stderr",
          "text": [
            "100%|██████████| 79/79 [00:03<00:00, 21.92it/s]\n"
          ]
        },
        {
          "output_type": "stream",
          "name": "stdout",
          "text": [
            "[training] Epoch: 7.00. Loss: 0.38. Accuracy: 82.76% \n"
          ]
        },
        {
          "output_type": "stream",
          "name": "stderr",
          "text": [
            "100%|██████████| 20/20 [00:00<00:00, 42.15it/s]\n"
          ]
        },
        {
          "output_type": "stream",
          "name": "stdout",
          "text": [
            "[validation] Epoch: 7.00. Loss: 0.39. Accuracy: 82.86% \n"
          ]
        },
        {
          "output_type": "stream",
          "name": "stderr",
          "text": [
            "100%|██████████| 79/79 [00:03<00:00, 23.31it/s]\n"
          ]
        },
        {
          "output_type": "stream",
          "name": "stdout",
          "text": [
            "[training] Epoch: 8.00. Loss: 0.37. Accuracy: 83.44% \n"
          ]
        },
        {
          "output_type": "stream",
          "name": "stderr",
          "text": [
            "100%|██████████| 20/20 [00:00<00:00, 41.23it/s]\n"
          ]
        },
        {
          "output_type": "stream",
          "name": "stdout",
          "text": [
            "[validation] Epoch: 8.00. Loss: 0.40. Accuracy: 82.63% \n"
          ]
        },
        {
          "output_type": "stream",
          "name": "stderr",
          "text": [
            "100%|██████████| 79/79 [00:03<00:00, 23.49it/s]\n"
          ]
        },
        {
          "output_type": "stream",
          "name": "stdout",
          "text": [
            "[training] Epoch: 9.00. Loss: 0.36. Accuracy: 84.04% \n"
          ]
        },
        {
          "output_type": "stream",
          "name": "stderr",
          "text": [
            "100%|██████████| 20/20 [00:00<00:00, 41.38it/s]\n"
          ]
        },
        {
          "output_type": "stream",
          "name": "stdout",
          "text": [
            "[validation] Epoch: 9.00. Loss: 0.40. Accuracy: 82.85% \n"
          ]
        },
        {
          "output_type": "stream",
          "name": "stderr",
          "text": [
            "100%|██████████| 79/79 [00:03<00:00, 21.65it/s]\n"
          ]
        },
        {
          "output_type": "stream",
          "name": "stdout",
          "text": [
            "[training] Epoch: 10.00. Loss: 0.35. Accuracy: 84.64% \n"
          ]
        },
        {
          "output_type": "stream",
          "name": "stderr",
          "text": [
            "100%|██████████| 20/20 [00:00<00:00, 35.63it/s]\n"
          ]
        },
        {
          "output_type": "stream",
          "name": "stdout",
          "text": [
            "[validation] Epoch: 10.00. Loss: 0.39. Accuracy: 82.97% \n"
          ]
        },
        {
          "output_type": "stream",
          "name": "stderr",
          "text": [
            "100%|██████████| 79/79 [00:03<00:00, 23.31it/s]\n"
          ]
        },
        {
          "output_type": "stream",
          "name": "stdout",
          "text": [
            "[training] Epoch: 11.00. Loss: 0.34. Accuracy: 85.24% \n"
          ]
        },
        {
          "output_type": "stream",
          "name": "stderr",
          "text": [
            "100%|██████████| 20/20 [00:00<00:00, 40.98it/s]\n"
          ]
        },
        {
          "output_type": "stream",
          "name": "stdout",
          "text": [
            "[validation] Epoch: 11.00. Loss: 0.40. Accuracy: 82.97% \n"
          ]
        },
        {
          "output_type": "stream",
          "name": "stderr",
          "text": [
            "100%|██████████| 79/79 [00:03<00:00, 23.48it/s]\n"
          ]
        },
        {
          "output_type": "stream",
          "name": "stdout",
          "text": [
            "[training] Epoch: 12.00. Loss: 0.33. Accuracy: 85.71% \n"
          ]
        },
        {
          "output_type": "stream",
          "name": "stderr",
          "text": [
            "100%|██████████| 20/20 [00:00<00:00, 40.83it/s]\n"
          ]
        },
        {
          "output_type": "stream",
          "name": "stdout",
          "text": [
            "[validation] Epoch: 12.00. Loss: 0.40. Accuracy: 83.09% \n"
          ]
        },
        {
          "output_type": "stream",
          "name": "stderr",
          "text": [
            "100%|██████████| 79/79 [00:03<00:00, 22.58it/s]\n"
          ]
        },
        {
          "output_type": "stream",
          "name": "stdout",
          "text": [
            "[training] Epoch: 13.00. Loss: 0.32. Accuracy: 86.17% \n"
          ]
        },
        {
          "output_type": "stream",
          "name": "stderr",
          "text": [
            "100%|██████████| 20/20 [00:00<00:00, 32.45it/s]\n"
          ]
        },
        {
          "output_type": "stream",
          "name": "stdout",
          "text": [
            "[validation] Epoch: 13.00. Loss: 0.41. Accuracy: 83.18% \n"
          ]
        },
        {
          "output_type": "stream",
          "name": "stderr",
          "text": [
            "100%|██████████| 79/79 [00:03<00:00, 22.35it/s]\n"
          ]
        },
        {
          "output_type": "stream",
          "name": "stdout",
          "text": [
            "[training] Epoch: 14.00. Loss: 0.31. Accuracy: 86.60% \n"
          ]
        },
        {
          "output_type": "stream",
          "name": "stderr",
          "text": [
            "100%|██████████| 20/20 [00:00<00:00, 41.38it/s]\n"
          ]
        },
        {
          "output_type": "stream",
          "name": "stdout",
          "text": [
            "[validation] Epoch: 14.00. Loss: 0.41. Accuracy: 83.24% \n"
          ]
        },
        {
          "output_type": "stream",
          "name": "stderr",
          "text": [
            "100%|██████████| 79/79 [00:03<00:00, 23.40it/s]\n"
          ]
        },
        {
          "output_type": "stream",
          "name": "stdout",
          "text": [
            "[training] Epoch: 15.00. Loss: 0.30. Accuracy: 87.07% \n"
          ]
        },
        {
          "output_type": "stream",
          "name": "stderr",
          "text": [
            "100%|██████████| 20/20 [00:00<00:00, 41.51it/s]\n"
          ]
        },
        {
          "output_type": "stream",
          "name": "stdout",
          "text": [
            "[validation] Epoch: 15.00. Loss: 0.41. Accuracy: 83.20% \n"
          ]
        },
        {
          "output_type": "stream",
          "name": "stderr",
          "text": [
            "100%|██████████| 79/79 [00:03<00:00, 23.39it/s]\n"
          ]
        },
        {
          "output_type": "stream",
          "name": "stdout",
          "text": [
            "[training] Epoch: 16.00. Loss: 0.29. Accuracy: 87.35% \n"
          ]
        },
        {
          "output_type": "stream",
          "name": "stderr",
          "text": [
            "100%|██████████| 20/20 [00:00<00:00, 35.77it/s]\n"
          ]
        },
        {
          "output_type": "stream",
          "name": "stdout",
          "text": [
            "[validation] Epoch: 16.00. Loss: 0.42. Accuracy: 83.23% \n"
          ]
        },
        {
          "output_type": "stream",
          "name": "stderr",
          "text": [
            "100%|██████████| 79/79 [00:03<00:00, 21.47it/s]\n"
          ]
        },
        {
          "output_type": "stream",
          "name": "stdout",
          "text": [
            "[training] Epoch: 17.00. Loss: 0.28. Accuracy: 87.75% \n"
          ]
        },
        {
          "output_type": "stream",
          "name": "stderr",
          "text": [
            "100%|██████████| 20/20 [00:00<00:00, 40.94it/s]\n"
          ]
        },
        {
          "output_type": "stream",
          "name": "stdout",
          "text": [
            "[validation] Epoch: 17.00. Loss: 0.42. Accuracy: 83.29% \n"
          ]
        },
        {
          "output_type": "stream",
          "name": "stderr",
          "text": [
            "100%|██████████| 79/79 [00:03<00:00, 23.04it/s]\n"
          ]
        },
        {
          "output_type": "stream",
          "name": "stdout",
          "text": [
            "[training] Epoch: 18.00. Loss: 0.28. Accuracy: 88.19% \n"
          ]
        },
        {
          "output_type": "stream",
          "name": "stderr",
          "text": [
            "100%|██████████| 20/20 [00:00<00:00, 40.75it/s]\n"
          ]
        },
        {
          "output_type": "stream",
          "name": "stdout",
          "text": [
            "[validation] Epoch: 18.00. Loss: 0.43. Accuracy: 83.32% \n"
          ]
        },
        {
          "output_type": "stream",
          "name": "stderr",
          "text": [
            "100%|██████████| 79/79 [00:03<00:00, 23.02it/s]\n"
          ]
        },
        {
          "output_type": "stream",
          "name": "stdout",
          "text": [
            "[training] Epoch: 19.00. Loss: 0.27. Accuracy: 88.61% \n"
          ]
        },
        {
          "output_type": "stream",
          "name": "stderr",
          "text": [
            "100%|██████████| 20/20 [00:00<00:00, 40.01it/s]\n"
          ]
        },
        {
          "output_type": "stream",
          "name": "stdout",
          "text": [
            "[validation] Epoch: 19.00. Loss: 0.44. Accuracy: 83.31% \n"
          ]
        },
        {
          "output_type": "stream",
          "name": "stderr",
          "text": [
            "100%|██████████| 79/79 [00:03<00:00, 21.59it/s]\n"
          ]
        },
        {
          "output_type": "stream",
          "name": "stdout",
          "text": [
            "[training] Epoch: 20.00. Loss: 0.26. Accuracy: 88.97% \n"
          ]
        },
        {
          "output_type": "stream",
          "name": "stderr",
          "text": [
            "100%|██████████| 20/20 [00:00<00:00, 31.69it/s]\n"
          ]
        },
        {
          "output_type": "stream",
          "name": "stdout",
          "text": [
            "[validation] Epoch: 20.00. Loss: 0.44. Accuracy: 83.33% \n"
          ]
        },
        {
          "output_type": "stream",
          "name": "stderr",
          "text": [
            "100%|██████████| 79/79 [00:03<00:00, 22.29it/s]\n"
          ]
        },
        {
          "output_type": "stream",
          "name": "stdout",
          "text": [
            "[training] Epoch: 21.00. Loss: 0.25. Accuracy: 89.34% \n"
          ]
        },
        {
          "output_type": "stream",
          "name": "stderr",
          "text": [
            "100%|██████████| 20/20 [00:00<00:00, 38.13it/s]\n"
          ]
        },
        {
          "output_type": "stream",
          "name": "stdout",
          "text": [
            "[validation] Epoch: 21.00. Loss: 0.45. Accuracy: 83.31% \n"
          ]
        },
        {
          "output_type": "stream",
          "name": "stderr",
          "text": [
            "100%|██████████| 79/79 [00:03<00:00, 22.84it/s]\n"
          ]
        },
        {
          "output_type": "stream",
          "name": "stdout",
          "text": [
            "[training] Epoch: 22.00. Loss: 0.24. Accuracy: 89.71% \n"
          ]
        },
        {
          "output_type": "stream",
          "name": "stderr",
          "text": [
            "100%|██████████| 20/20 [00:00<00:00, 40.29it/s]\n"
          ]
        },
        {
          "output_type": "stream",
          "name": "stdout",
          "text": [
            "[validation] Epoch: 22.00. Loss: 0.46. Accuracy: 83.30% \n"
          ]
        },
        {
          "output_type": "stream",
          "name": "stderr",
          "text": [
            "100%|██████████| 79/79 [00:03<00:00, 21.99it/s]\n"
          ]
        },
        {
          "output_type": "stream",
          "name": "stdout",
          "text": [
            "[training] Epoch: 23.00. Loss: 0.23. Accuracy: 90.06% \n"
          ]
        },
        {
          "output_type": "stream",
          "name": "stderr",
          "text": [
            "100%|██████████| 20/20 [00:00<00:00, 30.53it/s]\n"
          ]
        },
        {
          "output_type": "stream",
          "name": "stdout",
          "text": [
            "[validation] Epoch: 23.00. Loss: 0.48. Accuracy: 83.28% \n"
          ]
        },
        {
          "output_type": "stream",
          "name": "stderr",
          "text": [
            "100%|██████████| 79/79 [00:03<00:00, 21.87it/s]\n"
          ]
        },
        {
          "output_type": "stream",
          "name": "stdout",
          "text": [
            "[training] Epoch: 24.00. Loss: 0.23. Accuracy: 90.38% \n"
          ]
        },
        {
          "output_type": "stream",
          "name": "stderr",
          "text": [
            "100%|██████████| 20/20 [00:00<00:00, 39.85it/s]\n"
          ]
        },
        {
          "output_type": "stream",
          "name": "stdout",
          "text": [
            "[validation] Epoch: 24.00. Loss: 0.49. Accuracy: 83.24% \n"
          ]
        },
        {
          "output_type": "stream",
          "name": "stderr",
          "text": [
            "100%|██████████| 79/79 [00:03<00:00, 22.68it/s]\n"
          ]
        },
        {
          "output_type": "stream",
          "name": "stdout",
          "text": [
            "[training] Epoch: 25.00. Loss: 0.22. Accuracy: 90.68% \n"
          ]
        },
        {
          "output_type": "stream",
          "name": "stderr",
          "text": [
            "100%|██████████| 20/20 [00:00<00:00, 40.74it/s]\n"
          ]
        },
        {
          "output_type": "stream",
          "name": "stdout",
          "text": [
            "[validation] Epoch: 25.00. Loss: 0.50. Accuracy: 83.24% \n"
          ]
        },
        {
          "output_type": "stream",
          "name": "stderr",
          "text": [
            "100%|██████████| 79/79 [00:03<00:00, 22.83it/s]\n"
          ]
        },
        {
          "output_type": "stream",
          "name": "stdout",
          "text": [
            "[training] Epoch: 26.00. Loss: 0.21. Accuracy: 90.97% \n"
          ]
        },
        {
          "output_type": "stream",
          "name": "stderr",
          "text": [
            "100%|██████████| 20/20 [00:00<00:00, 35.22it/s]\n"
          ]
        },
        {
          "output_type": "stream",
          "name": "stdout",
          "text": [
            "[validation] Epoch: 26.00. Loss: 0.52. Accuracy: 83.12% \n"
          ]
        },
        {
          "output_type": "stream",
          "name": "stderr",
          "text": [
            "100%|██████████| 79/79 [00:03<00:00, 20.89it/s]\n"
          ]
        },
        {
          "output_type": "stream",
          "name": "stdout",
          "text": [
            "[training] Epoch: 27.00. Loss: 0.21. Accuracy: 91.21% \n"
          ]
        },
        {
          "output_type": "stream",
          "name": "stderr",
          "text": [
            "100%|██████████| 20/20 [00:00<00:00, 30.36it/s]\n"
          ]
        },
        {
          "output_type": "stream",
          "name": "stdout",
          "text": [
            "[validation] Epoch: 27.00. Loss: 0.53. Accuracy: 83.12% \n"
          ]
        },
        {
          "output_type": "stream",
          "name": "stderr",
          "text": [
            "100%|██████████| 79/79 [00:03<00:00, 21.80it/s]\n"
          ]
        },
        {
          "output_type": "stream",
          "name": "stdout",
          "text": [
            "[training] Epoch: 28.00. Loss: 0.20. Accuracy: 91.49% \n"
          ]
        },
        {
          "output_type": "stream",
          "name": "stderr",
          "text": [
            "100%|██████████| 20/20 [00:00<00:00, 41.13it/s]\n"
          ]
        },
        {
          "output_type": "stream",
          "name": "stdout",
          "text": [
            "[validation] Epoch: 28.00. Loss: 0.54. Accuracy: 83.09% \n"
          ]
        },
        {
          "output_type": "stream",
          "name": "stderr",
          "text": [
            "100%|██████████| 79/79 [00:03<00:00, 21.30it/s]\n"
          ]
        },
        {
          "output_type": "stream",
          "name": "stdout",
          "text": [
            "[training] Epoch: 29.00. Loss: 0.20. Accuracy: 91.74% \n"
          ]
        },
        {
          "output_type": "stream",
          "name": "stderr",
          "text": [
            "100%|██████████| 20/20 [00:00<00:00, 24.73it/s]"
          ]
        },
        {
          "output_type": "stream",
          "name": "stdout",
          "text": [
            "[validation] Epoch: 29.00. Loss: 0.55. Accuracy: 83.02% \n"
          ]
        },
        {
          "output_type": "stream",
          "name": "stderr",
          "text": [
            "\n"
          ]
        }
      ]
    },
    {
      "cell_type": "markdown",
      "metadata": {
        "id": "ivqKZ-YB5hxf"
      },
      "source": [
        "# Смотрим результаты"
      ]
    },
    {
      "cell_type": "code",
      "metadata": {
        "id": "uRxLVjA8A8rE",
        "colab": {
          "base_uri": "https://localhost:8080/",
          "height": 467
        },
        "outputId": "f46e6f84-ea80-4912-d08b-b92c106d6925"
      },
      "source": [
        "from matplotlib import pyplot as plt\n",
        "%matplotlib inline\n",
        "plt.plot(accuracy_track['training'], label='train')\n",
        "plt.plot(accuracy_track['validation'], label='val')\n",
        "plt.ylabel('accuracy')\n",
        "plt.xlabel('epoch')\n",
        "plt.grid()\n",
        "plt.legend()"
      ],
      "execution_count": null,
      "outputs": [
        {
          "output_type": "execute_result",
          "data": {
            "text/plain": [
              "<matplotlib.legend.Legend at 0x7fda140fb6a0>"
            ]
          },
          "metadata": {},
          "execution_count": 80
        },
        {
          "output_type": "display_data",
          "data": {
            "text/plain": [
              "<Figure size 640x480 with 1 Axes>"
            ],
            "image/png": "[encoded data removed]"
          },
          "metadata": {}
        }
      ]
    },
    {
      "cell_type": "code",
      "metadata": {
        "id": "wOxpEHpsBPkM",
        "colab": {
          "base_uri": "https://localhost:8080/",
          "height": 467
        },
        "outputId": "6e9b5d1e-14dd-4ec0-c7fe-acdfeaec61c9"
      },
      "source": [
        "plt.plot(loss_track['training'], label='train')\n",
        "plt.plot(loss_track['validation'], label='val')\n",
        "plt.ylabel('loss')\n",
        "plt.xlabel('epoch')\n",
        "plt.grid()\n",
        "plt.legend()"
      ],
      "execution_count": null,
      "outputs": [
        {
          "output_type": "execute_result",
          "data": {
            "text/plain": [
              "<matplotlib.legend.Legend at 0x7fd922e01510>"
            ]
          },
          "metadata": {},
          "execution_count": 81
        },
        {
          "output_type": "display_data",
          "data": {
            "text/plain": [
              "<Figure size 640x480 with 1 Axes>"
            ],
            "image/png": "[encoded data removed]"
          },
          "metadata": {}
        }
      ]
    },
    {
      "cell_type": "code",
      "metadata": {
        "id": "TOa2RzMYZ-VH",
        "colab": {
          "base_uri": "https://localhost:8080/"
        },
        "outputId": "d06b231a-6db4-47f9-8620-c1bb44913616"
      },
      "source": [
        "def predict(model, review, seq_length = 200):\n",
        "    print(review)\n",
        "    device = \"cuda\" if torch.cuda.is_available() else \"cpu\"\n",
        "\n",
        "    _, words = preprocess(review.lower())\n",
        "    encoded_words = [vocab_to_int[word] for word in words if word in vocab_to_int.keys()]\n",
        "    padded_words = pad_text([encoded_words], seq_length)\n",
        "    padded_words = torch.from_numpy(padded_words).to(device)\n",
        "    bs=1\n",
        "    model.eval()\n",
        "    zero_init = torch.zeros(num_layers,bs,hidden_dim).to(device)\n",
        "    h = tuple([zero_init, zero_init])\n",
        "    output = model(padded_words, h)\n",
        "    pred = torch.round(output.squeeze())\n",
        "    out = \"This is a positive review.\" if pred == 1 else \"This is a negative review.\"\n",
        "    print(out, '\\n')\n",
        "\n",
        "\n",
        "review1 = \"Twin Peaks is a very good film to watch with a family. Even five year old child will understand David Lynch masterpiece\"\n",
        "review2 = \"It made me cry\"\n",
        "review3 = \"It made me cry - I never seen such an awful acting before\"\n",
        "review4 = \"Vulgarity. Ringing vulgarity\"\n",
        "review5 = \"Awful\"\n",
        "\n",
        "predict(model, review1)\n",
        "predict(model, review2)\n",
        "predict(model, review3)\n",
        "predict(model, review4)\n",
        "predict(model, review5)"
      ],
      "execution_count": null,
      "outputs": [
        {
          "output_type": "stream",
          "name": "stdout",
          "text": [
            "Twin Peaks is a very good film to watch with a family. Even five year old child will understand David Lynch masterpiece\n",
            "This is a positive review. \n",
            "\n",
            "It made me cry\n",
            "This is a negative review. \n",
            "\n",
            "It made me cry - I never seen such an awful acting before\n",
            "This is a negative review. \n",
            "\n",
            "Vulgarity. Ringing vulgarity\n",
            "This is a negative review. \n",
            "\n",
            "Awful\n",
            "This is a negative review. \n",
            "\n"
          ]
        }
      ]
    }
  ]
}